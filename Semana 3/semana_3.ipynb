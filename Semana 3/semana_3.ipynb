{
 "cells": [
  {
   "cell_type": "markdown",
   "metadata": {},
   "source": [
    "# Aceleradev Codenation - Semana 3\n",
    "## Túlio Vieira de Souza | Data Scientist"
   ]
  },
  {
   "cell_type": "markdown",
   "metadata": {},
   "source": [
    "dados : https://www.kaggle.com/rubenssjr/brasilian-houses-to-rent"
   ]
  },
  {
   "cell_type": "markdown",
   "metadata": {},
   "source": [
    "Colunas \n",
    "\n",
    "- city : Cidade onde o imóvel está localizada / City where the property is located\n",
    "- area : Area do imovel / Property area\n",
    "- rooms: Numero de quartos/ Quantity of rooms\n",
    "- bathroom: Numero de banheiros / Quantity of bathroom\n",
    "- parking spaces : Numero de vagas / Quantity of parking spaces\n",
    "- floor : Andar / Floor\n",
    "- animal : Aceita animais? / Acept animals?\n",
    "- furniture : Mobilhada? / Furniture?\n",
    "- hoa (RS): Valor do condomínio / Homeowners association tax \n",
    "- rent amount (RS) : Valor do Aluguel (/) Rent amount \n",
    "- property tax (RS) : IPTU (/) Property tax\n",
    "- fire insurance (RS) : Seguro Incendio / Fire Insurance\n",
    "- total (RS) : Valor total / Total"
   ]
  },
  {
   "cell_type": "markdown",
   "metadata": {},
   "source": [
    "### Importando os pacotes"
   ]
  },
  {
   "cell_type": "code",
   "execution_count": 35,
   "metadata": {},
   "outputs": [],
   "source": [
    "import pandas as pd"
   ]
  },
  {
   "cell_type": "code",
   "execution_count": 36,
   "metadata": {},
   "outputs": [],
   "source": [
    "df = pd.read_csv('houses_to_rent_v2.csv')"
   ]
  },
  {
   "cell_type": "code",
   "execution_count": 37,
   "metadata": {},
   "outputs": [
    {
     "output_type": "execute_result",
     "data": {
      "text/plain": "           city  area  rooms  bathroom  parking spaces floor     animal  \\\n0     São Paulo    70      2         1               1     7      acept   \n1     São Paulo   320      4         4               0    20      acept   \n2  Porto Alegre    80      1         1               1     6      acept   \n3  Porto Alegre    51      2         1               0     2      acept   \n4     São Paulo    25      1         1               0     1  not acept   \n\n       furniture  hoa (R$)  rent amount (R$)  property tax (R$)  \\\n0      furnished      2065              3300                211   \n1  not furnished      1200              4960               1750   \n2  not furnished      1000              2800                  0   \n3  not furnished       270              1112                 22   \n4  not furnished         0               800                 25   \n\n   fire insurance (R$)  total (R$)  \n0                   42        5618  \n1                   63        7973  \n2                   41        3841  \n3                   17        1421  \n4                   11         836  ",
      "text/html": "<div>\n<style scoped>\n    .dataframe tbody tr th:only-of-type {\n        vertical-align: middle;\n    }\n\n    .dataframe tbody tr th {\n        vertical-align: top;\n    }\n\n    .dataframe thead th {\n        text-align: right;\n    }\n</style>\n<table border=\"1\" class=\"dataframe\">\n  <thead>\n    <tr style=\"text-align: right;\">\n      <th></th>\n      <th>city</th>\n      <th>area</th>\n      <th>rooms</th>\n      <th>bathroom</th>\n      <th>parking spaces</th>\n      <th>floor</th>\n      <th>animal</th>\n      <th>furniture</th>\n      <th>hoa (R$)</th>\n      <th>rent amount (R$)</th>\n      <th>property tax (R$)</th>\n      <th>fire insurance (R$)</th>\n      <th>total (R$)</th>\n    </tr>\n  </thead>\n  <tbody>\n    <tr>\n      <th>0</th>\n      <td>São Paulo</td>\n      <td>70</td>\n      <td>2</td>\n      <td>1</td>\n      <td>1</td>\n      <td>7</td>\n      <td>acept</td>\n      <td>furnished</td>\n      <td>2065</td>\n      <td>3300</td>\n      <td>211</td>\n      <td>42</td>\n      <td>5618</td>\n    </tr>\n    <tr>\n      <th>1</th>\n      <td>São Paulo</td>\n      <td>320</td>\n      <td>4</td>\n      <td>4</td>\n      <td>0</td>\n      <td>20</td>\n      <td>acept</td>\n      <td>not furnished</td>\n      <td>1200</td>\n      <td>4960</td>\n      <td>1750</td>\n      <td>63</td>\n      <td>7973</td>\n    </tr>\n    <tr>\n      <th>2</th>\n      <td>Porto Alegre</td>\n      <td>80</td>\n      <td>1</td>\n      <td>1</td>\n      <td>1</td>\n      <td>6</td>\n      <td>acept</td>\n      <td>not furnished</td>\n      <td>1000</td>\n      <td>2800</td>\n      <td>0</td>\n      <td>41</td>\n      <td>3841</td>\n    </tr>\n    <tr>\n      <th>3</th>\n      <td>Porto Alegre</td>\n      <td>51</td>\n      <td>2</td>\n      <td>1</td>\n      <td>0</td>\n      <td>2</td>\n      <td>acept</td>\n      <td>not furnished</td>\n      <td>270</td>\n      <td>1112</td>\n      <td>22</td>\n      <td>17</td>\n      <td>1421</td>\n    </tr>\n    <tr>\n      <th>4</th>\n      <td>São Paulo</td>\n      <td>25</td>\n      <td>1</td>\n      <td>1</td>\n      <td>0</td>\n      <td>1</td>\n      <td>not acept</td>\n      <td>not furnished</td>\n      <td>0</td>\n      <td>800</td>\n      <td>25</td>\n      <td>11</td>\n      <td>836</td>\n    </tr>\n  </tbody>\n</table>\n</div>"
     },
     "metadata": {},
     "execution_count": 37
    }
   ],
   "source": [
    "df.head(5)"
   ]
  },
  {
   "cell_type": "code",
   "execution_count": 38,
   "metadata": {},
   "outputs": [
    {
     "output_type": "execute_result",
     "data": {
      "text/plain": "city                   object\narea                    int64\nrooms                   int64\nbathroom                int64\nparking spaces          int64\nfloor                  object\nanimal                 object\nfurniture              object\nhoa (R$)                int64\nrent amount (R$)        int64\nproperty tax (R$)       int64\nfire insurance (R$)     int64\ntotal (R$)              int64\ndtype: object"
     },
     "metadata": {},
     "execution_count": 38
    }
   ],
   "source": [
    "df.dtypes"
   ]
  },
  {
   "cell_type": "code",
   "execution_count": 39,
   "metadata": {
    "collapsed": true,
    "tags": []
   },
   "outputs": [
    {
     "output_type": "stream",
     "name": "stdout",
     "text": "<class 'pandas.core.frame.DataFrame'>\nRangeIndex: 10692 entries, 0 to 10691\nData columns (total 13 columns):\n #   Column               Non-Null Count  Dtype \n---  ------               --------------  ----- \n 0   city                 10692 non-null  object\n 1   area                 10692 non-null  int64 \n 2   rooms                10692 non-null  int64 \n 3   bathroom             10692 non-null  int64 \n 4   parking spaces       10692 non-null  int64 \n 5   floor                10692 non-null  object\n 6   animal               10692 non-null  object\n 7   furniture            10692 non-null  object\n 8   hoa (R$)             10692 non-null  int64 \n 9   rent amount (R$)     10692 non-null  int64 \n 10  property tax (R$)    10692 non-null  int64 \n 11  fire insurance (R$)  10692 non-null  int64 \n 12  total (R$)           10692 non-null  int64 \ndtypes: int64(9), object(4)\nmemory usage: 1.1+ MB\n"
    }
   ],
   "source": [
    "inf = df.info()"
   ]
  },
  {
   "cell_type": "code",
   "execution_count": 40,
   "metadata": {},
   "outputs": [
    {
     "output_type": "execute_result",
     "data": {
      "text/plain": "               area         rooms      bathroom  parking spaces      hoa (R$)  \\\ncount  10692.000000  10692.000000  10692.000000    10692.000000  1.069200e+04   \nmean     149.217920      2.506079      2.236813        1.609147  1.174022e+03   \nstd      537.016942      1.171266      1.407198        1.589521  1.559231e+04   \nmin       11.000000      1.000000      1.000000        0.000000  0.000000e+00   \n25%       56.000000      2.000000      1.000000        0.000000  1.700000e+02   \n50%       90.000000      2.000000      2.000000        1.000000  5.600000e+02   \n75%      182.000000      3.000000      3.000000        2.000000  1.237500e+03   \nmax    46335.000000     13.000000     10.000000       12.000000  1.117000e+06   \n\n       rent amount (R$)  property tax (R$)  fire insurance (R$)    total (R$)  \ncount      10692.000000       10692.000000         10692.000000  1.069200e+04  \nmean        3896.247194         366.704358            53.300879  5.490487e+03  \nstd         3408.545518        3107.832321            47.768031  1.648473e+04  \nmin          450.000000           0.000000             3.000000  4.990000e+02  \n25%         1530.000000          38.000000            21.000000  2.061750e+03  \n50%         2661.000000         125.000000            36.000000  3.581500e+03  \n75%         5000.000000         375.000000            68.000000  6.768000e+03  \nmax        45000.000000      313700.000000           677.000000  1.120000e+06  ",
      "text/html": "<div>\n<style scoped>\n    .dataframe tbody tr th:only-of-type {\n        vertical-align: middle;\n    }\n\n    .dataframe tbody tr th {\n        vertical-align: top;\n    }\n\n    .dataframe thead th {\n        text-align: right;\n    }\n</style>\n<table border=\"1\" class=\"dataframe\">\n  <thead>\n    <tr style=\"text-align: right;\">\n      <th></th>\n      <th>area</th>\n      <th>rooms</th>\n      <th>bathroom</th>\n      <th>parking spaces</th>\n      <th>hoa (R$)</th>\n      <th>rent amount (R$)</th>\n      <th>property tax (R$)</th>\n      <th>fire insurance (R$)</th>\n      <th>total (R$)</th>\n    </tr>\n  </thead>\n  <tbody>\n    <tr>\n      <th>count</th>\n      <td>10692.000000</td>\n      <td>10692.000000</td>\n      <td>10692.000000</td>\n      <td>10692.000000</td>\n      <td>1.069200e+04</td>\n      <td>10692.000000</td>\n      <td>10692.000000</td>\n      <td>10692.000000</td>\n      <td>1.069200e+04</td>\n    </tr>\n    <tr>\n      <th>mean</th>\n      <td>149.217920</td>\n      <td>2.506079</td>\n      <td>2.236813</td>\n      <td>1.609147</td>\n      <td>1.174022e+03</td>\n      <td>3896.247194</td>\n      <td>366.704358</td>\n      <td>53.300879</td>\n      <td>5.490487e+03</td>\n    </tr>\n    <tr>\n      <th>std</th>\n      <td>537.016942</td>\n      <td>1.171266</td>\n      <td>1.407198</td>\n      <td>1.589521</td>\n      <td>1.559231e+04</td>\n      <td>3408.545518</td>\n      <td>3107.832321</td>\n      <td>47.768031</td>\n      <td>1.648473e+04</td>\n    </tr>\n    <tr>\n      <th>min</th>\n      <td>11.000000</td>\n      <td>1.000000</td>\n      <td>1.000000</td>\n      <td>0.000000</td>\n      <td>0.000000e+00</td>\n      <td>450.000000</td>\n      <td>0.000000</td>\n      <td>3.000000</td>\n      <td>4.990000e+02</td>\n    </tr>\n    <tr>\n      <th>25%</th>\n      <td>56.000000</td>\n      <td>2.000000</td>\n      <td>1.000000</td>\n      <td>0.000000</td>\n      <td>1.700000e+02</td>\n      <td>1530.000000</td>\n      <td>38.000000</td>\n      <td>21.000000</td>\n      <td>2.061750e+03</td>\n    </tr>\n    <tr>\n      <th>50%</th>\n      <td>90.000000</td>\n      <td>2.000000</td>\n      <td>2.000000</td>\n      <td>1.000000</td>\n      <td>5.600000e+02</td>\n      <td>2661.000000</td>\n      <td>125.000000</td>\n      <td>36.000000</td>\n      <td>3.581500e+03</td>\n    </tr>\n    <tr>\n      <th>75%</th>\n      <td>182.000000</td>\n      <td>3.000000</td>\n      <td>3.000000</td>\n      <td>2.000000</td>\n      <td>1.237500e+03</td>\n      <td>5000.000000</td>\n      <td>375.000000</td>\n      <td>68.000000</td>\n      <td>6.768000e+03</td>\n    </tr>\n    <tr>\n      <th>max</th>\n      <td>46335.000000</td>\n      <td>13.000000</td>\n      <td>10.000000</td>\n      <td>12.000000</td>\n      <td>1.117000e+06</td>\n      <td>45000.000000</td>\n      <td>313700.000000</td>\n      <td>677.000000</td>\n      <td>1.120000e+06</td>\n    </tr>\n  </tbody>\n</table>\n</div>"
     },
     "metadata": {},
     "execution_count": 40
    }
   ],
   "source": [
    "df.describe()"
   ]
  },
  {
   "cell_type": "code",
   "execution_count": 41,
   "metadata": {},
   "outputs": [
    {
     "output_type": "execute_result",
     "data": {
      "text/plain": "                      types  NA #  NA %\ncity                 object     0   0.0\narea                  int64     0   0.0\nrooms                 int64     0   0.0\nbathroom              int64     0   0.0\nparking spaces        int64     0   0.0\nfloor                object     0   0.0\nanimal               object     0   0.0\nfurniture            object     0   0.0\nhoa (R$)              int64     0   0.0\nrent amount (R$)      int64     0   0.0\nproperty tax (R$)     int64     0   0.0\nfire insurance (R$)   int64     0   0.0\ntotal (R$)            int64     0   0.0",
      "text/html": "<div>\n<style scoped>\n    .dataframe tbody tr th:only-of-type {\n        vertical-align: middle;\n    }\n\n    .dataframe tbody tr th {\n        vertical-align: top;\n    }\n\n    .dataframe thead th {\n        text-align: right;\n    }\n</style>\n<table border=\"1\" class=\"dataframe\">\n  <thead>\n    <tr style=\"text-align: right;\">\n      <th></th>\n      <th>types</th>\n      <th>NA #</th>\n      <th>NA %</th>\n    </tr>\n  </thead>\n  <tbody>\n    <tr>\n      <th>city</th>\n      <td>object</td>\n      <td>0</td>\n      <td>0.0</td>\n    </tr>\n    <tr>\n      <th>area</th>\n      <td>int64</td>\n      <td>0</td>\n      <td>0.0</td>\n    </tr>\n    <tr>\n      <th>rooms</th>\n      <td>int64</td>\n      <td>0</td>\n      <td>0.0</td>\n    </tr>\n    <tr>\n      <th>bathroom</th>\n      <td>int64</td>\n      <td>0</td>\n      <td>0.0</td>\n    </tr>\n    <tr>\n      <th>parking spaces</th>\n      <td>int64</td>\n      <td>0</td>\n      <td>0.0</td>\n    </tr>\n    <tr>\n      <th>floor</th>\n      <td>object</td>\n      <td>0</td>\n      <td>0.0</td>\n    </tr>\n    <tr>\n      <th>animal</th>\n      <td>object</td>\n      <td>0</td>\n      <td>0.0</td>\n    </tr>\n    <tr>\n      <th>furniture</th>\n      <td>object</td>\n      <td>0</td>\n      <td>0.0</td>\n    </tr>\n    <tr>\n      <th>hoa (R$)</th>\n      <td>int64</td>\n      <td>0</td>\n      <td>0.0</td>\n    </tr>\n    <tr>\n      <th>rent amount (R$)</th>\n      <td>int64</td>\n      <td>0</td>\n      <td>0.0</td>\n    </tr>\n    <tr>\n      <th>property tax (R$)</th>\n      <td>int64</td>\n      <td>0</td>\n      <td>0.0</td>\n    </tr>\n    <tr>\n      <th>fire insurance (R$)</th>\n      <td>int64</td>\n      <td>0</td>\n      <td>0.0</td>\n    </tr>\n    <tr>\n      <th>total (R$)</th>\n      <td>int64</td>\n      <td>0</td>\n      <td>0.0</td>\n    </tr>\n  </tbody>\n</table>\n</div>"
     },
     "metadata": {},
     "execution_count": 41
    }
   ],
   "source": [
    "exploration = pd.DataFrame({'types': df.dtypes, \n",
    "                            'NA #': df.isna().sum(), \n",
    "                            'NA %': (df.isna().sum()/\n",
    "                                    df.shape[0]*100)})\n",
    "exploration"
   ]
  },
  {
   "cell_type": "code",
   "execution_count": 42,
   "metadata": {},
   "outputs": [
    {
     "output_type": "execute_result",
     "data": {
      "text/plain": "                   name   types  NA #  NA %\n0                  city  object     0   0.0\n1                  area   int64     0   0.0\n2                 rooms   int64     0   0.0\n3              bathroom   int64     0   0.0\n4        parking spaces   int64     0   0.0\n5                 floor  object     0   0.0\n6                animal  object     0   0.0\n7             furniture  object     0   0.0\n8              hoa (R$)   int64     0   0.0\n9      rent amount (R$)   int64     0   0.0\n10    property tax (R$)   int64     0   0.0\n11  fire insurance (R$)   int64     0   0.0\n12           total (R$)   int64     0   0.0",
      "text/html": "<div>\n<style scoped>\n    .dataframe tbody tr th:only-of-type {\n        vertical-align: middle;\n    }\n\n    .dataframe tbody tr th {\n        vertical-align: top;\n    }\n\n    .dataframe thead th {\n        text-align: right;\n    }\n</style>\n<table border=\"1\" class=\"dataframe\">\n  <thead>\n    <tr style=\"text-align: right;\">\n      <th></th>\n      <th>name</th>\n      <th>types</th>\n      <th>NA #</th>\n      <th>NA %</th>\n    </tr>\n  </thead>\n  <tbody>\n    <tr>\n      <th>0</th>\n      <td>city</td>\n      <td>object</td>\n      <td>0</td>\n      <td>0.0</td>\n    </tr>\n    <tr>\n      <th>1</th>\n      <td>area</td>\n      <td>int64</td>\n      <td>0</td>\n      <td>0.0</td>\n    </tr>\n    <tr>\n      <th>2</th>\n      <td>rooms</td>\n      <td>int64</td>\n      <td>0</td>\n      <td>0.0</td>\n    </tr>\n    <tr>\n      <th>3</th>\n      <td>bathroom</td>\n      <td>int64</td>\n      <td>0</td>\n      <td>0.0</td>\n    </tr>\n    <tr>\n      <th>4</th>\n      <td>parking spaces</td>\n      <td>int64</td>\n      <td>0</td>\n      <td>0.0</td>\n    </tr>\n    <tr>\n      <th>5</th>\n      <td>floor</td>\n      <td>object</td>\n      <td>0</td>\n      <td>0.0</td>\n    </tr>\n    <tr>\n      <th>6</th>\n      <td>animal</td>\n      <td>object</td>\n      <td>0</td>\n      <td>0.0</td>\n    </tr>\n    <tr>\n      <th>7</th>\n      <td>furniture</td>\n      <td>object</td>\n      <td>0</td>\n      <td>0.0</td>\n    </tr>\n    <tr>\n      <th>8</th>\n      <td>hoa (R$)</td>\n      <td>int64</td>\n      <td>0</td>\n      <td>0.0</td>\n    </tr>\n    <tr>\n      <th>9</th>\n      <td>rent amount (R$)</td>\n      <td>int64</td>\n      <td>0</td>\n      <td>0.0</td>\n    </tr>\n    <tr>\n      <th>10</th>\n      <td>property tax (R$)</td>\n      <td>int64</td>\n      <td>0</td>\n      <td>0.0</td>\n    </tr>\n    <tr>\n      <th>11</th>\n      <td>fire insurance (R$)</td>\n      <td>int64</td>\n      <td>0</td>\n      <td>0.0</td>\n    </tr>\n    <tr>\n      <th>12</th>\n      <td>total (R$)</td>\n      <td>int64</td>\n      <td>0</td>\n      <td>0.0</td>\n    </tr>\n  </tbody>\n</table>\n</div>"
     },
     "metadata": {},
     "execution_count": 42
    }
   ],
   "source": [
    "exploration.reset_index(inplace=True)\n",
    "exploration.rename(columns={'index':'name'}, inplace=True)\n",
    "exploration"
   ]
  },
  {
   "cell_type": "markdown",
   "metadata": {},
   "source": [
    "# Problema : Explorar o valor do aluguel (rent amount RS)"
   ]
  },
  {
   "cell_type": "markdown",
   "metadata": {},
   "source": [
    "## Estatística univariada"
   ]
  },
  {
   "cell_type": "code",
   "execution_count": 43,
   "metadata": {},
   "outputs": [],
   "source": [
    "df.rename(columns = {'rent amount (R$)' : 'valor_aluguel'}, inplace = True)"
   ]
  },
  {
   "cell_type": "code",
   "execution_count": 44,
   "metadata": {},
   "outputs": [
    {
     "output_type": "execute_result",
     "data": {
      "text/plain": "3896.247194163861"
     },
     "metadata": {},
     "execution_count": 44
    }
   ],
   "source": [
    "df['valor_aluguel'].mean()"
   ]
  },
  {
   "cell_type": "code",
   "execution_count": 45,
   "metadata": {},
   "outputs": [
    {
     "output_type": "execute_result",
     "data": {
      "text/plain": "2661.0"
     },
     "metadata": {},
     "execution_count": 45
    }
   ],
   "source": [
    "df['valor_aluguel'].median()"
   ]
  },
  {
   "cell_type": "code",
   "execution_count": 46,
   "metadata": {},
   "outputs": [
    {
     "output_type": "execute_result",
     "data": {
      "text/plain": "3408.5455176710816"
     },
     "metadata": {},
     "execution_count": 46
    }
   ],
   "source": [
    "df['valor_aluguel'].std()"
   ]
  },
  {
   "cell_type": "code",
   "execution_count": 47,
   "metadata": {},
   "outputs": [
    {
     "output_type": "execute_result",
     "data": {
      "text/plain": "count    10692.000000\nmean      3896.247194\nstd       3408.545518\nmin        450.000000\n25%       1530.000000\n50%       2661.000000\n75%       5000.000000\nmax      45000.000000\nName: valor_aluguel, dtype: float64"
     },
     "metadata": {},
     "execution_count": 47
    }
   ],
   "source": [
    "df['valor_aluguel'].describe()"
   ]
  },
  {
   "cell_type": "code",
   "execution_count": 48,
   "metadata": {},
   "outputs": [
    {
     "output_type": "execute_result",
     "data": {
      "text/plain": "<matplotlib.axes._subplots.AxesSubplot at 0x7fb3d2a10210>"
     },
     "metadata": {},
     "execution_count": 48
    },
    {
     "output_type": "display_data",
     "data": {
      "text/plain": "<Figure size 432x288 with 1 Axes>",
      "image/svg+xml": "<?xml version=\"1.0\" encoding=\"utf-8\" standalone=\"no\"?>\n<!DOCTYPE svg PUBLIC \"-//W3C//DTD SVG 1.1//EN\"\n  \"http://www.w3.org/Graphics/SVG/1.1/DTD/svg11.dtd\">\n<!-- Created with matplotlib (https://matplotlib.org/) -->\n<svg height=\"248.518125pt\" version=\"1.1\" viewBox=\"0 0 395.328125 248.518125\" width=\"395.328125pt\" xmlns=\"http://www.w3.org/2000/svg\" xmlns:xlink=\"http://www.w3.org/1999/xlink\">\n <defs>\n  <style type=\"text/css\">\n*{stroke-linecap:butt;stroke-linejoin:round;}\n  </style>\n </defs>\n <g id=\"figure_1\">\n  <g id=\"patch_1\">\n   <path d=\"M 0 248.518125 \nL 395.328125 248.518125 \nL 395.328125 0 \nL 0 0 \nz\n\" style=\"fill:none;\"/>\n  </g>\n  <g id=\"axes_1\">\n   <g id=\"patch_2\">\n    <path d=\"M 53.328125 224.64 \nL 388.128125 224.64 \nL 388.128125 7.2 \nL 53.328125 7.2 \nz\n\" style=\"fill:#ffffff;\"/>\n   </g>\n   <g id=\"patch_3\">\n    <path clip-path=\"url(#pd9484fea6d)\" d=\"M 68.546307 224.64 \nL 71.589943 224.64 \nL 71.589943 145.149785 \nL 68.546307 145.149785 \nz\n\" style=\"fill:#1f77b4;\"/>\n   </g>\n   <g id=\"patch_4\">\n    <path clip-path=\"url(#pd9484fea6d)\" d=\"M 71.589943 224.64 \nL 74.63358 224.64 \nL 74.63358 17.554286 \nL 71.589943 17.554286 \nz\n\" style=\"fill:#1f77b4;\"/>\n   </g>\n   <g id=\"patch_5\">\n    <path clip-path=\"url(#pd9484fea6d)\" d=\"M 74.63358 224.64 \nL 77.677216 224.64 \nL 77.677216 59.218122 \nL 74.63358 59.218122 \nz\n\" style=\"fill:#1f77b4;\"/>\n   </g>\n   <g id=\"patch_6\">\n    <path clip-path=\"url(#pd9484fea6d)\" d=\"M 77.677216 224.64 \nL 80.720852 224.64 \nL 80.720852 55.79182 \nL 77.677216 55.79182 \nz\n\" style=\"fill:#1f77b4;\"/>\n   </g>\n   <g id=\"patch_7\">\n    <path clip-path=\"url(#pd9484fea6d)\" d=\"M 80.720852 224.64 \nL 83.764489 224.64 \nL 83.764489 112.120231 \nL 80.720852 112.120231 \nz\n\" style=\"fill:#1f77b4;\"/>\n   </g>\n   <g id=\"patch_8\">\n    <path clip-path=\"url(#pd9484fea6d)\" d=\"M 83.764489 224.64 \nL 86.808125 224.64 \nL 86.808125 117.191158 \nL 83.764489 117.191158 \nz\n\" style=\"fill:#1f77b4;\"/>\n   </g>\n   <g id=\"patch_9\">\n    <path clip-path=\"url(#pd9484fea6d)\" d=\"M 86.808125 224.64 \nL 89.851761 224.64 \nL 89.851761 132.540993 \nL 86.808125 132.540993 \nz\n\" style=\"fill:#1f77b4;\"/>\n   </g>\n   <g id=\"patch_10\">\n    <path clip-path=\"url(#pd9484fea6d)\" d=\"M 89.851761 224.64 \nL 92.895398 224.64 \nL 92.895398 150.768921 \nL 89.851761 150.768921 \nz\n\" style=\"fill:#1f77b4;\"/>\n   </g>\n   <g id=\"patch_11\">\n    <path clip-path=\"url(#pd9484fea6d)\" d=\"M 92.895398 224.64 \nL 95.939034 224.64 \nL 95.939034 191.747497 \nL 92.895398 191.747497 \nz\n\" style=\"fill:#1f77b4;\"/>\n   </g>\n   <g id=\"patch_12\">\n    <path clip-path=\"url(#pd9484fea6d)\" d=\"M 95.939034 224.64 \nL 98.98267 224.64 \nL 98.98267 174.478934 \nL 95.939034 174.478934 \nz\n\" style=\"fill:#1f77b4;\"/>\n   </g>\n   <g id=\"patch_13\">\n    <path clip-path=\"url(#pd9484fea6d)\" d=\"M 98.98267 224.64 \nL 102.026307 224.64 \nL 102.026307 185.168997 \nL 98.98267 185.168997 \nz\n\" style=\"fill:#1f77b4;\"/>\n   </g>\n   <g id=\"patch_14\">\n    <path clip-path=\"url(#pd9484fea6d)\" d=\"M 102.026307 224.64 \nL 105.069943 224.64 \nL 105.069943 194.351487 \nL 102.026307 194.351487 \nz\n\" style=\"fill:#1f77b4;\"/>\n   </g>\n   <g id=\"patch_15\">\n    <path clip-path=\"url(#pd9484fea6d)\" d=\"M 105.069943 224.64 \nL 108.11358 224.64 \nL 108.11358 188.595299 \nL 105.069943 188.595299 \nz\n\" style=\"fill:#1f77b4;\"/>\n   </g>\n   <g id=\"patch_16\">\n    <path clip-path=\"url(#pd9484fea6d)\" d=\"M 108.11358 224.64 \nL 111.157216 224.64 \nL 111.157216 200.929988 \nL 108.11358 200.929988 \nz\n\" style=\"fill:#1f77b4;\"/>\n   </g>\n   <g id=\"patch_17\">\n    <path clip-path=\"url(#pd9484fea6d)\" d=\"M 111.157216 224.64 \nL 114.200852 224.64 \nL 114.200852 196.270217 \nL 111.157216 196.270217 \nz\n\" style=\"fill:#1f77b4;\"/>\n   </g>\n   <g id=\"patch_18\">\n    <path clip-path=\"url(#pd9484fea6d)\" d=\"M 114.200852 224.64 \nL 117.244489 224.64 \nL 117.244489 208.056697 \nL 114.200852 208.056697 \nz\n\" style=\"fill:#1f77b4;\"/>\n   </g>\n   <g id=\"patch_19\">\n    <path clip-path=\"url(#pd9484fea6d)\" d=\"M 117.244489 224.64 \nL 120.288125 224.64 \nL 120.288125 191.473393 \nL 117.244489 191.473393 \nz\n\" style=\"fill:#1f77b4;\"/>\n   </g>\n   <g id=\"patch_20\">\n    <path clip-path=\"url(#pd9484fea6d)\" d=\"M 120.288125 224.64 \nL 123.331761 224.64 \nL 123.331761 219.980229 \nL 120.288125 219.980229 \nz\n\" style=\"fill:#1f77b4;\"/>\n   </g>\n   <g id=\"patch_21\">\n    <path clip-path=\"url(#pd9484fea6d)\" d=\"M 123.331761 224.64 \nL 126.375398 224.64 \nL 126.375398 208.604905 \nL 123.331761 208.604905 \nz\n\" style=\"fill:#1f77b4;\"/>\n   </g>\n   <g id=\"patch_22\">\n    <path clip-path=\"url(#pd9484fea6d)\" d=\"M 126.375398 224.64 \nL 129.419034 224.64 \nL 129.419034 206.275019 \nL 126.375398 206.275019 \nz\n\" style=\"fill:#1f77b4;\"/>\n   </g>\n   <g id=\"patch_23\">\n    <path clip-path=\"url(#pd9484fea6d)\" d=\"M 129.419034 224.64 \nL 132.46267 224.64 \nL 132.46267 216.828031 \nL 129.419034 216.828031 \nz\n\" style=\"fill:#1f77b4;\"/>\n   </g>\n   <g id=\"patch_24\">\n    <path clip-path=\"url(#pd9484fea6d)\" d=\"M 132.46267 224.64 \nL 135.506307 224.64 \nL 135.506307 201.341144 \nL 132.46267 201.341144 \nz\n\" style=\"fill:#1f77b4;\"/>\n   </g>\n   <g id=\"patch_25\">\n    <path clip-path=\"url(#pd9484fea6d)\" d=\"M 135.506307 224.64 \nL 138.549943 224.64 \nL 138.549943 220.391385 \nL 135.506307 220.391385 \nz\n\" style=\"fill:#1f77b4;\"/>\n   </g>\n   <g id=\"patch_26\">\n    <path clip-path=\"url(#pd9484fea6d)\" d=\"M 138.549943 224.64 \nL 141.59358 224.64 \nL 141.59358 213.127624 \nL 138.549943 213.127624 \nz\n\" style=\"fill:#1f77b4;\"/>\n   </g>\n   <g id=\"patch_27\">\n    <path clip-path=\"url(#pd9484fea6d)\" d=\"M 141.59358 224.64 \nL 144.637216 224.64 \nL 144.637216 221.624854 \nL 141.59358 221.624854 \nz\n\" style=\"fill:#1f77b4;\"/>\n   </g>\n   <g id=\"patch_28\">\n    <path clip-path=\"url(#pd9484fea6d)\" d=\"M 144.637216 224.64 \nL 147.680852 224.64 \nL 147.680852 206.137967 \nL 144.637216 206.137967 \nz\n\" style=\"fill:#1f77b4;\"/>\n   </g>\n   <g id=\"patch_29\">\n    <path clip-path=\"url(#pd9484fea6d)\" d=\"M 147.680852 224.64 \nL 150.724489 224.64 \nL 150.724489 224.228844 \nL 147.680852 224.228844 \nz\n\" style=\"fill:#1f77b4;\"/>\n   </g>\n   <g id=\"patch_30\">\n    <path clip-path=\"url(#pd9484fea6d)\" d=\"M 150.724489 224.64 \nL 153.768125 224.64 \nL 153.768125 217.513291 \nL 150.724489 217.513291 \nz\n\" style=\"fill:#1f77b4;\"/>\n   </g>\n   <g id=\"patch_31\">\n    <path clip-path=\"url(#pd9484fea6d)\" d=\"M 153.768125 224.64 \nL 156.811761 224.64 \nL 156.811761 216.416874 \nL 153.768125 216.416874 \nz\n\" style=\"fill:#1f77b4;\"/>\n   </g>\n   <g id=\"patch_32\">\n    <path clip-path=\"url(#pd9484fea6d)\" d=\"M 156.811761 224.64 \nL 159.855398 224.64 \nL 159.855398 222.173062 \nL 156.811761 222.173062 \nz\n\" style=\"fill:#1f77b4;\"/>\n   </g>\n   <g id=\"patch_33\">\n    <path clip-path=\"url(#pd9484fea6d)\" d=\"M 159.855398 224.64 \nL 162.899034 224.64 \nL 162.899034 217.376239 \nL 159.855398 217.376239 \nz\n\" style=\"fill:#1f77b4;\"/>\n   </g>\n   <g id=\"patch_34\">\n    <path clip-path=\"url(#pd9484fea6d)\" d=\"M 162.899034 224.64 \nL 165.94267 224.64 \nL 165.94267 223.680635 \nL 162.899034 223.680635 \nz\n\" style=\"fill:#1f77b4;\"/>\n   </g>\n   <g id=\"patch_35\">\n    <path clip-path=\"url(#pd9484fea6d)\" d=\"M 165.94267 224.64 \nL 168.986307 224.64 \nL 168.986307 192.432758 \nL 165.94267 192.432758 \nz\n\" style=\"fill:#1f77b4;\"/>\n   </g>\n   <g id=\"patch_36\">\n    <path clip-path=\"url(#pd9484fea6d)\" d=\"M 168.986307 224.64 \nL 172.029943 224.64 \nL 172.029943 224.64 \nL 168.986307 224.64 \nz\n\" style=\"fill:#1f77b4;\"/>\n   </g>\n   <g id=\"patch_37\">\n    <path clip-path=\"url(#pd9484fea6d)\" d=\"M 172.029943 224.64 \nL 175.07358 224.64 \nL 175.07358 224.502948 \nL 172.029943 224.502948 \nz\n\" style=\"fill:#1f77b4;\"/>\n   </g>\n   <g id=\"patch_38\">\n    <path clip-path=\"url(#pd9484fea6d)\" d=\"M 175.07358 224.64 \nL 178.117216 224.64 \nL 178.117216 224.64 \nL 175.07358 224.64 \nz\n\" style=\"fill:#1f77b4;\"/>\n   </g>\n   <g id=\"patch_39\">\n    <path clip-path=\"url(#pd9484fea6d)\" d=\"M 178.117216 224.64 \nL 181.160852 224.64 \nL 181.160852 224.64 \nL 178.117216 224.64 \nz\n\" style=\"fill:#1f77b4;\"/>\n   </g>\n   <g id=\"patch_40\">\n    <path clip-path=\"url(#pd9484fea6d)\" d=\"M 181.160852 224.64 \nL 184.204489 224.64 \nL 184.204489 224.64 \nL 181.160852 224.64 \nz\n\" style=\"fill:#1f77b4;\"/>\n   </g>\n   <g id=\"patch_41\">\n    <path clip-path=\"url(#pd9484fea6d)\" d=\"M 184.204489 224.64 \nL 187.248125 224.64 \nL 187.248125 224.64 \nL 184.204489 224.64 \nz\n\" style=\"fill:#1f77b4;\"/>\n   </g>\n   <g id=\"patch_42\">\n    <path clip-path=\"url(#pd9484fea6d)\" d=\"M 187.248125 224.64 \nL 190.291761 224.64 \nL 190.291761 224.502948 \nL 187.248125 224.502948 \nz\n\" style=\"fill:#1f77b4;\"/>\n   </g>\n   <g id=\"patch_43\">\n    <path clip-path=\"url(#pd9484fea6d)\" d=\"M 190.291761 224.64 \nL 193.335398 224.64 \nL 193.335398 224.64 \nL 190.291761 224.64 \nz\n\" style=\"fill:#1f77b4;\"/>\n   </g>\n   <g id=\"patch_44\">\n    <path clip-path=\"url(#pd9484fea6d)\" d=\"M 193.335398 224.64 \nL 196.379034 224.64 \nL 196.379034 224.502948 \nL 193.335398 224.502948 \nz\n\" style=\"fill:#1f77b4;\"/>\n   </g>\n   <g id=\"patch_45\">\n    <path clip-path=\"url(#pd9484fea6d)\" d=\"M 196.379034 224.64 \nL 199.42267 224.64 \nL 199.42267 224.502948 \nL 196.379034 224.502948 \nz\n\" style=\"fill:#1f77b4;\"/>\n   </g>\n   <g id=\"patch_46\">\n    <path clip-path=\"url(#pd9484fea6d)\" d=\"M 199.42267 224.64 \nL 202.466307 224.64 \nL 202.466307 223.95474 \nL 199.42267 223.95474 \nz\n\" style=\"fill:#1f77b4;\"/>\n   </g>\n   <g id=\"patch_47\">\n    <path clip-path=\"url(#pd9484fea6d)\" d=\"M 202.466307 224.64 \nL 205.509943 224.64 \nL 205.509943 224.64 \nL 202.466307 224.64 \nz\n\" style=\"fill:#1f77b4;\"/>\n   </g>\n   <g id=\"patch_48\">\n    <path clip-path=\"url(#pd9484fea6d)\" d=\"M 205.509943 224.64 \nL 208.55358 224.64 \nL 208.55358 224.64 \nL 205.509943 224.64 \nz\n\" style=\"fill:#1f77b4;\"/>\n   </g>\n   <g id=\"patch_49\">\n    <path clip-path=\"url(#pd9484fea6d)\" d=\"M 208.55358 224.64 \nL 211.597216 224.64 \nL 211.597216 224.64 \nL 208.55358 224.64 \nz\n\" style=\"fill:#1f77b4;\"/>\n   </g>\n   <g id=\"patch_50\">\n    <path clip-path=\"url(#pd9484fea6d)\" d=\"M 211.597216 224.64 \nL 214.640852 224.64 \nL 214.640852 224.64 \nL 211.597216 224.64 \nz\n\" style=\"fill:#1f77b4;\"/>\n   </g>\n   <g id=\"patch_51\">\n    <path clip-path=\"url(#pd9484fea6d)\" d=\"M 214.640852 224.64 \nL 217.684489 224.64 \nL 217.684489 224.64 \nL 214.640852 224.64 \nz\n\" style=\"fill:#1f77b4;\"/>\n   </g>\n   <g id=\"patch_52\">\n    <path clip-path=\"url(#pd9484fea6d)\" d=\"M 217.684489 224.64 \nL 220.728125 224.64 \nL 220.728125 224.64 \nL 217.684489 224.64 \nz\n\" style=\"fill:#1f77b4;\"/>\n   </g>\n   <g id=\"patch_53\">\n    <path clip-path=\"url(#pd9484fea6d)\" d=\"M 220.728125 224.64 \nL 223.771761 224.64 \nL 223.771761 224.64 \nL 220.728125 224.64 \nz\n\" style=\"fill:#1f77b4;\"/>\n   </g>\n   <g id=\"patch_54\">\n    <path clip-path=\"url(#pd9484fea6d)\" d=\"M 223.771761 224.64 \nL 226.815398 224.64 \nL 226.815398 224.64 \nL 223.771761 224.64 \nz\n\" style=\"fill:#1f77b4;\"/>\n   </g>\n   <g id=\"patch_55\">\n    <path clip-path=\"url(#pd9484fea6d)\" d=\"M 226.815398 224.64 \nL 229.859034 224.64 \nL 229.859034 224.502948 \nL 226.815398 224.502948 \nz\n\" style=\"fill:#1f77b4;\"/>\n   </g>\n   <g id=\"patch_56\">\n    <path clip-path=\"url(#pd9484fea6d)\" d=\"M 229.859034 224.64 \nL 232.90267 224.64 \nL 232.90267 224.64 \nL 229.859034 224.64 \nz\n\" style=\"fill:#1f77b4;\"/>\n   </g>\n   <g id=\"patch_57\">\n    <path clip-path=\"url(#pd9484fea6d)\" d=\"M 232.90267 224.64 \nL 235.946307 224.64 \nL 235.946307 224.64 \nL 232.90267 224.64 \nz\n\" style=\"fill:#1f77b4;\"/>\n   </g>\n   <g id=\"patch_58\">\n    <path clip-path=\"url(#pd9484fea6d)\" d=\"M 235.946307 224.64 \nL 238.989943 224.64 \nL 238.989943 224.502948 \nL 235.946307 224.502948 \nz\n\" style=\"fill:#1f77b4;\"/>\n   </g>\n   <g id=\"patch_59\">\n    <path clip-path=\"url(#pd9484fea6d)\" d=\"M 238.989943 224.64 \nL 242.03358 224.64 \nL 242.03358 224.64 \nL 238.989943 224.64 \nz\n\" style=\"fill:#1f77b4;\"/>\n   </g>\n   <g id=\"patch_60\">\n    <path clip-path=\"url(#pd9484fea6d)\" d=\"M 242.03358 224.64 \nL 245.077216 224.64 \nL 245.077216 224.64 \nL 242.03358 224.64 \nz\n\" style=\"fill:#1f77b4;\"/>\n   </g>\n   <g id=\"patch_61\">\n    <path clip-path=\"url(#pd9484fea6d)\" d=\"M 245.077216 224.64 \nL 248.120852 224.64 \nL 248.120852 224.64 \nL 245.077216 224.64 \nz\n\" style=\"fill:#1f77b4;\"/>\n   </g>\n   <g id=\"patch_62\">\n    <path clip-path=\"url(#pd9484fea6d)\" d=\"M 248.120852 224.64 \nL 251.164489 224.64 \nL 251.164489 224.64 \nL 248.120852 224.64 \nz\n\" style=\"fill:#1f77b4;\"/>\n   </g>\n   <g id=\"patch_63\">\n    <path clip-path=\"url(#pd9484fea6d)\" d=\"M 251.164489 224.64 \nL 254.208125 224.64 \nL 254.208125 224.64 \nL 251.164489 224.64 \nz\n\" style=\"fill:#1f77b4;\"/>\n   </g>\n   <g id=\"patch_64\">\n    <path clip-path=\"url(#pd9484fea6d)\" d=\"M 254.208125 224.64 \nL 257.251761 224.64 \nL 257.251761 224.64 \nL 254.208125 224.64 \nz\n\" style=\"fill:#1f77b4;\"/>\n   </g>\n   <g id=\"patch_65\">\n    <path clip-path=\"url(#pd9484fea6d)\" d=\"M 257.251761 224.64 \nL 260.295398 224.64 \nL 260.295398 224.64 \nL 257.251761 224.64 \nz\n\" style=\"fill:#1f77b4;\"/>\n   </g>\n   <g id=\"patch_66\">\n    <path clip-path=\"url(#pd9484fea6d)\" d=\"M 260.295398 224.64 \nL 263.339034 224.64 \nL 263.339034 224.64 \nL 260.295398 224.64 \nz\n\" style=\"fill:#1f77b4;\"/>\n   </g>\n   <g id=\"patch_67\">\n    <path clip-path=\"url(#pd9484fea6d)\" d=\"M 263.339034 224.64 \nL 266.38267 224.64 \nL 266.38267 224.64 \nL 263.339034 224.64 \nz\n\" style=\"fill:#1f77b4;\"/>\n   </g>\n   <g id=\"patch_68\">\n    <path clip-path=\"url(#pd9484fea6d)\" d=\"M 266.38267 224.64 \nL 269.426307 224.64 \nL 269.426307 224.64 \nL 266.38267 224.64 \nz\n\" style=\"fill:#1f77b4;\"/>\n   </g>\n   <g id=\"patch_69\">\n    <path clip-path=\"url(#pd9484fea6d)\" d=\"M 269.426307 224.64 \nL 272.469943 224.64 \nL 272.469943 224.502948 \nL 269.426307 224.502948 \nz\n\" style=\"fill:#1f77b4;\"/>\n   </g>\n   <g id=\"patch_70\">\n    <path clip-path=\"url(#pd9484fea6d)\" d=\"M 272.469943 224.64 \nL 275.51358 224.64 \nL 275.51358 224.64 \nL 272.469943 224.64 \nz\n\" style=\"fill:#1f77b4;\"/>\n   </g>\n   <g id=\"patch_71\">\n    <path clip-path=\"url(#pd9484fea6d)\" d=\"M 275.51358 224.64 \nL 278.557216 224.64 \nL 278.557216 224.64 \nL 275.51358 224.64 \nz\n\" style=\"fill:#1f77b4;\"/>\n   </g>\n   <g id=\"patch_72\">\n    <path clip-path=\"url(#pd9484fea6d)\" d=\"M 278.557216 224.64 \nL 281.600852 224.64 \nL 281.600852 224.64 \nL 278.557216 224.64 \nz\n\" style=\"fill:#1f77b4;\"/>\n   </g>\n   <g id=\"patch_73\">\n    <path clip-path=\"url(#pd9484fea6d)\" d=\"M 281.600852 224.64 \nL 284.644489 224.64 \nL 284.644489 224.64 \nL 281.600852 224.64 \nz\n\" style=\"fill:#1f77b4;\"/>\n   </g>\n   <g id=\"patch_74\">\n    <path clip-path=\"url(#pd9484fea6d)\" d=\"M 284.644489 224.64 \nL 287.688125 224.64 \nL 287.688125 224.64 \nL 284.644489 224.64 \nz\n\" style=\"fill:#1f77b4;\"/>\n   </g>\n   <g id=\"patch_75\">\n    <path clip-path=\"url(#pd9484fea6d)\" d=\"M 287.688125 224.64 \nL 290.731761 224.64 \nL 290.731761 224.64 \nL 287.688125 224.64 \nz\n\" style=\"fill:#1f77b4;\"/>\n   </g>\n   <g id=\"patch_76\">\n    <path clip-path=\"url(#pd9484fea6d)\" d=\"M 290.731761 224.64 \nL 293.775398 224.64 \nL 293.775398 224.64 \nL 290.731761 224.64 \nz\n\" style=\"fill:#1f77b4;\"/>\n   </g>\n   <g id=\"patch_77\">\n    <path clip-path=\"url(#pd9484fea6d)\" d=\"M 293.775398 224.64 \nL 296.819034 224.64 \nL 296.819034 224.64 \nL 293.775398 224.64 \nz\n\" style=\"fill:#1f77b4;\"/>\n   </g>\n   <g id=\"patch_78\">\n    <path clip-path=\"url(#pd9484fea6d)\" d=\"M 296.819034 224.64 \nL 299.86267 224.64 \nL 299.86267 224.64 \nL 296.819034 224.64 \nz\n\" style=\"fill:#1f77b4;\"/>\n   </g>\n   <g id=\"patch_79\">\n    <path clip-path=\"url(#pd9484fea6d)\" d=\"M 299.86267 224.64 \nL 302.906307 224.64 \nL 302.906307 224.64 \nL 299.86267 224.64 \nz\n\" style=\"fill:#1f77b4;\"/>\n   </g>\n   <g id=\"patch_80\">\n    <path clip-path=\"url(#pd9484fea6d)\" d=\"M 302.906307 224.64 \nL 305.949943 224.64 \nL 305.949943 224.64 \nL 302.906307 224.64 \nz\n\" style=\"fill:#1f77b4;\"/>\n   </g>\n   <g id=\"patch_81\">\n    <path clip-path=\"url(#pd9484fea6d)\" d=\"M 305.949943 224.64 \nL 308.99358 224.64 \nL 308.99358 224.64 \nL 305.949943 224.64 \nz\n\" style=\"fill:#1f77b4;\"/>\n   </g>\n   <g id=\"patch_82\">\n    <path clip-path=\"url(#pd9484fea6d)\" d=\"M 308.99358 224.64 \nL 312.037216 224.64 \nL 312.037216 224.64 \nL 308.99358 224.64 \nz\n\" style=\"fill:#1f77b4;\"/>\n   </g>\n   <g id=\"patch_83\">\n    <path clip-path=\"url(#pd9484fea6d)\" d=\"M 312.037216 224.64 \nL 315.080852 224.64 \nL 315.080852 224.64 \nL 312.037216 224.64 \nz\n\" style=\"fill:#1f77b4;\"/>\n   </g>\n   <g id=\"patch_84\">\n    <path clip-path=\"url(#pd9484fea6d)\" d=\"M 315.080852 224.64 \nL 318.124489 224.64 \nL 318.124489 224.64 \nL 315.080852 224.64 \nz\n\" style=\"fill:#1f77b4;\"/>\n   </g>\n   <g id=\"patch_85\">\n    <path clip-path=\"url(#pd9484fea6d)\" d=\"M 318.124489 224.64 \nL 321.168125 224.64 \nL 321.168125 224.64 \nL 318.124489 224.64 \nz\n\" style=\"fill:#1f77b4;\"/>\n   </g>\n   <g id=\"patch_86\">\n    <path clip-path=\"url(#pd9484fea6d)\" d=\"M 321.168125 224.64 \nL 324.211761 224.64 \nL 324.211761 224.64 \nL 321.168125 224.64 \nz\n\" style=\"fill:#1f77b4;\"/>\n   </g>\n   <g id=\"patch_87\">\n    <path clip-path=\"url(#pd9484fea6d)\" d=\"M 324.211761 224.64 \nL 327.255398 224.64 \nL 327.255398 224.64 \nL 324.211761 224.64 \nz\n\" style=\"fill:#1f77b4;\"/>\n   </g>\n   <g id=\"patch_88\">\n    <path clip-path=\"url(#pd9484fea6d)\" d=\"M 327.255398 224.64 \nL 330.299034 224.64 \nL 330.299034 224.64 \nL 327.255398 224.64 \nz\n\" style=\"fill:#1f77b4;\"/>\n   </g>\n   <g id=\"patch_89\">\n    <path clip-path=\"url(#pd9484fea6d)\" d=\"M 330.299034 224.64 \nL 333.34267 224.64 \nL 333.34267 224.64 \nL 330.299034 224.64 \nz\n\" style=\"fill:#1f77b4;\"/>\n   </g>\n   <g id=\"patch_90\">\n    <path clip-path=\"url(#pd9484fea6d)\" d=\"M 333.34267 224.64 \nL 336.386307 224.64 \nL 336.386307 224.64 \nL 333.34267 224.64 \nz\n\" style=\"fill:#1f77b4;\"/>\n   </g>\n   <g id=\"patch_91\">\n    <path clip-path=\"url(#pd9484fea6d)\" d=\"M 336.386307 224.64 \nL 339.429943 224.64 \nL 339.429943 224.64 \nL 336.386307 224.64 \nz\n\" style=\"fill:#1f77b4;\"/>\n   </g>\n   <g id=\"patch_92\">\n    <path clip-path=\"url(#pd9484fea6d)\" d=\"M 339.429943 224.64 \nL 342.47358 224.64 \nL 342.47358 224.64 \nL 339.429943 224.64 \nz\n\" style=\"fill:#1f77b4;\"/>\n   </g>\n   <g id=\"patch_93\">\n    <path clip-path=\"url(#pd9484fea6d)\" d=\"M 342.47358 224.64 \nL 345.517216 224.64 \nL 345.517216 224.64 \nL 342.47358 224.64 \nz\n\" style=\"fill:#1f77b4;\"/>\n   </g>\n   <g id=\"patch_94\">\n    <path clip-path=\"url(#pd9484fea6d)\" d=\"M 345.517216 224.64 \nL 348.560852 224.64 \nL 348.560852 224.64 \nL 345.517216 224.64 \nz\n\" style=\"fill:#1f77b4;\"/>\n   </g>\n   <g id=\"patch_95\">\n    <path clip-path=\"url(#pd9484fea6d)\" d=\"M 348.560852 224.64 \nL 351.604489 224.64 \nL 351.604489 224.64 \nL 348.560852 224.64 \nz\n\" style=\"fill:#1f77b4;\"/>\n   </g>\n   <g id=\"patch_96\">\n    <path clip-path=\"url(#pd9484fea6d)\" d=\"M 351.604489 224.64 \nL 354.648125 224.64 \nL 354.648125 224.64 \nL 351.604489 224.64 \nz\n\" style=\"fill:#1f77b4;\"/>\n   </g>\n   <g id=\"patch_97\">\n    <path clip-path=\"url(#pd9484fea6d)\" d=\"M 354.648125 224.64 \nL 357.691761 224.64 \nL 357.691761 224.64 \nL 354.648125 224.64 \nz\n\" style=\"fill:#1f77b4;\"/>\n   </g>\n   <g id=\"patch_98\">\n    <path clip-path=\"url(#pd9484fea6d)\" d=\"M 357.691761 224.64 \nL 360.735398 224.64 \nL 360.735398 224.64 \nL 357.691761 224.64 \nz\n\" style=\"fill:#1f77b4;\"/>\n   </g>\n   <g id=\"patch_99\">\n    <path clip-path=\"url(#pd9484fea6d)\" d=\"M 360.735398 224.64 \nL 363.779034 224.64 \nL 363.779034 224.64 \nL 360.735398 224.64 \nz\n\" style=\"fill:#1f77b4;\"/>\n   </g>\n   <g id=\"patch_100\">\n    <path clip-path=\"url(#pd9484fea6d)\" d=\"M 363.779034 224.64 \nL 366.82267 224.64 \nL 366.82267 224.64 \nL 363.779034 224.64 \nz\n\" style=\"fill:#1f77b4;\"/>\n   </g>\n   <g id=\"patch_101\">\n    <path clip-path=\"url(#pd9484fea6d)\" d=\"M 366.82267 224.64 \nL 369.866307 224.64 \nL 369.866307 224.64 \nL 366.82267 224.64 \nz\n\" style=\"fill:#1f77b4;\"/>\n   </g>\n   <g id=\"patch_102\">\n    <path clip-path=\"url(#pd9484fea6d)\" d=\"M 369.866307 224.64 \nL 372.909943 224.64 \nL 372.909943 224.502948 \nL 369.866307 224.502948 \nz\n\" style=\"fill:#1f77b4;\"/>\n   </g>\n   <g id=\"matplotlib.axis_1\">\n    <g id=\"xtick_1\">\n     <g id=\"line2d_1\">\n      <defs>\n       <path d=\"M 0 0 \nL 0 3.5 \n\" id=\"m72abdfa6d8\" style=\"stroke:#000000;stroke-width:0.8;\"/>\n      </defs>\n      <g>\n       <use style=\"stroke:#000000;stroke-width:0.8;\" x=\"65.471927\" xlink:href=\"#m72abdfa6d8\" y=\"224.64\"/>\n      </g>\n     </g>\n     <g id=\"text_1\">\n      <!-- 0 -->\n      <defs>\n       <path d=\"M 31.78125 66.40625 \nQ 24.171875 66.40625 20.328125 58.90625 \nQ 16.5 51.421875 16.5 36.375 \nQ 16.5 21.390625 20.328125 13.890625 \nQ 24.171875 6.390625 31.78125 6.390625 \nQ 39.453125 6.390625 43.28125 13.890625 \nQ 47.125 21.390625 47.125 36.375 \nQ 47.125 51.421875 43.28125 58.90625 \nQ 39.453125 66.40625 31.78125 66.40625 \nz\nM 31.78125 74.21875 \nQ 44.046875 74.21875 50.515625 64.515625 \nQ 56.984375 54.828125 56.984375 36.375 \nQ 56.984375 17.96875 50.515625 8.265625 \nQ 44.046875 -1.421875 31.78125 -1.421875 \nQ 19.53125 -1.421875 13.0625 8.265625 \nQ 6.59375 17.96875 6.59375 36.375 \nQ 6.59375 54.828125 13.0625 64.515625 \nQ 19.53125 74.21875 31.78125 74.21875 \nz\n\" id=\"DejaVuSans-48\"/>\n      </defs>\n      <g transform=\"translate(62.290677 239.238437)scale(0.1 -0.1)\">\n       <use xlink:href=\"#DejaVuSans-48\"/>\n      </g>\n     </g>\n    </g>\n    <g id=\"xtick_2\">\n     <g id=\"line2d_2\">\n      <g>\n       <use style=\"stroke:#000000;stroke-width:0.8;\" x=\"133.791486\" xlink:href=\"#m72abdfa6d8\" y=\"224.64\"/>\n      </g>\n     </g>\n     <g id=\"text_2\">\n      <!-- 10000 -->\n      <defs>\n       <path d=\"M 12.40625 8.296875 \nL 28.515625 8.296875 \nL 28.515625 63.921875 \nL 10.984375 60.40625 \nL 10.984375 69.390625 \nL 28.421875 72.90625 \nL 38.28125 72.90625 \nL 38.28125 8.296875 \nL 54.390625 8.296875 \nL 54.390625 0 \nL 12.40625 0 \nz\n\" id=\"DejaVuSans-49\"/>\n      </defs>\n      <g transform=\"translate(117.885236 239.238437)scale(0.1 -0.1)\">\n       <use xlink:href=\"#DejaVuSans-49\"/>\n       <use x=\"63.623047\" xlink:href=\"#DejaVuSans-48\"/>\n       <use x=\"127.246094\" xlink:href=\"#DejaVuSans-48\"/>\n       <use x=\"190.869141\" xlink:href=\"#DejaVuSans-48\"/>\n       <use x=\"254.492188\" xlink:href=\"#DejaVuSans-48\"/>\n      </g>\n     </g>\n    </g>\n    <g id=\"xtick_3\">\n     <g id=\"line2d_3\">\n      <g>\n       <use style=\"stroke:#000000;stroke-width:0.8;\" x=\"202.111045\" xlink:href=\"#m72abdfa6d8\" y=\"224.64\"/>\n      </g>\n     </g>\n     <g id=\"text_3\">\n      <!-- 20000 -->\n      <defs>\n       <path d=\"M 19.1875 8.296875 \nL 53.609375 8.296875 \nL 53.609375 0 \nL 7.328125 0 \nL 7.328125 8.296875 \nQ 12.9375 14.109375 22.625 23.890625 \nQ 32.328125 33.6875 34.8125 36.53125 \nQ 39.546875 41.84375 41.421875 45.53125 \nQ 43.3125 49.21875 43.3125 52.78125 \nQ 43.3125 58.59375 39.234375 62.25 \nQ 35.15625 65.921875 28.609375 65.921875 \nQ 23.96875 65.921875 18.8125 64.3125 \nQ 13.671875 62.703125 7.8125 59.421875 \nL 7.8125 69.390625 \nQ 13.765625 71.78125 18.9375 73 \nQ 24.125 74.21875 28.421875 74.21875 \nQ 39.75 74.21875 46.484375 68.546875 \nQ 53.21875 62.890625 53.21875 53.421875 \nQ 53.21875 48.921875 51.53125 44.890625 \nQ 49.859375 40.875 45.40625 35.40625 \nQ 44.1875 33.984375 37.640625 27.21875 \nQ 31.109375 20.453125 19.1875 8.296875 \nz\n\" id=\"DejaVuSans-50\"/>\n      </defs>\n      <g transform=\"translate(186.204795 239.238437)scale(0.1 -0.1)\">\n       <use xlink:href=\"#DejaVuSans-50\"/>\n       <use x=\"63.623047\" xlink:href=\"#DejaVuSans-48\"/>\n       <use x=\"127.246094\" xlink:href=\"#DejaVuSans-48\"/>\n       <use x=\"190.869141\" xlink:href=\"#DejaVuSans-48\"/>\n       <use x=\"254.492188\" xlink:href=\"#DejaVuSans-48\"/>\n      </g>\n     </g>\n    </g>\n    <g id=\"xtick_4\">\n     <g id=\"line2d_4\">\n      <g>\n       <use style=\"stroke:#000000;stroke-width:0.8;\" x=\"270.430604\" xlink:href=\"#m72abdfa6d8\" y=\"224.64\"/>\n      </g>\n     </g>\n     <g id=\"text_4\">\n      <!-- 30000 -->\n      <defs>\n       <path d=\"M 40.578125 39.3125 \nQ 47.65625 37.796875 51.625 33 \nQ 55.609375 28.21875 55.609375 21.1875 \nQ 55.609375 10.40625 48.1875 4.484375 \nQ 40.765625 -1.421875 27.09375 -1.421875 \nQ 22.515625 -1.421875 17.65625 -0.515625 \nQ 12.796875 0.390625 7.625 2.203125 \nL 7.625 11.71875 \nQ 11.71875 9.328125 16.59375 8.109375 \nQ 21.484375 6.890625 26.8125 6.890625 \nQ 36.078125 6.890625 40.9375 10.546875 \nQ 45.796875 14.203125 45.796875 21.1875 \nQ 45.796875 27.640625 41.28125 31.265625 \nQ 36.765625 34.90625 28.71875 34.90625 \nL 20.21875 34.90625 \nL 20.21875 43.015625 \nL 29.109375 43.015625 \nQ 36.375 43.015625 40.234375 45.921875 \nQ 44.09375 48.828125 44.09375 54.296875 \nQ 44.09375 59.90625 40.109375 62.90625 \nQ 36.140625 65.921875 28.71875 65.921875 \nQ 24.65625 65.921875 20.015625 65.03125 \nQ 15.375 64.15625 9.8125 62.3125 \nL 9.8125 71.09375 \nQ 15.4375 72.65625 20.34375 73.4375 \nQ 25.25 74.21875 29.59375 74.21875 \nQ 40.828125 74.21875 47.359375 69.109375 \nQ 53.90625 64.015625 53.90625 55.328125 \nQ 53.90625 49.265625 50.4375 45.09375 \nQ 46.96875 40.921875 40.578125 39.3125 \nz\n\" id=\"DejaVuSans-51\"/>\n      </defs>\n      <g transform=\"translate(254.524354 239.238437)scale(0.1 -0.1)\">\n       <use xlink:href=\"#DejaVuSans-51\"/>\n       <use x=\"63.623047\" xlink:href=\"#DejaVuSans-48\"/>\n       <use x=\"127.246094\" xlink:href=\"#DejaVuSans-48\"/>\n       <use x=\"190.869141\" xlink:href=\"#DejaVuSans-48\"/>\n       <use x=\"254.492188\" xlink:href=\"#DejaVuSans-48\"/>\n      </g>\n     </g>\n    </g>\n    <g id=\"xtick_5\">\n     <g id=\"line2d_5\">\n      <g>\n       <use style=\"stroke:#000000;stroke-width:0.8;\" x=\"338.750164\" xlink:href=\"#m72abdfa6d8\" y=\"224.64\"/>\n      </g>\n     </g>\n     <g id=\"text_5\">\n      <!-- 40000 -->\n      <defs>\n       <path d=\"M 37.796875 64.3125 \nL 12.890625 25.390625 \nL 37.796875 25.390625 \nz\nM 35.203125 72.90625 \nL 47.609375 72.90625 \nL 47.609375 25.390625 \nL 58.015625 25.390625 \nL 58.015625 17.1875 \nL 47.609375 17.1875 \nL 47.609375 0 \nL 37.796875 0 \nL 37.796875 17.1875 \nL 4.890625 17.1875 \nL 4.890625 26.703125 \nz\n\" id=\"DejaVuSans-52\"/>\n      </defs>\n      <g transform=\"translate(322.843914 239.238437)scale(0.1 -0.1)\">\n       <use xlink:href=\"#DejaVuSans-52\"/>\n       <use x=\"63.623047\" xlink:href=\"#DejaVuSans-48\"/>\n       <use x=\"127.246094\" xlink:href=\"#DejaVuSans-48\"/>\n       <use x=\"190.869141\" xlink:href=\"#DejaVuSans-48\"/>\n       <use x=\"254.492188\" xlink:href=\"#DejaVuSans-48\"/>\n      </g>\n     </g>\n    </g>\n   </g>\n   <g id=\"matplotlib.axis_2\">\n    <g id=\"ytick_1\">\n     <g id=\"line2d_6\">\n      <defs>\n       <path d=\"M 0 0 \nL -3.5 0 \n\" id=\"m6ec9d12b1c\" style=\"stroke:#000000;stroke-width:0.8;\"/>\n      </defs>\n      <g>\n       <use style=\"stroke:#000000;stroke-width:0.8;\" x=\"53.328125\" xlink:href=\"#m6ec9d12b1c\" y=\"224.64\"/>\n      </g>\n     </g>\n     <g id=\"text_6\">\n      <!-- 0 -->\n      <g transform=\"translate(39.965625 228.439219)scale(0.1 -0.1)\">\n       <use xlink:href=\"#DejaVuSans-48\"/>\n      </g>\n     </g>\n    </g>\n    <g id=\"ytick_2\">\n     <g id=\"line2d_7\">\n      <g>\n       <use style=\"stroke:#000000;stroke-width:0.8;\" x=\"53.328125\" xlink:href=\"#m6ec9d12b1c\" y=\"197.229581\"/>\n      </g>\n     </g>\n     <g id=\"text_7\">\n      <!-- 200 -->\n      <g transform=\"translate(27.240625 201.0288)scale(0.1 -0.1)\">\n       <use xlink:href=\"#DejaVuSans-50\"/>\n       <use x=\"63.623047\" xlink:href=\"#DejaVuSans-48\"/>\n       <use x=\"127.246094\" xlink:href=\"#DejaVuSans-48\"/>\n      </g>\n     </g>\n    </g>\n    <g id=\"ytick_3\">\n     <g id=\"line2d_8\">\n      <g>\n       <use style=\"stroke:#000000;stroke-width:0.8;\" x=\"53.328125\" xlink:href=\"#m6ec9d12b1c\" y=\"169.819162\"/>\n      </g>\n     </g>\n     <g id=\"text_8\">\n      <!-- 400 -->\n      <g transform=\"translate(27.240625 173.618381)scale(0.1 -0.1)\">\n       <use xlink:href=\"#DejaVuSans-52\"/>\n       <use x=\"63.623047\" xlink:href=\"#DejaVuSans-48\"/>\n       <use x=\"127.246094\" xlink:href=\"#DejaVuSans-48\"/>\n      </g>\n     </g>\n    </g>\n    <g id=\"ytick_4\">\n     <g id=\"line2d_9\">\n      <g>\n       <use style=\"stroke:#000000;stroke-width:0.8;\" x=\"53.328125\" xlink:href=\"#m6ec9d12b1c\" y=\"142.408744\"/>\n      </g>\n     </g>\n     <g id=\"text_9\">\n      <!-- 600 -->\n      <defs>\n       <path d=\"M 33.015625 40.375 \nQ 26.375 40.375 22.484375 35.828125 \nQ 18.609375 31.296875 18.609375 23.390625 \nQ 18.609375 15.53125 22.484375 10.953125 \nQ 26.375 6.390625 33.015625 6.390625 \nQ 39.65625 6.390625 43.53125 10.953125 \nQ 47.40625 15.53125 47.40625 23.390625 \nQ 47.40625 31.296875 43.53125 35.828125 \nQ 39.65625 40.375 33.015625 40.375 \nz\nM 52.59375 71.296875 \nL 52.59375 62.3125 \nQ 48.875 64.0625 45.09375 64.984375 \nQ 41.3125 65.921875 37.59375 65.921875 \nQ 27.828125 65.921875 22.671875 59.328125 \nQ 17.53125 52.734375 16.796875 39.40625 \nQ 19.671875 43.65625 24.015625 45.921875 \nQ 28.375 48.1875 33.59375 48.1875 \nQ 44.578125 48.1875 50.953125 41.515625 \nQ 57.328125 34.859375 57.328125 23.390625 \nQ 57.328125 12.15625 50.6875 5.359375 \nQ 44.046875 -1.421875 33.015625 -1.421875 \nQ 20.359375 -1.421875 13.671875 8.265625 \nQ 6.984375 17.96875 6.984375 36.375 \nQ 6.984375 53.65625 15.1875 63.9375 \nQ 23.390625 74.21875 37.203125 74.21875 \nQ 40.921875 74.21875 44.703125 73.484375 \nQ 48.484375 72.75 52.59375 71.296875 \nz\n\" id=\"DejaVuSans-54\"/>\n      </defs>\n      <g transform=\"translate(27.240625 146.207962)scale(0.1 -0.1)\">\n       <use xlink:href=\"#DejaVuSans-54\"/>\n       <use x=\"63.623047\" xlink:href=\"#DejaVuSans-48\"/>\n       <use x=\"127.246094\" xlink:href=\"#DejaVuSans-48\"/>\n      </g>\n     </g>\n    </g>\n    <g id=\"ytick_5\">\n     <g id=\"line2d_10\">\n      <g>\n       <use style=\"stroke:#000000;stroke-width:0.8;\" x=\"53.328125\" xlink:href=\"#m6ec9d12b1c\" y=\"114.998325\"/>\n      </g>\n     </g>\n     <g id=\"text_10\">\n      <!-- 800 -->\n      <defs>\n       <path d=\"M 31.78125 34.625 \nQ 24.75 34.625 20.71875 30.859375 \nQ 16.703125 27.09375 16.703125 20.515625 \nQ 16.703125 13.921875 20.71875 10.15625 \nQ 24.75 6.390625 31.78125 6.390625 \nQ 38.8125 6.390625 42.859375 10.171875 \nQ 46.921875 13.96875 46.921875 20.515625 \nQ 46.921875 27.09375 42.890625 30.859375 \nQ 38.875 34.625 31.78125 34.625 \nz\nM 21.921875 38.8125 \nQ 15.578125 40.375 12.03125 44.71875 \nQ 8.5 49.078125 8.5 55.328125 \nQ 8.5 64.0625 14.71875 69.140625 \nQ 20.953125 74.21875 31.78125 74.21875 \nQ 42.671875 74.21875 48.875 69.140625 \nQ 55.078125 64.0625 55.078125 55.328125 \nQ 55.078125 49.078125 51.53125 44.71875 \nQ 48 40.375 41.703125 38.8125 \nQ 48.828125 37.15625 52.796875 32.3125 \nQ 56.78125 27.484375 56.78125 20.515625 \nQ 56.78125 9.90625 50.3125 4.234375 \nQ 43.84375 -1.421875 31.78125 -1.421875 \nQ 19.734375 -1.421875 13.25 4.234375 \nQ 6.78125 9.90625 6.78125 20.515625 \nQ 6.78125 27.484375 10.78125 32.3125 \nQ 14.796875 37.15625 21.921875 38.8125 \nz\nM 18.3125 54.390625 \nQ 18.3125 48.734375 21.84375 45.5625 \nQ 25.390625 42.390625 31.78125 42.390625 \nQ 38.140625 42.390625 41.71875 45.5625 \nQ 45.3125 48.734375 45.3125 54.390625 \nQ 45.3125 60.0625 41.71875 63.234375 \nQ 38.140625 66.40625 31.78125 66.40625 \nQ 25.390625 66.40625 21.84375 63.234375 \nQ 18.3125 60.0625 18.3125 54.390625 \nz\n\" id=\"DejaVuSans-56\"/>\n      </defs>\n      <g transform=\"translate(27.240625 118.797543)scale(0.1 -0.1)\">\n       <use xlink:href=\"#DejaVuSans-56\"/>\n       <use x=\"63.623047\" xlink:href=\"#DejaVuSans-48\"/>\n       <use x=\"127.246094\" xlink:href=\"#DejaVuSans-48\"/>\n      </g>\n     </g>\n    </g>\n    <g id=\"ytick_6\">\n     <g id=\"line2d_11\">\n      <g>\n       <use style=\"stroke:#000000;stroke-width:0.8;\" x=\"53.328125\" xlink:href=\"#m6ec9d12b1c\" y=\"87.587906\"/>\n      </g>\n     </g>\n     <g id=\"text_11\">\n      <!-- 1000 -->\n      <g transform=\"translate(20.878125 91.387125)scale(0.1 -0.1)\">\n       <use xlink:href=\"#DejaVuSans-49\"/>\n       <use x=\"63.623047\" xlink:href=\"#DejaVuSans-48\"/>\n       <use x=\"127.246094\" xlink:href=\"#DejaVuSans-48\"/>\n       <use x=\"190.869141\" xlink:href=\"#DejaVuSans-48\"/>\n      </g>\n     </g>\n    </g>\n    <g id=\"ytick_7\">\n     <g id=\"line2d_12\">\n      <g>\n       <use style=\"stroke:#000000;stroke-width:0.8;\" x=\"53.328125\" xlink:href=\"#m6ec9d12b1c\" y=\"60.177487\"/>\n      </g>\n     </g>\n     <g id=\"text_12\">\n      <!-- 1200 -->\n      <g transform=\"translate(20.878125 63.976706)scale(0.1 -0.1)\">\n       <use xlink:href=\"#DejaVuSans-49\"/>\n       <use x=\"63.623047\" xlink:href=\"#DejaVuSans-50\"/>\n       <use x=\"127.246094\" xlink:href=\"#DejaVuSans-48\"/>\n       <use x=\"190.869141\" xlink:href=\"#DejaVuSans-48\"/>\n      </g>\n     </g>\n    </g>\n    <g id=\"ytick_8\">\n     <g id=\"line2d_13\">\n      <g>\n       <use style=\"stroke:#000000;stroke-width:0.8;\" x=\"53.328125\" xlink:href=\"#m6ec9d12b1c\" y=\"32.767068\"/>\n      </g>\n     </g>\n     <g id=\"text_13\">\n      <!-- 1400 -->\n      <g transform=\"translate(20.878125 36.566287)scale(0.1 -0.1)\">\n       <use xlink:href=\"#DejaVuSans-49\"/>\n       <use x=\"63.623047\" xlink:href=\"#DejaVuSans-52\"/>\n       <use x=\"127.246094\" xlink:href=\"#DejaVuSans-48\"/>\n       <use x=\"190.869141\" xlink:href=\"#DejaVuSans-48\"/>\n      </g>\n     </g>\n    </g>\n    <g id=\"text_14\">\n     <!-- Frequency -->\n     <defs>\n      <path d=\"M 9.8125 72.90625 \nL 51.703125 72.90625 \nL 51.703125 64.59375 \nL 19.671875 64.59375 \nL 19.671875 43.109375 \nL 48.578125 43.109375 \nL 48.578125 34.8125 \nL 19.671875 34.8125 \nL 19.671875 0 \nL 9.8125 0 \nz\n\" id=\"DejaVuSans-70\"/>\n      <path d=\"M 41.109375 46.296875 \nQ 39.59375 47.171875 37.8125 47.578125 \nQ 36.03125 48 33.890625 48 \nQ 26.265625 48 22.1875 43.046875 \nQ 18.109375 38.09375 18.109375 28.8125 \nL 18.109375 0 \nL 9.078125 0 \nL 9.078125 54.6875 \nL 18.109375 54.6875 \nL 18.109375 46.1875 \nQ 20.953125 51.171875 25.484375 53.578125 \nQ 30.03125 56 36.53125 56 \nQ 37.453125 56 38.578125 55.875 \nQ 39.703125 55.765625 41.0625 55.515625 \nz\n\" id=\"DejaVuSans-114\"/>\n      <path d=\"M 56.203125 29.59375 \nL 56.203125 25.203125 \nL 14.890625 25.203125 \nQ 15.484375 15.921875 20.484375 11.0625 \nQ 25.484375 6.203125 34.421875 6.203125 \nQ 39.59375 6.203125 44.453125 7.46875 \nQ 49.3125 8.734375 54.109375 11.28125 \nL 54.109375 2.78125 \nQ 49.265625 0.734375 44.1875 -0.34375 \nQ 39.109375 -1.421875 33.890625 -1.421875 \nQ 20.796875 -1.421875 13.15625 6.1875 \nQ 5.515625 13.8125 5.515625 26.8125 \nQ 5.515625 40.234375 12.765625 48.109375 \nQ 20.015625 56 32.328125 56 \nQ 43.359375 56 49.78125 48.890625 \nQ 56.203125 41.796875 56.203125 29.59375 \nz\nM 47.21875 32.234375 \nQ 47.125 39.59375 43.09375 43.984375 \nQ 39.0625 48.390625 32.421875 48.390625 \nQ 24.90625 48.390625 20.390625 44.140625 \nQ 15.875 39.890625 15.1875 32.171875 \nz\n\" id=\"DejaVuSans-101\"/>\n      <path d=\"M 14.796875 27.296875 \nQ 14.796875 17.390625 18.875 11.75 \nQ 22.953125 6.109375 30.078125 6.109375 \nQ 37.203125 6.109375 41.296875 11.75 \nQ 45.40625 17.390625 45.40625 27.296875 \nQ 45.40625 37.203125 41.296875 42.84375 \nQ 37.203125 48.484375 30.078125 48.484375 \nQ 22.953125 48.484375 18.875 42.84375 \nQ 14.796875 37.203125 14.796875 27.296875 \nz\nM 45.40625 8.203125 \nQ 42.578125 3.328125 38.25 0.953125 \nQ 33.9375 -1.421875 27.875 -1.421875 \nQ 17.96875 -1.421875 11.734375 6.484375 \nQ 5.515625 14.40625 5.515625 27.296875 \nQ 5.515625 40.1875 11.734375 48.09375 \nQ 17.96875 56 27.875 56 \nQ 33.9375 56 38.25 53.625 \nQ 42.578125 51.265625 45.40625 46.390625 \nL 45.40625 54.6875 \nL 54.390625 54.6875 \nL 54.390625 -20.796875 \nL 45.40625 -20.796875 \nz\n\" id=\"DejaVuSans-113\"/>\n      <path d=\"M 8.5 21.578125 \nL 8.5 54.6875 \nL 17.484375 54.6875 \nL 17.484375 21.921875 \nQ 17.484375 14.15625 20.5 10.265625 \nQ 23.53125 6.390625 29.59375 6.390625 \nQ 36.859375 6.390625 41.078125 11.03125 \nQ 45.3125 15.671875 45.3125 23.6875 \nL 45.3125 54.6875 \nL 54.296875 54.6875 \nL 54.296875 0 \nL 45.3125 0 \nL 45.3125 8.40625 \nQ 42.046875 3.421875 37.71875 1 \nQ 33.40625 -1.421875 27.6875 -1.421875 \nQ 18.265625 -1.421875 13.375 4.4375 \nQ 8.5 10.296875 8.5 21.578125 \nz\nM 31.109375 56 \nz\n\" id=\"DejaVuSans-117\"/>\n      <path d=\"M 54.890625 33.015625 \nL 54.890625 0 \nL 45.90625 0 \nL 45.90625 32.71875 \nQ 45.90625 40.484375 42.875 44.328125 \nQ 39.84375 48.1875 33.796875 48.1875 \nQ 26.515625 48.1875 22.3125 43.546875 \nQ 18.109375 38.921875 18.109375 30.90625 \nL 18.109375 0 \nL 9.078125 0 \nL 9.078125 54.6875 \nL 18.109375 54.6875 \nL 18.109375 46.1875 \nQ 21.34375 51.125 25.703125 53.5625 \nQ 30.078125 56 35.796875 56 \nQ 45.21875 56 50.046875 50.171875 \nQ 54.890625 44.34375 54.890625 33.015625 \nz\n\" id=\"DejaVuSans-110\"/>\n      <path d=\"M 48.78125 52.59375 \nL 48.78125 44.1875 \nQ 44.96875 46.296875 41.140625 47.34375 \nQ 37.3125 48.390625 33.40625 48.390625 \nQ 24.65625 48.390625 19.8125 42.84375 \nQ 14.984375 37.3125 14.984375 27.296875 \nQ 14.984375 17.28125 19.8125 11.734375 \nQ 24.65625 6.203125 33.40625 6.203125 \nQ 37.3125 6.203125 41.140625 7.25 \nQ 44.96875 8.296875 48.78125 10.40625 \nL 48.78125 2.09375 \nQ 45.015625 0.34375 40.984375 -0.53125 \nQ 36.96875 -1.421875 32.421875 -1.421875 \nQ 20.0625 -1.421875 12.78125 6.34375 \nQ 5.515625 14.109375 5.515625 27.296875 \nQ 5.515625 40.671875 12.859375 48.328125 \nQ 20.21875 56 33.015625 56 \nQ 37.15625 56 41.109375 55.140625 \nQ 45.0625 54.296875 48.78125 52.59375 \nz\n\" id=\"DejaVuSans-99\"/>\n      <path d=\"M 32.171875 -5.078125 \nQ 28.375 -14.84375 24.75 -17.8125 \nQ 21.140625 -20.796875 15.09375 -20.796875 \nL 7.90625 -20.796875 \nL 7.90625 -13.28125 \nL 13.1875 -13.28125 \nQ 16.890625 -13.28125 18.9375 -11.515625 \nQ 21 -9.765625 23.484375 -3.21875 \nL 25.09375 0.875 \nL 2.984375 54.6875 \nL 12.5 54.6875 \nL 29.59375 11.921875 \nL 46.6875 54.6875 \nL 56.203125 54.6875 \nz\n\" id=\"DejaVuSans-121\"/>\n     </defs>\n     <g transform=\"translate(14.798438 142.217656)rotate(-90)scale(0.1 -0.1)\">\n      <use xlink:href=\"#DejaVuSans-70\"/>\n      <use x=\"57.410156\" xlink:href=\"#DejaVuSans-114\"/>\n      <use x=\"98.492188\" xlink:href=\"#DejaVuSans-101\"/>\n      <use x=\"160.015625\" xlink:href=\"#DejaVuSans-113\"/>\n      <use x=\"223.492188\" xlink:href=\"#DejaVuSans-117\"/>\n      <use x=\"286.871094\" xlink:href=\"#DejaVuSans-101\"/>\n      <use x=\"348.394531\" xlink:href=\"#DejaVuSans-110\"/>\n      <use x=\"411.773438\" xlink:href=\"#DejaVuSans-99\"/>\n      <use x=\"466.753906\" xlink:href=\"#DejaVuSans-121\"/>\n     </g>\n    </g>\n   </g>\n   <g id=\"patch_103\">\n    <path d=\"M 53.328125 224.64 \nL 53.328125 7.2 \n\" style=\"fill:none;stroke:#000000;stroke-linecap:square;stroke-linejoin:miter;stroke-width:0.8;\"/>\n   </g>\n   <g id=\"patch_104\">\n    <path d=\"M 388.128125 224.64 \nL 388.128125 7.2 \n\" style=\"fill:none;stroke:#000000;stroke-linecap:square;stroke-linejoin:miter;stroke-width:0.8;\"/>\n   </g>\n   <g id=\"patch_105\">\n    <path d=\"M 53.328125 224.64 \nL 388.128125 224.64 \n\" style=\"fill:none;stroke:#000000;stroke-linecap:square;stroke-linejoin:miter;stroke-width:0.8;\"/>\n   </g>\n   <g id=\"patch_106\">\n    <path d=\"M 53.328125 7.2 \nL 388.128125 7.2 \n\" style=\"fill:none;stroke:#000000;stroke-linecap:square;stroke-linejoin:miter;stroke-width:0.8;\"/>\n   </g>\n  </g>\n </g>\n <defs>\n  <clipPath id=\"pd9484fea6d\">\n   <rect height=\"217.44\" width=\"334.8\" x=\"53.328125\" y=\"7.2\"/>\n  </clipPath>\n </defs>\n</svg>\n",
      "image/png": "[encoded data removed]"
     },
     "metadata": {
      "needs_background": "light"
     }
    }
   ],
   "source": [
    "df['valor_aluguel'].plot(kind = 'hist', bins= 100)"
   ]
  },
  {
   "cell_type": "code",
   "execution_count": 49,
   "metadata": {},
   "outputs": [],
   "source": [
    "import numpy as np"
   ]
  },
  {
   "cell_type": "code",
   "execution_count": 50,
   "metadata": {
    "tags": []
   },
   "outputs": [
    {
     "output_type": "execute_result",
     "data": {
      "text/plain": "            0\n450.0     580\n895.5    1511\n1341.0   1207\n1786.5   1232\n2232.0    821\n...       ...\n42772.5     0\n43218.0     0\n43663.5     0\n44109.0     0\n44554.5     1\n\n[100 rows x 1 columns]",
      "text/html": "<div>\n<style scoped>\n    .dataframe tbody tr th:only-of-type {\n        vertical-align: middle;\n    }\n\n    .dataframe tbody tr th {\n        vertical-align: top;\n    }\n\n    .dataframe thead th {\n        text-align: right;\n    }\n</style>\n<table border=\"1\" class=\"dataframe\">\n  <thead>\n    <tr style=\"text-align: right;\">\n      <th></th>\n      <th>0</th>\n    </tr>\n  </thead>\n  <tbody>\n    <tr>\n      <th>450.0</th>\n      <td>580</td>\n    </tr>\n    <tr>\n      <th>895.5</th>\n      <td>1511</td>\n    </tr>\n    <tr>\n      <th>1341.0</th>\n      <td>1207</td>\n    </tr>\n    <tr>\n      <th>1786.5</th>\n      <td>1232</td>\n    </tr>\n    <tr>\n      <th>2232.0</th>\n      <td>821</td>\n    </tr>\n    <tr>\n      <th>...</th>\n      <td>...</td>\n    </tr>\n    <tr>\n      <th>42772.5</th>\n      <td>0</td>\n    </tr>\n    <tr>\n      <th>43218.0</th>\n      <td>0</td>\n    </tr>\n    <tr>\n      <th>43663.5</th>\n      <td>0</td>\n    </tr>\n    <tr>\n      <th>44109.0</th>\n      <td>0</td>\n    </tr>\n    <tr>\n      <th>44554.5</th>\n      <td>1</td>\n    </tr>\n  </tbody>\n</table>\n<p>100 rows × 1 columns</p>\n</div>"
     },
     "metadata": {},
     "execution_count": 50
    }
   ],
   "source": [
    "hist_values = np.histogram(df['valor_aluguel'], bins=100)\n",
    "hist_frame = pd.DataFrame(hist_values[0], index=hist_values[1][:-1])\n",
    "hist_frame"
   ]
  },
  {
   "cell_type": "code",
   "execution_count": 51,
   "metadata": {},
   "outputs": [
    {
     "output_type": "execute_result",
     "data": {
      "text/plain": "11"
     },
     "metadata": {},
     "execution_count": 51
    }
   ],
   "source": [
    "#(df['valor_aluguel'].value_counts().count()/10).round()\n",
    "round(df['rooms'].nunique())"
   ]
  },
  {
   "cell_type": "code",
   "execution_count": 52,
   "metadata": {},
   "outputs": [
    {
     "output_type": "execute_result",
     "data": {
      "text/plain": "skew            1.838877\nkurtosis        4.624228\ncount       10692.000000\nmean         3896.247194\nstd          3408.545518\nmin           450.000000\n25%          1530.000000\n50%          2661.000000\n75%          5000.000000\nmax         45000.000000\nName: valor_aluguel, dtype: float64"
     },
     "metadata": {},
     "execution_count": 52
    }
   ],
   "source": [
    "dfs = df['valor_aluguel'].describe()\n",
    "aux = pd.Series({'skew': df.valor_aluguel.skew(), 'kurtosis': df['valor_aluguel'].kurtosis()}, name='valor_aluguel')\n",
    "pd.concat([aux, dfs])"
   ]
  },
  {
   "cell_type": "code",
   "execution_count": 53,
   "metadata": {},
   "outputs": [
    {
     "output_type": "execute_result",
     "data": {
      "text/plain": "1.8388773035440982"
     },
     "metadata": {},
     "execution_count": 53
    }
   ],
   "source": [
    "#skewness positive skew\n",
    "df.valor_aluguel.skew()"
   ]
  },
  {
   "cell_type": "code",
   "execution_count": 54,
   "metadata": {},
   "outputs": [
    {
     "output_type": "execute_result",
     "data": {
      "text/plain": "4.624228179818687"
     },
     "metadata": {},
     "execution_count": 54
    }
   ],
   "source": [
    "#kurtose - leptocurtica\n",
    "df.valor_aluguel.kurtosis()\n"
   ]
  },
  {
   "cell_type": "markdown",
   "metadata": {},
   "source": [
    "## Exploracao multivariáveis"
   ]
  },
  {
   "cell_type": "markdown",
   "metadata": {},
   "source": [
    "### Perguntas\n",
    " \n",
    "- Qual a cidade com a média de aluguel mais alta? \n",
    "- Quantos banheiros existem nas residencias com alugueis mais altos? \n",
    "- Os imóveis mais caros aceitam animal?\n",
    "- Os imóveis mais caros são mobiliados? "
   ]
  },
  {
   "cell_type": "code",
   "execution_count": 55,
   "metadata": {},
   "outputs": [
    {
     "output_type": "execute_result",
     "data": {
      "text/plain": "city\nSão Paulo         4652.793783\nBelo Horizonte    3664.127981\nRio de Janeiro    3232.904064\nCampinas          2364.290739\nPorto Alegre      2337.699916\nName: valor_aluguel, dtype: float64"
     },
     "metadata": {},
     "execution_count": 55
    }
   ],
   "source": [
    "#Qual a cidade com a média de aluguel mais alta? \n",
    "\n",
    "df.groupby('city')['valor_aluguel'].mean().sort_values(ascending=False)"
   ]
  },
  {
   "cell_type": "code",
   "execution_count": 56,
   "metadata": {},
   "outputs": [
    {
     "output_type": "execute_result",
     "data": {
      "text/plain": "             city  valor_aluguel\n4       São Paulo           3400\n0  Belo Horizonte           2300\n3  Rio de Janeiro           2300\n2    Porto Alegre           1650\n1        Campinas           1500",
      "text/html": "<div>\n<style scoped>\n    .dataframe tbody tr th:only-of-type {\n        vertical-align: middle;\n    }\n\n    .dataframe tbody tr th {\n        vertical-align: top;\n    }\n\n    .dataframe thead th {\n        text-align: right;\n    }\n</style>\n<table border=\"1\" class=\"dataframe\">\n  <thead>\n    <tr style=\"text-align: right;\">\n      <th></th>\n      <th>city</th>\n      <th>valor_aluguel</th>\n    </tr>\n  </thead>\n  <tbody>\n    <tr>\n      <th>4</th>\n      <td>São Paulo</td>\n      <td>3400</td>\n    </tr>\n    <tr>\n      <th>0</th>\n      <td>Belo Horizonte</td>\n      <td>2300</td>\n    </tr>\n    <tr>\n      <th>3</th>\n      <td>Rio de Janeiro</td>\n      <td>2300</td>\n    </tr>\n    <tr>\n      <th>2</th>\n      <td>Porto Alegre</td>\n      <td>1650</td>\n    </tr>\n    <tr>\n      <th>1</th>\n      <td>Campinas</td>\n      <td>1500</td>\n    </tr>\n  </tbody>\n</table>\n</div>"
     },
     "metadata": {},
     "execution_count": 56
    }
   ],
   "source": [
    "df.groupby('city')['valor_aluguel'].median().reset_index().sort_values('valor_aluguel', ascending = False)"
   ]
  },
  {
   "cell_type": "code",
   "execution_count": 57,
   "metadata": {},
   "outputs": [
    {
     "output_type": "execute_result",
     "data": {
      "text/plain": "0        True\n1        True\n2        True\n3        True\n4        True\n         ... \n10687    True\n10688    True\n10689    True\n10690    True\n10691    True\nLength: 10692, dtype: bool"
     },
     "metadata": {},
     "execution_count": 57
    }
   ],
   "source": [
    "x = df[['valor_aluguel', 'area']]\n",
    "x['valor_aluguel'] > x['area']"
   ]
  },
  {
   "cell_type": "code",
   "execution_count": 58,
   "metadata": {},
   "outputs": [
    {
     "output_type": "execute_result",
     "data": {
      "text/plain": "0        True\n1        True\n2        True\n3        True\n4        True\n         ... \n10687    True\n10688    True\n10689    True\n10690    True\n10691    True\nLength: 10692, dtype: bool"
     },
     "metadata": {},
     "execution_count": 58
    }
   ],
   "source": [
    "x, b = df['valor_aluguel'], df['area']\n",
    "x > b"
   ]
  },
  {
   "cell_type": "code",
   "execution_count": 59,
   "metadata": {},
   "outputs": [
    {
     "output_type": "execute_result",
     "data": {
      "text/plain": "city\nPorto Alegre      2550.0\nCampinas          2800.0\nRio de Janeiro    3900.0\nBelo Horizonte    4600.0\nSão Paulo         6000.0\nName: 75%, dtype: float64"
     },
     "metadata": {},
     "execution_count": 59
    }
   ],
   "source": [
    "df.groupby('city')['valor_aluguel'].describe()['75%'].sort_values()\n",
    "#df[df['city'] == 'São Paulo']['valor_aluguel'].describe()['75%']"
   ]
  },
  {
   "cell_type": "code",
   "execution_count": 67,
   "metadata": {},
   "outputs": [],
   "source": [
    "#Quantos banheiros existem em média nas residencias com alugueis mais altos? \n",
    "## definicao: algueis mais altos são valores acima de 5000\n",
    "def mean_high_rent(city): \n",
    "    return df[df['city'] == city]['valor_aluguel'].quantile(0.75)\n",
    "\n",
    "df['aluguel_alto'] = ['Alto' if vlr >= mean_high_rent(cit) else 'Baixo' for \\\n",
    "        vlr, cit in (df[['valor_aluguel','city']].itertuples(index=False)) ]"
   ]
  },
  {
   "cell_type": "code",
   "execution_count": 68,
   "metadata": {},
   "outputs": [
    {
     "output_type": "execute_result",
     "data": {
      "text/plain": "                 city  valor_aluguel aluguel_alto\n0           São Paulo           3300        Baixo\n1           São Paulo           4960        Baixo\n2        Porto Alegre           2800         Alto\n3        Porto Alegre           1112        Baixo\n4           São Paulo            800        Baixo\n...               ...            ...          ...\n10687    Porto Alegre           1478        Baixo\n10688       São Paulo          15000         Alto\n10689  Rio de Janeiro           6000         Alto\n10690  Rio de Janeiro          12000         Alto\n10691       São Paulo           1400        Baixo\n\n[10692 rows x 3 columns]",
      "text/html": "<div>\n<style scoped>\n    .dataframe tbody tr th:only-of-type {\n        vertical-align: middle;\n    }\n\n    .dataframe tbody tr th {\n        vertical-align: top;\n    }\n\n    .dataframe thead th {\n        text-align: right;\n    }\n</style>\n<table border=\"1\" class=\"dataframe\">\n  <thead>\n    <tr style=\"text-align: right;\">\n      <th></th>\n      <th>city</th>\n      <th>valor_aluguel</th>\n      <th>aluguel_alto</th>\n    </tr>\n  </thead>\n  <tbody>\n    <tr>\n      <th>0</th>\n      <td>São Paulo</td>\n      <td>3300</td>\n      <td>Baixo</td>\n    </tr>\n    <tr>\n      <th>1</th>\n      <td>São Paulo</td>\n      <td>4960</td>\n      <td>Baixo</td>\n    </tr>\n    <tr>\n      <th>2</th>\n      <td>Porto Alegre</td>\n      <td>2800</td>\n      <td>Alto</td>\n    </tr>\n    <tr>\n      <th>3</th>\n      <td>Porto Alegre</td>\n      <td>1112</td>\n      <td>Baixo</td>\n    </tr>\n    <tr>\n      <th>4</th>\n      <td>São Paulo</td>\n      <td>800</td>\n      <td>Baixo</td>\n    </tr>\n    <tr>\n      <th>...</th>\n      <td>...</td>\n      <td>...</td>\n      <td>...</td>\n    </tr>\n    <tr>\n      <th>10687</th>\n      <td>Porto Alegre</td>\n      <td>1478</td>\n      <td>Baixo</td>\n    </tr>\n    <tr>\n      <th>10688</th>\n      <td>São Paulo</td>\n      <td>15000</td>\n      <td>Alto</td>\n    </tr>\n    <tr>\n      <th>10689</th>\n      <td>Rio de Janeiro</td>\n      <td>6000</td>\n      <td>Alto</td>\n    </tr>\n    <tr>\n      <th>10690</th>\n      <td>Rio de Janeiro</td>\n      <td>12000</td>\n      <td>Alto</td>\n    </tr>\n    <tr>\n      <th>10691</th>\n      <td>São Paulo</td>\n      <td>1400</td>\n      <td>Baixo</td>\n    </tr>\n  </tbody>\n</table>\n<p>10692 rows × 3 columns</p>\n</div>"
     },
     "metadata": {},
     "execution_count": 68
    }
   ],
   "source": [
    "df[['city', 'valor_aluguel', 'aluguel_alto']]"
   ]
  },
  {
   "cell_type": "code",
   "execution_count": 69,
   "metadata": {},
   "outputs": [
    {
     "output_type": "execute_result",
     "data": {
      "text/plain": "aluguel_alto\nAlto     3.58\nBaixo    1.76\nName: bathroom, dtype: float64"
     },
     "metadata": {},
     "execution_count": 69
    }
   ],
   "source": [
    "df.groupby(['aluguel_alto'])['bathroom'].mean().round(2)"
   ]
  },
  {
   "cell_type": "code",
   "execution_count": 70,
   "metadata": {},
   "outputs": [
    {
     "output_type": "execute_result",
     "data": {
      "text/plain": "                             bathroom  valor_aluguel\ncity           aluguel_alto                         \nBelo Horizonte Alto              4.05        8739.82\n               Baixo             1.85        1961.46\nCampinas       Alto              3.58        5407.44\n               Baixo             1.40        1319.56\nPorto Alegre   Alto              2.87        5016.94\n               Baixo             1.34        1437.62\nRio de Janeiro Alto              2.64        7026.31\n               Baixo             1.46        1956.05\nSão Paulo      Alto              3.85        9639.25\n               Baixo             1.95        2791.74",
      "text/html": "<div>\n<style scoped>\n    .dataframe tbody tr th:only-of-type {\n        vertical-align: middle;\n    }\n\n    .dataframe tbody tr th {\n        vertical-align: top;\n    }\n\n    .dataframe thead th {\n        text-align: right;\n    }\n</style>\n<table border=\"1\" class=\"dataframe\">\n  <thead>\n    <tr style=\"text-align: right;\">\n      <th></th>\n      <th></th>\n      <th>bathroom</th>\n      <th>valor_aluguel</th>\n    </tr>\n    <tr>\n      <th>city</th>\n      <th>aluguel_alto</th>\n      <th></th>\n      <th></th>\n    </tr>\n  </thead>\n  <tbody>\n    <tr>\n      <th rowspan=\"2\" valign=\"top\">Belo Horizonte</th>\n      <th>Alto</th>\n      <td>4.05</td>\n      <td>8739.82</td>\n    </tr>\n    <tr>\n      <th>Baixo</th>\n      <td>1.85</td>\n      <td>1961.46</td>\n    </tr>\n    <tr>\n      <th rowspan=\"2\" valign=\"top\">Campinas</th>\n      <th>Alto</th>\n      <td>3.58</td>\n      <td>5407.44</td>\n    </tr>\n    <tr>\n      <th>Baixo</th>\n      <td>1.40</td>\n      <td>1319.56</td>\n    </tr>\n    <tr>\n      <th rowspan=\"2\" valign=\"top\">Porto Alegre</th>\n      <th>Alto</th>\n      <td>2.87</td>\n      <td>5016.94</td>\n    </tr>\n    <tr>\n      <th>Baixo</th>\n      <td>1.34</td>\n      <td>1437.62</td>\n    </tr>\n    <tr>\n      <th rowspan=\"2\" valign=\"top\">Rio de Janeiro</th>\n      <th>Alto</th>\n      <td>2.64</td>\n      <td>7026.31</td>\n    </tr>\n    <tr>\n      <th>Baixo</th>\n      <td>1.46</td>\n      <td>1956.05</td>\n    </tr>\n    <tr>\n      <th rowspan=\"2\" valign=\"top\">São Paulo</th>\n      <th>Alto</th>\n      <td>3.85</td>\n      <td>9639.25</td>\n    </tr>\n    <tr>\n      <th>Baixo</th>\n      <td>1.95</td>\n      <td>2791.74</td>\n    </tr>\n  </tbody>\n</table>\n</div>"
     },
     "metadata": {},
     "execution_count": 70
    }
   ],
   "source": [
    "df.groupby(['city','aluguel_alto'])['bathroom','valor_aluguel'].mean().round(2)"
   ]
  },
  {
   "cell_type": "markdown",
   "metadata": {},
   "source": [
    "### Hipóteses\n",
    "\n",
    "- São Paulo é a cidade com o aluguel mais caro.\n",
    "- Quanto mais banheiros em um imovel maior o valor do aluguel.\n",
    "- Os imoveis com mobilia tem o aluguel mais alto. "
   ]
  },
  {
   "cell_type": "code",
   "execution_count": 71,
   "metadata": {},
   "outputs": [
    {
     "output_type": "execute_result",
     "data": {
      "text/plain": "                     valor_aluguel  bathroom  fire insurance (R$)\nvalor_aluguel             1.000000   0.71589             0.988045\nbathroom                  0.715890   1.00000             0.721150\nfire insurance (R$)       0.988045   0.72115             1.000000",
      "text/html": "<div>\n<style scoped>\n    .dataframe tbody tr th:only-of-type {\n        vertical-align: middle;\n    }\n\n    .dataframe tbody tr th {\n        vertical-align: top;\n    }\n\n    .dataframe thead th {\n        text-align: right;\n    }\n</style>\n<table border=\"1\" class=\"dataframe\">\n  <thead>\n    <tr style=\"text-align: right;\">\n      <th></th>\n      <th>valor_aluguel</th>\n      <th>bathroom</th>\n      <th>fire insurance (R$)</th>\n    </tr>\n  </thead>\n  <tbody>\n    <tr>\n      <th>valor_aluguel</th>\n      <td>1.000000</td>\n      <td>0.71589</td>\n      <td>0.988045</td>\n    </tr>\n    <tr>\n      <th>bathroom</th>\n      <td>0.715890</td>\n      <td>1.00000</td>\n      <td>0.721150</td>\n    </tr>\n    <tr>\n      <th>fire insurance (R$)</th>\n      <td>0.988045</td>\n      <td>0.72115</td>\n      <td>1.000000</td>\n    </tr>\n  </tbody>\n</table>\n</div>"
     },
     "metadata": {},
     "execution_count": 71
    }
   ],
   "source": [
    "df[['valor_aluguel', 'bathroom', 'fire insurance (R$)']].corr(method = 'spearman')\n",
    "#df.columns"
   ]
  },
  {
   "cell_type": "code",
   "execution_count": 72,
   "metadata": {},
   "outputs": [],
   "source": [
    "aux = pd.DataFrame({'colunas' : df.columns, 'tipos' : df.dtypes})"
   ]
  },
  {
   "cell_type": "code",
   "execution_count": 73,
   "metadata": {},
   "outputs": [],
   "source": [
    "lista = list(aux[aux['tipos'] == 'int64']['colunas'])"
   ]
  },
  {
   "cell_type": "code",
   "execution_count": 131,
   "metadata": {
    "tags": []
   },
   "outputs": [
    {
     "output_type": "stream",
     "name": "stdout",
     "text": "\narea:\n               valor_aluguel      area\nvalor_aluguel       1.000000  0.728095\narea                0.728095  1.000000\n\nrooms:\n               valor_aluguel     rooms\nvalor_aluguel       1.000000  0.600969\nrooms               0.600969  1.000000\n\nbathroom:\n               valor_aluguel  bathroom\nvalor_aluguel        1.00000   0.71589\nbathroom             0.71589   1.00000\n\nparking spaces:\n                valor_aluguel  parking spaces\nvalor_aluguel        1.000000        0.620175\nparking spaces       0.620175        1.000000\n\nhoa (R$):\n               valor_aluguel  hoa (R$)\nvalor_aluguel       1.000000  0.355785\nhoa (R$)            0.355785  1.000000\n\nvalor_aluguel:\n               valor_aluguel  valor_aluguel\nvalor_aluguel            1.0            1.0\nvalor_aluguel            1.0            1.0\n\nproperty tax (R$):\n                   valor_aluguel  property tax (R$)\nvalor_aluguel            1.00000            0.65923\nproperty tax (R$)        0.65923            1.00000\n\nfire insurance (R$):\n                     valor_aluguel  fire insurance (R$)\nvalor_aluguel             1.000000             0.988045\nfire insurance (R$)       0.988045             1.000000\n\ntotal (R$):\n               valor_aluguel  total (R$)\nvalor_aluguel       1.000000    0.968176\ntotal (R$)          0.968176    1.000000\n"
    }
   ],
   "source": [
    "for coluna in lista:\n",
    "    print('\\n'+coluna+':')\n",
    "    print(df[['valor_aluguel', coluna]].corr(method = 'spearman'))"
   ]
  },
  {
   "cell_type": "markdown",
   "metadata": {},
   "source": [
    "## Visualização de dados"
   ]
  },
  {
   "cell_type": "code",
   "execution_count": null,
   "metadata": {},
   "outputs": [],
   "source": []
  },
  {
   "cell_type": "code",
   "execution_count": null,
   "metadata": {},
   "outputs": [],
   "source": []
  },
  {
   "cell_type": "code",
   "execution_count": null,
   "metadata": {},
   "outputs": [],
   "source": []
  },
  {
   "cell_type": "code",
   "execution_count": null,
   "metadata": {},
   "outputs": [],
   "source": []
  },
  {
   "cell_type": "code",
   "execution_count": null,
   "metadata": {},
   "outputs": [],
   "source": []
  },
  {
   "cell_type": "code",
   "execution_count": null,
   "metadata": {},
   "outputs": [],
   "source": []
  },
  {
   "cell_type": "code",
   "execution_count": null,
   "metadata": {},
   "outputs": [],
   "source": []
  }
 ],
 "metadata": {
  "kernelspec": {
   "display_name": "Python 3",
   "language": "python",
   "name": "python3"
  },
  "language_info": {
   "codemirror_mode": {
    "name": "ipython",
    "version": 3
   },
   "file_extension": ".py",
   "mimetype": "text/x-python",
   "name": "python",
   "nbconvert_exporter": "python",
   "pygments_lexer": "ipython3",
   "version": "3.8.3-final"
  }
 },
 "nbformat": 4,
 "nbformat_minor": 4
}