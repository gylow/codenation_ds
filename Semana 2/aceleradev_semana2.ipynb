{
 "cells": [
  {
   "cell_type": "markdown",
   "metadata": {},
   "source": [
    "# AceleraDev Codenation - Semana 2\n",
    "\n",
    "### Túlio Vieira de Souza | Data Scientist"
   ]
  },
  {
   "cell_type": "markdown",
   "metadata": {},
   "source": [
    "## Manipulando dados"
   ]
  },
  {
   "cell_type": "markdown",
   "metadata": {},
   "source": [
    "### Dicionarios"
   ]
  },
  {
   "cell_type": "code",
   "execution_count": 2,
   "metadata": {},
   "outputs": [],
   "source": [
    "#Importando os pacotes\n",
    "import pandas as pd\n",
    "import numpy as np"
   ]
  },
  {
   "cell_type": "code",
   "execution_count": null,
   "metadata": {},
   "outputs": [],
   "source": [
    "#acessando o help dos pacotes\n",
    "pd?"
   ]
  },
  {
   "cell_type": "code",
   "execution_count": 222,
   "metadata": {},
   "outputs": [],
   "source": [
    "#Criando um dicionário com os dados\n",
    "dados = {'canal_venda' : ['facebook', 'twitter', 'instagram', 'linkedin', 'facebook'],\n",
    "        'acessos': [100, 200, 300 ,400, 500],\n",
    "        'site': ['site1', 'site1', 'site2', 'site2', 'site3'],\n",
    "        'vendas': [1000.52, 1052.34, 2002, 5000, 300 ]}"
   ]
  },
  {
   "cell_type": "code",
   "execution_count": 223,
   "metadata": {},
   "outputs": [
    {
     "output_type": "execute_result",
     "data": {
      "text/plain": "{'canal_venda': ['facebook', 'twitter', 'instagram', 'linkedin', 'facebook'],\n 'acessos': [100, 200, 300, 400, 500],\n 'site': ['site1', 'site1', 'site2', 'site2', 'site3'],\n 'vendas': [1000.52, 1052.34, 2002, 5000, 300]}"
     },
     "metadata": {},
     "execution_count": 223
    }
   ],
   "source": [
    "#para printar o dicionáario\n",
    "dados"
   ]
  },
  {
   "cell_type": "code",
   "execution_count": 224,
   "metadata": {},
   "outputs": [
    {
     "output_type": "execute_result",
     "data": {
      "text/plain": "dict"
     },
     "metadata": {},
     "execution_count": 224
    }
   ],
   "source": [
    "#verificando o tipo do dicionario\n",
    "type(dados)"
   ]
  },
  {
   "cell_type": "code",
   "execution_count": 225,
   "metadata": {},
   "outputs": [
    {
     "output_type": "execute_result",
     "data": {
      "text/plain": "dict_keys(['canal_venda', 'acessos', 'site', 'vendas'])"
     },
     "metadata": {},
     "execution_count": 225
    }
   ],
   "source": [
    "#Acessando as chaves do meu dicionario\n",
    "dados.keys()"
   ]
  },
  {
   "cell_type": "code",
   "execution_count": 226,
   "metadata": {},
   "outputs": [
    {
     "output_type": "execute_result",
     "data": {
      "text/plain": "['site1', 'site1', 'site2', 'site2', 'site3']"
     },
     "metadata": {},
     "execution_count": 226
    }
   ],
   "source": [
    "#Acessando uma chave especifica\n",
    "dados['site']"
   ]
  },
  {
   "cell_type": "code",
   "execution_count": 227,
   "metadata": {},
   "outputs": [
    {
     "output_type": "execute_result",
     "data": {
      "text/plain": "300"
     },
     "metadata": {},
     "execution_count": 227
    }
   ],
   "source": [
    "#Acessando uma posicao especifica de um dicionario\n",
    "dados['acessos'][2]"
   ]
  },
  {
   "cell_type": "code",
   "execution_count": 228,
   "metadata": {},
   "outputs": [
    {
     "output_type": "execute_result",
     "data": {
      "text/plain": "'instagram'"
     },
     "metadata": {},
     "execution_count": 228
    }
   ],
   "source": [
    "#Acessando uma posicao especifica de um dicionario\n",
    "dados['canal_venda'][2]"
   ]
  },
  {
   "cell_type": "code",
   "execution_count": 229,
   "metadata": {},
   "outputs": [
    {
     "output_type": "execute_result",
     "data": {
      "text/plain": "['facebook', 'twitter', 'instagram']"
     },
     "metadata": {},
     "execution_count": 229
    }
   ],
   "source": [
    "#Acessando uma posicao especifica de um dicionario\n",
    "dados['canal_venda'][:3]"
   ]
  },
  {
   "cell_type": "markdown",
   "metadata": {},
   "source": [
    "### Listas"
   ]
  },
  {
   "cell_type": "code",
   "execution_count": 230,
   "metadata": {},
   "outputs": [
    {
     "output_type": "execute_result",
     "data": {
      "text/plain": "list"
     },
     "metadata": {},
     "execution_count": 230
    }
   ],
   "source": [
    "type([1,2,3])"
   ]
  },
  {
   "cell_type": "code",
   "execution_count": 231,
   "metadata": {},
   "outputs": [],
   "source": [
    "#Criando uma lista\n",
    "lista = [200, 200 , 300 ,800, 200]"
   ]
  },
  {
   "cell_type": "code",
   "execution_count": 232,
   "metadata": {},
   "outputs": [
    {
     "output_type": "execute_result",
     "data": {
      "text/plain": "[200, 200, 300, 800, 200]"
     },
     "metadata": {},
     "execution_count": 232
    }
   ],
   "source": [
    "#printando a lista\n",
    "lista"
   ]
  },
  {
   "cell_type": "code",
   "execution_count": 233,
   "metadata": {},
   "outputs": [
    {
     "output_type": "execute_result",
     "data": {
      "text/plain": "200"
     },
     "metadata": {},
     "execution_count": 233
    }
   ],
   "source": [
    "#Vendo valores especificos\n",
    "lista[1]"
   ]
  },
  {
   "cell_type": "code",
   "execution_count": 234,
   "metadata": {},
   "outputs": [
    {
     "output_type": "execute_result",
     "data": {
      "text/plain": "[200, 200, 300]"
     },
     "metadata": {},
     "execution_count": 234
    }
   ],
   "source": [
    "#fatia da lista\n",
    "lista[:3]"
   ]
  },
  {
   "cell_type": "code",
   "execution_count": 235,
   "metadata": {},
   "outputs": [],
   "source": [
    "# Adicionando a lista ao dicionario \n",
    "dados['lista'] = lista"
   ]
  },
  {
   "cell_type": "code",
   "execution_count": 236,
   "metadata": {},
   "outputs": [
    {
     "output_type": "execute_result",
     "data": {
      "text/plain": "{'canal_venda': ['facebook', 'twitter', 'instagram', 'linkedin', 'facebook'],\n 'acessos': [100, 200, 300, 400, 500],\n 'site': ['site1', 'site1', 'site2', 'site2', 'site3'],\n 'vendas': [1000.52, 1052.34, 2002, 5000, 300],\n 'lista': [200, 200, 300, 800, 200]}"
     },
     "metadata": {},
     "execution_count": 236
    }
   ],
   "source": [
    "dados"
   ]
  },
  {
   "cell_type": "markdown",
   "metadata": {},
   "source": [
    "### DataFrames"
   ]
  },
  {
   "cell_type": "code",
   "execution_count": 242,
   "metadata": {},
   "outputs": [
    {
     "output_type": "execute_result",
     "data": {
      "text/plain": "{'canal_venda': ['facebook', 'twitter', 'instagram', 'linkedin', 'facebook'],\n 'acessos': [100, 200, 300, 400, 500],\n 'site': ['site1', 'site1', 'site2', 'site2', 'site3'],\n 'vendas': [1000.52, 1052.34, 2002, 5000, 300],\n 'lista': [200, 200, 300, 800, 200]}"
     },
     "metadata": {},
     "execution_count": 242
    }
   ],
   "source": [
    "dados"
   ]
  },
  {
   "cell_type": "code",
   "execution_count": 243,
   "metadata": {},
   "outputs": [],
   "source": [
    "#Criar um data frame a partir de um dict\n",
    "dtfm = pd.DataFrame(dados)"
   ]
  },
  {
   "cell_type": "code",
   "execution_count": 244,
   "metadata": {},
   "outputs": [
    {
     "output_type": "execute_result",
     "data": {
      "text/plain": "  canal_venda  acessos   site   vendas  lista\n0    facebook      100  site1  1000.52    200\n1     twitter      200  site1  1052.34    200\n2   instagram      300  site2  2002.00    300\n3    linkedin      400  site2  5000.00    800\n4    facebook      500  site3   300.00    200",
      "text/html": "<div>\n<style scoped>\n    .dataframe tbody tr th:only-of-type {\n        vertical-align: middle;\n    }\n\n    .dataframe tbody tr th {\n        vertical-align: top;\n    }\n\n    .dataframe thead th {\n        text-align: right;\n    }\n</style>\n<table border=\"1\" class=\"dataframe\">\n  <thead>\n    <tr style=\"text-align: right;\">\n      <th></th>\n      <th>canal_venda</th>\n      <th>acessos</th>\n      <th>site</th>\n      <th>vendas</th>\n      <th>lista</th>\n    </tr>\n  </thead>\n  <tbody>\n    <tr>\n      <th>0</th>\n      <td>facebook</td>\n      <td>100</td>\n      <td>site1</td>\n      <td>1000.52</td>\n      <td>200</td>\n    </tr>\n    <tr>\n      <th>1</th>\n      <td>twitter</td>\n      <td>200</td>\n      <td>site1</td>\n      <td>1052.34</td>\n      <td>200</td>\n    </tr>\n    <tr>\n      <th>2</th>\n      <td>instagram</td>\n      <td>300</td>\n      <td>site2</td>\n      <td>2002.00</td>\n      <td>300</td>\n    </tr>\n    <tr>\n      <th>3</th>\n      <td>linkedin</td>\n      <td>400</td>\n      <td>site2</td>\n      <td>5000.00</td>\n      <td>800</td>\n    </tr>\n    <tr>\n      <th>4</th>\n      <td>facebook</td>\n      <td>500</td>\n      <td>site3</td>\n      <td>300.00</td>\n      <td>200</td>\n    </tr>\n  </tbody>\n</table>\n</div>"
     },
     "metadata": {},
     "execution_count": 244
    }
   ],
   "source": [
    "#acessando o dataframe\n",
    "dtfm"
   ]
  },
  {
   "cell_type": "code",
   "execution_count": 245,
   "metadata": {},
   "outputs": [
    {
     "output_type": "execute_result",
     "data": {
      "text/plain": "  canal_venda  acessos   site   vendas  lista\n0    facebook      100  site1  1000.52    200\n1     twitter      200  site1  1052.34    200",
      "text/html": "<div>\n<style scoped>\n    .dataframe tbody tr th:only-of-type {\n        vertical-align: middle;\n    }\n\n    .dataframe tbody tr th {\n        vertical-align: top;\n    }\n\n    .dataframe thead th {\n        text-align: right;\n    }\n</style>\n<table border=\"1\" class=\"dataframe\">\n  <thead>\n    <tr style=\"text-align: right;\">\n      <th></th>\n      <th>canal_venda</th>\n      <th>acessos</th>\n      <th>site</th>\n      <th>vendas</th>\n      <th>lista</th>\n    </tr>\n  </thead>\n  <tbody>\n    <tr>\n      <th>0</th>\n      <td>facebook</td>\n      <td>100</td>\n      <td>site1</td>\n      <td>1000.52</td>\n      <td>200</td>\n    </tr>\n    <tr>\n      <th>1</th>\n      <td>twitter</td>\n      <td>200</td>\n      <td>site1</td>\n      <td>1052.34</td>\n      <td>200</td>\n    </tr>\n  </tbody>\n</table>\n</div>"
     },
     "metadata": {},
     "execution_count": 245
    }
   ],
   "source": [
    "#printando os primeiros casos do dataframe\n",
    "dtfm.head(2)"
   ]
  },
  {
   "cell_type": "code",
   "execution_count": 246,
   "metadata": {},
   "outputs": [
    {
     "output_type": "execute_result",
     "data": {
      "text/plain": "(5, 5)"
     },
     "metadata": {},
     "execution_count": 246
    }
   ],
   "source": [
    "#Verificando o formato do dataframe\n",
    "dtfm.shape"
   ]
  },
  {
   "cell_type": "code",
   "execution_count": 247,
   "metadata": {},
   "outputs": [
    {
     "output_type": "execute_result",
     "data": {
      "text/plain": "  canal_venda  acessos   site   vendas  lista\n0    facebook      100  site1  1000.52    200\n1     twitter      200  site1  1052.34    200\n2   instagram      300  site2  2002.00    300\n3    linkedin      400  site2  5000.00    800\n4    facebook      500  site3   300.00    200",
      "text/html": "<div>\n<style scoped>\n    .dataframe tbody tr th:only-of-type {\n        vertical-align: middle;\n    }\n\n    .dataframe tbody tr th {\n        vertical-align: top;\n    }\n\n    .dataframe thead th {\n        text-align: right;\n    }\n</style>\n<table border=\"1\" class=\"dataframe\">\n  <thead>\n    <tr style=\"text-align: right;\">\n      <th></th>\n      <th>canal_venda</th>\n      <th>acessos</th>\n      <th>site</th>\n      <th>vendas</th>\n      <th>lista</th>\n    </tr>\n  </thead>\n  <tbody>\n    <tr>\n      <th>0</th>\n      <td>facebook</td>\n      <td>100</td>\n      <td>site1</td>\n      <td>1000.52</td>\n      <td>200</td>\n    </tr>\n    <tr>\n      <th>1</th>\n      <td>twitter</td>\n      <td>200</td>\n      <td>site1</td>\n      <td>1052.34</td>\n      <td>200</td>\n    </tr>\n    <tr>\n      <th>2</th>\n      <td>instagram</td>\n      <td>300</td>\n      <td>site2</td>\n      <td>2002.00</td>\n      <td>300</td>\n    </tr>\n    <tr>\n      <th>3</th>\n      <td>linkedin</td>\n      <td>400</td>\n      <td>site2</td>\n      <td>5000.00</td>\n      <td>800</td>\n    </tr>\n    <tr>\n      <th>4</th>\n      <td>facebook</td>\n      <td>500</td>\n      <td>site3</td>\n      <td>300.00</td>\n      <td>200</td>\n    </tr>\n  </tbody>\n</table>\n</div>"
     },
     "metadata": {},
     "execution_count": 247
    }
   ],
   "source": [
    "#Verificando o indice do dataframe\n",
    "dtfm"
   ]
  },
  {
   "cell_type": "code",
   "execution_count": 258,
   "metadata": {},
   "outputs": [
    {
     "output_type": "execute_result",
     "data": {
      "text/plain": "canal_venda     object\nacessos          int64\nsite            object\nvendas         float64\nlista            int64\ndtype: object"
     },
     "metadata": {},
     "execution_count": 258
    }
   ],
   "source": [
    "#Verificando os tipos dos dados do dataframe\n",
    "dtfm.dtypes#.value_counts()"
   ]
  },
  {
   "cell_type": "code",
   "execution_count": 273,
   "metadata": {},
   "outputs": [
    {
     "output_type": "execute_result",
     "data": {
      "text/plain": "canal_venda    0\nacessos        0\nsite           0\nvendas         0\nlista          0\nnova_coluna    0\ndtype: int64"
     },
     "metadata": {},
     "execution_count": 273
    }
   ],
   "source": [
    "#Verificando se existem valores faltantes\n",
    "dtfm.isna()#.sum()"
   ]
  },
  {
   "cell_type": "code",
   "execution_count": 254,
   "metadata": {},
   "outputs": [
    {
     "output_type": "execute_result",
     "data": {
      "text/plain": "Index(['canal_venda', 'acessos', 'site', 'vendas', 'lista'], dtype='object')"
     },
     "metadata": {},
     "execution_count": 254
    }
   ],
   "source": [
    "#printando os nomes das colunas\n",
    "dtfm.columns"
   ]
  },
  {
   "cell_type": "code",
   "execution_count": 267,
   "metadata": {},
   "outputs": [
    {
     "output_type": "execute_result",
     "data": {
      "text/plain": "['facebook', 'twitter', 'instagram', 'linkedin', 'facebook']"
     },
     "metadata": {},
     "execution_count": 267
    }
   ],
   "source": [
    "#Acessando uma coluna especifica\n",
    "#list(dtfm['canal_venda'])\n",
    "dtfm['canal_venda']"
   ]
  },
  {
   "cell_type": "code",
   "execution_count": 270,
   "metadata": {},
   "outputs": [],
   "source": [
    "# Criando uma nova coluna\n",
    "dtfm['nova_coluna'] = [1, 2, 3, 4, '']"
   ]
  },
  {
   "cell_type": "code",
   "execution_count": 308,
   "metadata": {},
   "outputs": [
    {
     "output_type": "execute_result",
     "data": {
      "text/plain": "  canal_venda  acessos   site   vendas  lista nova_coluna\n0    facebook      100  site1  1000.52    200           1\n1     twitter      200  site1  1052.34    200           2\n2   instagram      300  site2  2002.00    300           3\n3    linkedin      400  site2  5000.00    800           4\n4    facebook      500  site3   300.00    200            ",
      "text/html": "<div>\n<style scoped>\n    .dataframe tbody tr th:only-of-type {\n        vertical-align: middle;\n    }\n\n    .dataframe tbody tr th {\n        vertical-align: top;\n    }\n\n    .dataframe thead th {\n        text-align: right;\n    }\n</style>\n<table border=\"1\" class=\"dataframe\">\n  <thead>\n    <tr style=\"text-align: right;\">\n      <th></th>\n      <th>canal_venda</th>\n      <th>acessos</th>\n      <th>site</th>\n      <th>vendas</th>\n      <th>lista</th>\n      <th>nova_coluna</th>\n    </tr>\n  </thead>\n  <tbody>\n    <tr>\n      <th>0</th>\n      <td>facebook</td>\n      <td>100</td>\n      <td>site1</td>\n      <td>1000.52</td>\n      <td>200</td>\n      <td>1</td>\n    </tr>\n    <tr>\n      <th>1</th>\n      <td>twitter</td>\n      <td>200</td>\n      <td>site1</td>\n      <td>1052.34</td>\n      <td>200</td>\n      <td>2</td>\n    </tr>\n    <tr>\n      <th>2</th>\n      <td>instagram</td>\n      <td>300</td>\n      <td>site2</td>\n      <td>2002.00</td>\n      <td>300</td>\n      <td>3</td>\n    </tr>\n    <tr>\n      <th>3</th>\n      <td>linkedin</td>\n      <td>400</td>\n      <td>site2</td>\n      <td>5000.00</td>\n      <td>800</td>\n      <td>4</td>\n    </tr>\n    <tr>\n      <th>4</th>\n      <td>facebook</td>\n      <td>500</td>\n      <td>site3</td>\n      <td>300.00</td>\n      <td>200</td>\n      <td></td>\n    </tr>\n  </tbody>\n</table>\n</div>"
     },
     "metadata": {},
     "execution_count": 308
    }
   ],
   "source": [
    "dtfm"
   ]
  },
  {
   "cell_type": "code",
   "execution_count": 310,
   "metadata": {},
   "outputs": [
    {
     "output_type": "execute_result",
     "data": {
      "text/plain": "Index(['canal_venda', 'acessos', 'site', 'vendas', 'lista', 'nova_coluna'], dtype='object')"
     },
     "metadata": {},
     "execution_count": 310
    }
   ],
   "source": [
    "dtfm.columns"
   ]
  },
  {
   "cell_type": "code",
   "execution_count": 314,
   "metadata": {},
   "outputs": [],
   "source": [
    "# Removendo colunas\n",
    "dtfm.drop(columns = 'nova_coluna', inplace=True)"
   ]
  },
  {
   "cell_type": "code",
   "execution_count": 315,
   "metadata": {},
   "outputs": [
    {
     "output_type": "execute_result",
     "data": {
      "text/plain": "  canal_venda  acessos   site   vendas  lista\n0    facebook      100  site1  1000.52    200\n1     twitter      200  site1  1052.34    200\n2   instagram      300  site2  2002.00    300\n3    linkedin      400  site2  5000.00    800\n4    facebook      500  site3   300.00    200",
      "text/html": "<div>\n<style scoped>\n    .dataframe tbody tr th:only-of-type {\n        vertical-align: middle;\n    }\n\n    .dataframe tbody tr th {\n        vertical-align: top;\n    }\n\n    .dataframe thead th {\n        text-align: right;\n    }\n</style>\n<table border=\"1\" class=\"dataframe\">\n  <thead>\n    <tr style=\"text-align: right;\">\n      <th></th>\n      <th>canal_venda</th>\n      <th>acessos</th>\n      <th>site</th>\n      <th>vendas</th>\n      <th>lista</th>\n    </tr>\n  </thead>\n  <tbody>\n    <tr>\n      <th>0</th>\n      <td>facebook</td>\n      <td>100</td>\n      <td>site1</td>\n      <td>1000.52</td>\n      <td>200</td>\n    </tr>\n    <tr>\n      <th>1</th>\n      <td>twitter</td>\n      <td>200</td>\n      <td>site1</td>\n      <td>1052.34</td>\n      <td>200</td>\n    </tr>\n    <tr>\n      <th>2</th>\n      <td>instagram</td>\n      <td>300</td>\n      <td>site2</td>\n      <td>2002.00</td>\n      <td>300</td>\n    </tr>\n    <tr>\n      <th>3</th>\n      <td>linkedin</td>\n      <td>400</td>\n      <td>site2</td>\n      <td>5000.00</td>\n      <td>800</td>\n    </tr>\n    <tr>\n      <th>4</th>\n      <td>facebook</td>\n      <td>500</td>\n      <td>site3</td>\n      <td>300.00</td>\n      <td>200</td>\n    </tr>\n  </tbody>\n</table>\n</div>"
     },
     "metadata": {},
     "execution_count": 315
    }
   ],
   "source": [
    "dtfm"
   ]
  },
  {
   "cell_type": "code",
   "execution_count": 319,
   "metadata": {},
   "outputs": [
    {
     "output_type": "execute_result",
     "data": {
      "text/plain": "  canal_venda  acessos   vendas\n0    facebook      100  1000.52\n1     twitter      200  1052.34\n2   instagram      300  2002.00\n3    linkedin      400  5000.00\n4    facebook      500   300.00",
      "text/html": "<div>\n<style scoped>\n    .dataframe tbody tr th:only-of-type {\n        vertical-align: middle;\n    }\n\n    .dataframe tbody tr th {\n        vertical-align: top;\n    }\n\n    .dataframe thead th {\n        text-align: right;\n    }\n</style>\n<table border=\"1\" class=\"dataframe\">\n  <thead>\n    <tr style=\"text-align: right;\">\n      <th></th>\n      <th>canal_venda</th>\n      <th>acessos</th>\n      <th>vendas</th>\n    </tr>\n  </thead>\n  <tbody>\n    <tr>\n      <th>0</th>\n      <td>facebook</td>\n      <td>100</td>\n      <td>1000.52</td>\n    </tr>\n    <tr>\n      <th>1</th>\n      <td>twitter</td>\n      <td>200</td>\n      <td>1052.34</td>\n    </tr>\n    <tr>\n      <th>2</th>\n      <td>instagram</td>\n      <td>300</td>\n      <td>2002.00</td>\n    </tr>\n    <tr>\n      <th>3</th>\n      <td>linkedin</td>\n      <td>400</td>\n      <td>5000.00</td>\n    </tr>\n    <tr>\n      <th>4</th>\n      <td>facebook</td>\n      <td>500</td>\n      <td>300.00</td>\n    </tr>\n  </tbody>\n</table>\n</div>"
     },
     "metadata": {},
     "execution_count": 319
    }
   ],
   "source": [
    "dtfm.drop(columns=['lista', 'site'])"
   ]
  },
  {
   "cell_type": "code",
   "execution_count": 333,
   "metadata": {},
   "outputs": [
    {
     "output_type": "execute_result",
     "data": {
      "text/plain": "Int64Index([100, 200, 300, 400, 500], dtype='int64', name='acessos')"
     },
     "metadata": {},
     "execution_count": 333
    }
   ],
   "source": [
    "#Mostrando as colunas\n",
    "dtfm.set_index('acessos').index"
   ]
  },
  {
   "cell_type": "code",
   "execution_count": 334,
   "metadata": {},
   "outputs": [
    {
     "output_type": "execute_result",
     "data": {
      "text/plain": "200"
     },
     "metadata": {},
     "execution_count": 334
    }
   ],
   "source": [
    "#Acessando valores especificos\n",
    "dtfm['acessos'][1]"
   ]
  },
  {
   "cell_type": "code",
   "execution_count": 336,
   "metadata": {},
   "outputs": [
    {
     "output_type": "execute_result",
     "data": {
      "text/plain": "0    facebook\n1     twitter\nName: canal_venda, dtype: object"
     },
     "metadata": {},
     "execution_count": 336
    }
   ],
   "source": [
    "#Acessando fatia de coluna especifica\n",
    "dtfm['canal_venda'][:2]"
   ]
  },
  {
   "cell_type": "code",
   "execution_count": 337,
   "metadata": {},
   "outputs": [
    {
     "output_type": "execute_result",
     "data": {
      "text/plain": "  canal_venda  acessos   site   vendas  lista\n0    facebook      100  site1  1000.52    200\n1     twitter      200  site1  1052.34    200\n2   instagram      300  site2  2002.00    300\n3    linkedin      400  site2  5000.00    800\n4    facebook      500  site3   300.00    200",
      "text/html": "<div>\n<style scoped>\n    .dataframe tbody tr th:only-of-type {\n        vertical-align: middle;\n    }\n\n    .dataframe tbody tr th {\n        vertical-align: top;\n    }\n\n    .dataframe thead th {\n        text-align: right;\n    }\n</style>\n<table border=\"1\" class=\"dataframe\">\n  <thead>\n    <tr style=\"text-align: right;\">\n      <th></th>\n      <th>canal_venda</th>\n      <th>acessos</th>\n      <th>site</th>\n      <th>vendas</th>\n      <th>lista</th>\n    </tr>\n  </thead>\n  <tbody>\n    <tr>\n      <th>0</th>\n      <td>facebook</td>\n      <td>100</td>\n      <td>site1</td>\n      <td>1000.52</td>\n      <td>200</td>\n    </tr>\n    <tr>\n      <th>1</th>\n      <td>twitter</td>\n      <td>200</td>\n      <td>site1</td>\n      <td>1052.34</td>\n      <td>200</td>\n    </tr>\n    <tr>\n      <th>2</th>\n      <td>instagram</td>\n      <td>300</td>\n      <td>site2</td>\n      <td>2002.00</td>\n      <td>300</td>\n    </tr>\n    <tr>\n      <th>3</th>\n      <td>linkedin</td>\n      <td>400</td>\n      <td>site2</td>\n      <td>5000.00</td>\n      <td>800</td>\n    </tr>\n    <tr>\n      <th>4</th>\n      <td>facebook</td>\n      <td>500</td>\n      <td>site3</td>\n      <td>300.00</td>\n      <td>200</td>\n    </tr>\n  </tbody>\n</table>\n</div>"
     },
     "metadata": {},
     "execution_count": 337
    }
   ],
   "source": [
    "dtfm"
   ]
  },
  {
   "cell_type": "code",
   "execution_count": 339,
   "metadata": {},
   "outputs": [
    {
     "output_type": "execute_result",
     "data": {
      "text/plain": "   lista\n3    800\n4    200",
      "text/html": "<div>\n<style scoped>\n    .dataframe tbody tr th:only-of-type {\n        vertical-align: middle;\n    }\n\n    .dataframe tbody tr th {\n        vertical-align: top;\n    }\n\n    .dataframe thead th {\n        text-align: right;\n    }\n</style>\n<table border=\"1\" class=\"dataframe\">\n  <thead>\n    <tr style=\"text-align: right;\">\n      <th></th>\n      <th>lista</th>\n    </tr>\n  </thead>\n  <tbody>\n    <tr>\n      <th>3</th>\n      <td>800</td>\n    </tr>\n    <tr>\n      <th>4</th>\n      <td>200</td>\n    </tr>\n  </tbody>\n</table>\n</div>"
     },
     "metadata": {},
     "execution_count": 339
    }
   ],
   "source": [
    "### Fatiando os dados usando o iloc (linhas | colunas)\n",
    "dtfm.iloc[3:,4:]"
   ]
  },
  {
   "cell_type": "code",
   "execution_count": 345,
   "metadata": {},
   "outputs": [
    {
     "output_type": "execute_result",
     "data": {
      "text/plain": "  canal_venda  acessos   site   vendas  lista\n0    facebook      100  site1  1000.52    200\n1     twitter      200  site1  1052.34    200\n2   instagram      300  site2  2002.00    300",
      "text/html": "<div>\n<style scoped>\n    .dataframe tbody tr th:only-of-type {\n        vertical-align: middle;\n    }\n\n    .dataframe tbody tr th {\n        vertical-align: top;\n    }\n\n    .dataframe thead th {\n        text-align: right;\n    }\n</style>\n<table border=\"1\" class=\"dataframe\">\n  <thead>\n    <tr style=\"text-align: right;\">\n      <th></th>\n      <th>canal_venda</th>\n      <th>acessos</th>\n      <th>site</th>\n      <th>vendas</th>\n      <th>lista</th>\n    </tr>\n  </thead>\n  <tbody>\n    <tr>\n      <th>0</th>\n      <td>facebook</td>\n      <td>100</td>\n      <td>site1</td>\n      <td>1000.52</td>\n      <td>200</td>\n    </tr>\n    <tr>\n      <th>1</th>\n      <td>twitter</td>\n      <td>200</td>\n      <td>site1</td>\n      <td>1052.34</td>\n      <td>200</td>\n    </tr>\n    <tr>\n      <th>2</th>\n      <td>instagram</td>\n      <td>300</td>\n      <td>site2</td>\n      <td>2002.00</td>\n      <td>300</td>\n    </tr>\n  </tbody>\n</table>\n</div>"
     },
     "metadata": {},
     "execution_count": 345
    }
   ],
   "source": [
    "dtfm[:3]"
   ]
  },
  {
   "cell_type": "code",
   "execution_count": 346,
   "metadata": {},
   "outputs": [
    {
     "output_type": "execute_result",
     "data": {
      "text/plain": "  canal_venda  acessos   site   vendas  lista\n0    facebook      100  site1  1000.52    200\n1     twitter      200  site1  1052.34    200\n2   instagram      300  site2  2002.00    300\n3    linkedin      400  site2  5000.00    800",
      "text/html": "<div>\n<style scoped>\n    .dataframe tbody tr th:only-of-type {\n        vertical-align: middle;\n    }\n\n    .dataframe tbody tr th {\n        vertical-align: top;\n    }\n\n    .dataframe thead th {\n        text-align: right;\n    }\n</style>\n<table border=\"1\" class=\"dataframe\">\n  <thead>\n    <tr style=\"text-align: right;\">\n      <th></th>\n      <th>canal_venda</th>\n      <th>acessos</th>\n      <th>site</th>\n      <th>vendas</th>\n      <th>lista</th>\n    </tr>\n  </thead>\n  <tbody>\n    <tr>\n      <th>0</th>\n      <td>facebook</td>\n      <td>100</td>\n      <td>site1</td>\n      <td>1000.52</td>\n      <td>200</td>\n    </tr>\n    <tr>\n      <th>1</th>\n      <td>twitter</td>\n      <td>200</td>\n      <td>site1</td>\n      <td>1052.34</td>\n      <td>200</td>\n    </tr>\n    <tr>\n      <th>2</th>\n      <td>instagram</td>\n      <td>300</td>\n      <td>site2</td>\n      <td>2002.00</td>\n      <td>300</td>\n    </tr>\n    <tr>\n      <th>3</th>\n      <td>linkedin</td>\n      <td>400</td>\n      <td>site2</td>\n      <td>5000.00</td>\n      <td>800</td>\n    </tr>\n  </tbody>\n</table>\n</div>"
     },
     "metadata": {},
     "execution_count": 346
    }
   ],
   "source": [
    "#Fatiar os dados usando o loc (indice)\n",
    "dtfm.loc[:3]"
   ]
  },
  {
   "cell_type": "code",
   "execution_count": 348,
   "metadata": {},
   "outputs": [
    {
     "output_type": "execute_result",
     "data": {
      "text/plain": "  canal_venda   vendas\n0    facebook  1000.52\n1     twitter  1052.34\n2   instagram  2002.00\n3    linkedin  5000.00\n4    facebook   300.00",
      "text/html": "<div>\n<style scoped>\n    .dataframe tbody tr th:only-of-type {\n        vertical-align: middle;\n    }\n\n    .dataframe tbody tr th {\n        vertical-align: top;\n    }\n\n    .dataframe thead th {\n        text-align: right;\n    }\n</style>\n<table border=\"1\" class=\"dataframe\">\n  <thead>\n    <tr style=\"text-align: right;\">\n      <th></th>\n      <th>canal_venda</th>\n      <th>vendas</th>\n    </tr>\n  </thead>\n  <tbody>\n    <tr>\n      <th>0</th>\n      <td>facebook</td>\n      <td>1000.52</td>\n    </tr>\n    <tr>\n      <th>1</th>\n      <td>twitter</td>\n      <td>1052.34</td>\n    </tr>\n    <tr>\n      <th>2</th>\n      <td>instagram</td>\n      <td>2002.00</td>\n    </tr>\n    <tr>\n      <th>3</th>\n      <td>linkedin</td>\n      <td>5000.00</td>\n    </tr>\n    <tr>\n      <th>4</th>\n      <td>facebook</td>\n      <td>300.00</td>\n    </tr>\n  </tbody>\n</table>\n</div>"
     },
     "metadata": {},
     "execution_count": 348
    }
   ],
   "source": [
    "#Selecionando colunas especificas\n",
    "dtfm[['canal_venda', 'vendas']]"
   ]
  },
  {
   "cell_type": "code",
   "execution_count": 349,
   "metadata": {},
   "outputs": [],
   "source": [
    "#Passando os valores atraves de lista\n",
    "filtro = ['canal_venda', 'acessos']"
   ]
  },
  {
   "cell_type": "code",
   "execution_count": 356,
   "metadata": {},
   "outputs": [
    {
     "output_type": "execute_result",
     "data": {
      "text/plain": "  canal_venda  acessos\n0    facebook      100\n1     twitter      200\n2   instagram      300\n3    linkedin      400\n4    facebook      500",
      "text/html": "<div>\n<style scoped>\n    .dataframe tbody tr th:only-of-type {\n        vertical-align: middle;\n    }\n\n    .dataframe tbody tr th {\n        vertical-align: top;\n    }\n\n    .dataframe thead th {\n        text-align: right;\n    }\n</style>\n<table border=\"1\" class=\"dataframe\">\n  <thead>\n    <tr style=\"text-align: right;\">\n      <th></th>\n      <th>canal_venda</th>\n      <th>acessos</th>\n    </tr>\n  </thead>\n  <tbody>\n    <tr>\n      <th>0</th>\n      <td>facebook</td>\n      <td>100</td>\n    </tr>\n    <tr>\n      <th>1</th>\n      <td>twitter</td>\n      <td>200</td>\n    </tr>\n    <tr>\n      <th>2</th>\n      <td>instagram</td>\n      <td>300</td>\n    </tr>\n    <tr>\n      <th>3</th>\n      <td>linkedin</td>\n      <td>400</td>\n    </tr>\n    <tr>\n      <th>4</th>\n      <td>facebook</td>\n      <td>500</td>\n    </tr>\n  </tbody>\n</table>\n</div>"
     },
     "metadata": {},
     "execution_count": 356
    }
   ],
   "source": [
    "dtfm[filtro]"
   ]
  },
  {
   "cell_type": "code",
   "execution_count": 372,
   "metadata": {},
   "outputs": [
    {
     "output_type": "stream",
     "name": "stdout",
     "text": "<class 'pandas.core.frame.DataFrame'>\nRangeIndex: 5 entries, 0 to 4\nData columns (total 5 columns):\n #   Column       Non-Null Count  Dtype  \n---  ------       --------------  -----  \n 0   canal_venda  5 non-null      object \n 1   acessos      5 non-null      float64\n 2   site         5 non-null      object \n 3   vendas       5 non-null      float64\n 4   lista        5 non-null      int64  \ndtypes: float64(2), int64(1), object(2)\nmemory usage: 328.0+ bytes\n"
    }
   ],
   "source": [
    "# Usando o metodo info()\n",
    "dtfm.info()"
   ]
  },
  {
   "cell_type": "code",
   "execution_count": 401,
   "metadata": {},
   "outputs": [],
   "source": [
    "#Pivotando os dados (coluna)\n",
    "aux = dtfm.pivot(index = 'canal_venda', columns='site', values='acessos')"
   ]
  },
  {
   "cell_type": "code",
   "execution_count": 373,
   "metadata": {},
   "outputs": [
    {
     "output_type": "execute_result",
     "data": {
      "text/plain": "  canal_venda  acessos   site   vendas  lista\n0    facebook    100.0  site1  1000.52    200\n1     twitter    200.0  site1  1052.34    200\n2   instagram    300.0  site2  2002.00    300\n3    linkedin    400.0  site2  5000.00    800\n4    facebook    500.0  site3   300.00    200",
      "text/html": "<div>\n<style scoped>\n    .dataframe tbody tr th:only-of-type {\n        vertical-align: middle;\n    }\n\n    .dataframe tbody tr th {\n        vertical-align: top;\n    }\n\n    .dataframe thead th {\n        text-align: right;\n    }\n</style>\n<table border=\"1\" class=\"dataframe\">\n  <thead>\n    <tr style=\"text-align: right;\">\n      <th></th>\n      <th>canal_venda</th>\n      <th>acessos</th>\n      <th>site</th>\n      <th>vendas</th>\n      <th>lista</th>\n    </tr>\n  </thead>\n  <tbody>\n    <tr>\n      <th>0</th>\n      <td>facebook</td>\n      <td>100.0</td>\n      <td>site1</td>\n      <td>1000.52</td>\n      <td>200</td>\n    </tr>\n    <tr>\n      <th>1</th>\n      <td>twitter</td>\n      <td>200.0</td>\n      <td>site1</td>\n      <td>1052.34</td>\n      <td>200</td>\n    </tr>\n    <tr>\n      <th>2</th>\n      <td>instagram</td>\n      <td>300.0</td>\n      <td>site2</td>\n      <td>2002.00</td>\n      <td>300</td>\n    </tr>\n    <tr>\n      <th>3</th>\n      <td>linkedin</td>\n      <td>400.0</td>\n      <td>site2</td>\n      <td>5000.00</td>\n      <td>800</td>\n    </tr>\n    <tr>\n      <th>4</th>\n      <td>facebook</td>\n      <td>500.0</td>\n      <td>site3</td>\n      <td>300.00</td>\n      <td>200</td>\n    </tr>\n  </tbody>\n</table>\n</div>"
     },
     "metadata": {},
     "execution_count": 373
    }
   ],
   "source": [
    "dtfm"
   ]
  },
  {
   "cell_type": "code",
   "execution_count": 403,
   "metadata": {},
   "outputs": [
    {
     "output_type": "stream",
     "name": "stdout",
     "text": "<class 'pandas.core.frame.DataFrame'>\nIndex: 4 entries, facebook to twitter\nData columns (total 3 columns):\n #   Column  Non-Null Count  Dtype  \n---  ------  --------------  -----  \n 0   site1   2 non-null      float64\n 1   site2   2 non-null      float64\n 2   site3   1 non-null      float64\ndtypes: float64(3)\nmemory usage: 128.0+ bytes\n"
    }
   ],
   "source": [
    "aux.info()"
   ]
  },
  {
   "cell_type": "code",
   "execution_count": 402,
   "metadata": {},
   "outputs": [
    {
     "output_type": "execute_result",
     "data": {
      "text/plain": "site         site1  site2  site3\ncanal_venda                     \nfacebook     100.0    NaN  500.0\ninstagram      NaN  300.0    NaN\nlinkedin       NaN  400.0    NaN\ntwitter      200.0    NaN    NaN",
      "text/html": "<div>\n<style scoped>\n    .dataframe tbody tr th:only-of-type {\n        vertical-align: middle;\n    }\n\n    .dataframe tbody tr th {\n        vertical-align: top;\n    }\n\n    .dataframe thead th {\n        text-align: right;\n    }\n</style>\n<table border=\"1\" class=\"dataframe\">\n  <thead>\n    <tr style=\"text-align: right;\">\n      <th>site</th>\n      <th>site1</th>\n      <th>site2</th>\n      <th>site3</th>\n    </tr>\n    <tr>\n      <th>canal_venda</th>\n      <th></th>\n      <th></th>\n      <th></th>\n    </tr>\n  </thead>\n  <tbody>\n    <tr>\n      <th>facebook</th>\n      <td>100.0</td>\n      <td>NaN</td>\n      <td>500.0</td>\n    </tr>\n    <tr>\n      <th>instagram</th>\n      <td>NaN</td>\n      <td>300.0</td>\n      <td>NaN</td>\n    </tr>\n    <tr>\n      <th>linkedin</th>\n      <td>NaN</td>\n      <td>400.0</td>\n      <td>NaN</td>\n    </tr>\n    <tr>\n      <th>twitter</th>\n      <td>200.0</td>\n      <td>NaN</td>\n      <td>NaN</td>\n    </tr>\n  </tbody>\n</table>\n</div>"
     },
     "metadata": {},
     "execution_count": 402
    }
   ],
   "source": [
    "aux"
   ]
  },
  {
   "cell_type": "code",
   "execution_count": 404,
   "metadata": {},
   "outputs": [
    {
     "output_type": "execute_result",
     "data": {
      "text/plain": "site         site1  site2  site3\ncanal_venda                     \nfacebook     100.0    0.0  500.0\ninstagram      0.0  300.0    0.0\nlinkedin       0.0  400.0    0.0\ntwitter      200.0    0.0    0.0",
      "text/html": "<div>\n<style scoped>\n    .dataframe tbody tr th:only-of-type {\n        vertical-align: middle;\n    }\n\n    .dataframe tbody tr th {\n        vertical-align: top;\n    }\n\n    .dataframe thead th {\n        text-align: right;\n    }\n</style>\n<table border=\"1\" class=\"dataframe\">\n  <thead>\n    <tr style=\"text-align: right;\">\n      <th>site</th>\n      <th>site1</th>\n      <th>site2</th>\n      <th>site3</th>\n    </tr>\n    <tr>\n      <th>canal_venda</th>\n      <th></th>\n      <th></th>\n      <th></th>\n    </tr>\n  </thead>\n  <tbody>\n    <tr>\n      <th>facebook</th>\n      <td>100.0</td>\n      <td>0.0</td>\n      <td>500.0</td>\n    </tr>\n    <tr>\n      <th>instagram</th>\n      <td>0.0</td>\n      <td>300.0</td>\n      <td>0.0</td>\n    </tr>\n    <tr>\n      <th>linkedin</th>\n      <td>0.0</td>\n      <td>400.0</td>\n      <td>0.0</td>\n    </tr>\n    <tr>\n      <th>twitter</th>\n      <td>200.0</td>\n      <td>0.0</td>\n      <td>0.0</td>\n    </tr>\n  </tbody>\n</table>\n</div>"
     },
     "metadata": {},
     "execution_count": 404
    }
   ],
   "source": [
    "#Completando os valores faltantes usando fillna\n",
    "#Pivotando os dados (coluna)\n",
    "dtfm.pivot(index = 'canal_venda', columns='site', values='acessos').fillna(0)\n",
    "aux= aux.fillna(0)\n",
    "aux"
   ]
  },
  {
   "cell_type": "code",
   "execution_count": 405,
   "metadata": {},
   "outputs": [
    {
     "output_type": "execute_result",
     "data": {
      "text/plain": "  canal_venda  acessos   site   vendas  lista\n0    facebook    100.0  site1  1000.52    200\n1     twitter    200.0  site1  1052.34    200\n2   instagram    300.0  site2  2002.00    300\n3    linkedin    400.0  site2  5000.00    800\n4    facebook    500.0  site3   300.00    200",
      "text/html": "<div>\n<style scoped>\n    .dataframe tbody tr th:only-of-type {\n        vertical-align: middle;\n    }\n\n    .dataframe tbody tr th {\n        vertical-align: top;\n    }\n\n    .dataframe thead th {\n        text-align: right;\n    }\n</style>\n<table border=\"1\" class=\"dataframe\">\n  <thead>\n    <tr style=\"text-align: right;\">\n      <th></th>\n      <th>canal_venda</th>\n      <th>acessos</th>\n      <th>site</th>\n      <th>vendas</th>\n      <th>lista</th>\n    </tr>\n  </thead>\n  <tbody>\n    <tr>\n      <th>0</th>\n      <td>facebook</td>\n      <td>100.0</td>\n      <td>site1</td>\n      <td>1000.52</td>\n      <td>200</td>\n    </tr>\n    <tr>\n      <th>1</th>\n      <td>twitter</td>\n      <td>200.0</td>\n      <td>site1</td>\n      <td>1052.34</td>\n      <td>200</td>\n    </tr>\n    <tr>\n      <th>2</th>\n      <td>instagram</td>\n      <td>300.0</td>\n      <td>site2</td>\n      <td>2002.00</td>\n      <td>300</td>\n    </tr>\n    <tr>\n      <th>3</th>\n      <td>linkedin</td>\n      <td>400.0</td>\n      <td>site2</td>\n      <td>5000.00</td>\n      <td>800</td>\n    </tr>\n    <tr>\n      <th>4</th>\n      <td>facebook</td>\n      <td>500.0</td>\n      <td>site3</td>\n      <td>300.00</td>\n      <td>200</td>\n    </tr>\n  </tbody>\n</table>\n</div>"
     },
     "metadata": {},
     "execution_count": 405
    }
   ],
   "source": [
    "dtfm"
   ]
  },
  {
   "cell_type": "code",
   "execution_count": 449,
   "metadata": {},
   "outputs": [
    {
     "output_type": "execute_result",
     "data": {
      "text/plain": "    site     variable      value\n0  site1  canal_venda   facebook\n1  site1  canal_venda    twitter\n2  site2  canal_venda  instagram\n3  site2  canal_venda   linkedin\n4  site3  canal_venda   facebook",
      "text/html": "<div>\n<style scoped>\n    .dataframe tbody tr th:only-of-type {\n        vertical-align: middle;\n    }\n\n    .dataframe tbody tr th {\n        vertical-align: top;\n    }\n\n    .dataframe thead th {\n        text-align: right;\n    }\n</style>\n<table border=\"1\" class=\"dataframe\">\n  <thead>\n    <tr style=\"text-align: right;\">\n      <th></th>\n      <th>site</th>\n      <th>variable</th>\n      <th>value</th>\n    </tr>\n  </thead>\n  <tbody>\n    <tr>\n      <th>0</th>\n      <td>site1</td>\n      <td>canal_venda</td>\n      <td>facebook</td>\n    </tr>\n    <tr>\n      <th>1</th>\n      <td>site1</td>\n      <td>canal_venda</td>\n      <td>twitter</td>\n    </tr>\n    <tr>\n      <th>2</th>\n      <td>site2</td>\n      <td>canal_venda</td>\n      <td>instagram</td>\n    </tr>\n    <tr>\n      <th>3</th>\n      <td>site2</td>\n      <td>canal_venda</td>\n      <td>linkedin</td>\n    </tr>\n    <tr>\n      <th>4</th>\n      <td>site3</td>\n      <td>canal_venda</td>\n      <td>facebook</td>\n    </tr>\n  </tbody>\n</table>\n</div>"
     },
     "metadata": {},
     "execution_count": 449
    }
   ],
   "source": [
    "# Mudando as colunas usando o comando melt\n",
    "dtfm.melt(id_vars=['site'], value_vars=['canal_venda'])"
   ]
  },
  {
   "cell_type": "code",
   "execution_count": 407,
   "metadata": {},
   "outputs": [
    {
     "output_type": "stream",
     "name": "stdout",
     "text": "Index(['site1', 'site2', 'site3'], dtype='object', name='site')\nIndex(['canal_venda', 'site1', 'site2', 'site3'], dtype='object', name='site')\n"
    }
   ],
   "source": [
    "#Resetando o indice do dataframe\n",
    "print(aux.columns)\n",
    "aux = aux.reset_index()\n",
    "print(aux.columns)"
   ]
  },
  {
   "cell_type": "code",
   "execution_count": 408,
   "metadata": {},
   "outputs": [
    {
     "output_type": "execute_result",
     "data": {
      "text/plain": "  canal_venda  acessos   site   vendas  lista\n0    facebook    100.0  site1  1000.52    200\n1     twitter    200.0  site1  1052.34    200\n2   instagram    300.0  site2  2002.00    300\n3    linkedin    400.0  site2  5000.00    800\n4    facebook    500.0  site3   300.00    200",
      "text/html": "<div>\n<style scoped>\n    .dataframe tbody tr th:only-of-type {\n        vertical-align: middle;\n    }\n\n    .dataframe tbody tr th {\n        vertical-align: top;\n    }\n\n    .dataframe thead th {\n        text-align: right;\n    }\n</style>\n<table border=\"1\" class=\"dataframe\">\n  <thead>\n    <tr style=\"text-align: right;\">\n      <th></th>\n      <th>canal_venda</th>\n      <th>acessos</th>\n      <th>site</th>\n      <th>vendas</th>\n      <th>lista</th>\n    </tr>\n  </thead>\n  <tbody>\n    <tr>\n      <th>0</th>\n      <td>facebook</td>\n      <td>100.0</td>\n      <td>site1</td>\n      <td>1000.52</td>\n      <td>200</td>\n    </tr>\n    <tr>\n      <th>1</th>\n      <td>twitter</td>\n      <td>200.0</td>\n      <td>site1</td>\n      <td>1052.34</td>\n      <td>200</td>\n    </tr>\n    <tr>\n      <th>2</th>\n      <td>instagram</td>\n      <td>300.0</td>\n      <td>site2</td>\n      <td>2002.00</td>\n      <td>300</td>\n    </tr>\n    <tr>\n      <th>3</th>\n      <td>linkedin</td>\n      <td>400.0</td>\n      <td>site2</td>\n      <td>5000.00</td>\n      <td>800</td>\n    </tr>\n    <tr>\n      <th>4</th>\n      <td>facebook</td>\n      <td>500.0</td>\n      <td>site3</td>\n      <td>300.00</td>\n      <td>200</td>\n    </tr>\n  </tbody>\n</table>\n</div>"
     },
     "metadata": {},
     "execution_count": 408
    }
   ],
   "source": [
    "dtfm"
   ]
  },
  {
   "cell_type": "code",
   "execution_count": 409,
   "metadata": {},
   "outputs": [
    {
     "output_type": "execute_result",
     "data": {
      "text/plain": "   index canal_venda  acessos   site   vendas  lista\n0      0    facebook    100.0  site1  1000.52    200\n1      1     twitter    200.0  site1  1052.34    200\n2      2   instagram    300.0  site2  2002.00    300\n3      3    linkedin    400.0  site2  5000.00    800\n4      4    facebook    500.0  site3   300.00    200",
      "text/html": "<div>\n<style scoped>\n    .dataframe tbody tr th:only-of-type {\n        vertical-align: middle;\n    }\n\n    .dataframe tbody tr th {\n        vertical-align: top;\n    }\n\n    .dataframe thead th {\n        text-align: right;\n    }\n</style>\n<table border=\"1\" class=\"dataframe\">\n  <thead>\n    <tr style=\"text-align: right;\">\n      <th></th>\n      <th>index</th>\n      <th>canal_venda</th>\n      <th>acessos</th>\n      <th>site</th>\n      <th>vendas</th>\n      <th>lista</th>\n    </tr>\n  </thead>\n  <tbody>\n    <tr>\n      <th>0</th>\n      <td>0</td>\n      <td>facebook</td>\n      <td>100.0</td>\n      <td>site1</td>\n      <td>1000.52</td>\n      <td>200</td>\n    </tr>\n    <tr>\n      <th>1</th>\n      <td>1</td>\n      <td>twitter</td>\n      <td>200.0</td>\n      <td>site1</td>\n      <td>1052.34</td>\n      <td>200</td>\n    </tr>\n    <tr>\n      <th>2</th>\n      <td>2</td>\n      <td>instagram</td>\n      <td>300.0</td>\n      <td>site2</td>\n      <td>2002.00</td>\n      <td>300</td>\n    </tr>\n    <tr>\n      <th>3</th>\n      <td>3</td>\n      <td>linkedin</td>\n      <td>400.0</td>\n      <td>site2</td>\n      <td>5000.00</td>\n      <td>800</td>\n    </tr>\n    <tr>\n      <th>4</th>\n      <td>4</td>\n      <td>facebook</td>\n      <td>500.0</td>\n      <td>site3</td>\n      <td>300.00</td>\n      <td>200</td>\n    </tr>\n  </tbody>\n</table>\n</div>"
     },
     "metadata": {},
     "execution_count": 409
    }
   ],
   "source": [
    "aux = dtfm.reset_index()\n",
    "aux"
   ]
  },
  {
   "cell_type": "code",
   "execution_count": 451,
   "metadata": {},
   "outputs": [
    {
     "output_type": "execute_result",
     "data": {
      "text/plain": "site canal_venda  site1  site2  site3\n0       facebook  100.0    0.0  500.0\n1      instagram    0.0  300.0    0.0\n2       linkedin    0.0  400.0    0.0\n3        twitter  200.0    0.0    0.0",
      "text/html": "<div>\n<style scoped>\n    .dataframe tbody tr th:only-of-type {\n        vertical-align: middle;\n    }\n\n    .dataframe tbody tr th {\n        vertical-align: top;\n    }\n\n    .dataframe thead th {\n        text-align: right;\n    }\n</style>\n<table border=\"1\" class=\"dataframe\">\n  <thead>\n    <tr style=\"text-align: right;\">\n      <th>site</th>\n      <th>canal_venda</th>\n      <th>site1</th>\n      <th>site2</th>\n      <th>site3</th>\n    </tr>\n  </thead>\n  <tbody>\n    <tr>\n      <th>0</th>\n      <td>facebook</td>\n      <td>100.0</td>\n      <td>0.0</td>\n      <td>500.0</td>\n    </tr>\n    <tr>\n      <th>1</th>\n      <td>instagram</td>\n      <td>0.0</td>\n      <td>300.0</td>\n      <td>0.0</td>\n    </tr>\n    <tr>\n      <th>2</th>\n      <td>linkedin</td>\n      <td>0.0</td>\n      <td>400.0</td>\n      <td>0.0</td>\n    </tr>\n    <tr>\n      <th>3</th>\n      <td>twitter</td>\n      <td>200.0</td>\n      <td>0.0</td>\n      <td>0.0</td>\n    </tr>\n  </tbody>\n</table>\n</div>"
     },
     "metadata": {},
     "execution_count": 451
    }
   ],
   "source": [
    "aux = dtfm.pivot(index = 'canal_venda', columns='site', values='acessos').fillna(0)\n",
    "aux = aux.reset_index()\n",
    "aux"
   ]
  },
  {
   "cell_type": "code",
   "execution_count": 410,
   "metadata": {},
   "outputs": [
    {
     "output_type": "execute_result",
     "data": {
      "text/plain": "   level_0  index canal_venda  acessos   site   vendas  lista\n0        0      0    facebook    100.0  site1  1000.52    200\n1        1      1     twitter    200.0  site1  1052.34    200\n2        2      2   instagram    300.0  site2  2002.00    300\n3        3      3    linkedin    400.0  site2  5000.00    800\n4        4      4    facebook    500.0  site3   300.00    200",
      "text/html": "<div>\n<style scoped>\n    .dataframe tbody tr th:only-of-type {\n        vertical-align: middle;\n    }\n\n    .dataframe tbody tr th {\n        vertical-align: top;\n    }\n\n    .dataframe thead th {\n        text-align: right;\n    }\n</style>\n<table border=\"1\" class=\"dataframe\">\n  <thead>\n    <tr style=\"text-align: right;\">\n      <th></th>\n      <th>level_0</th>\n      <th>index</th>\n      <th>canal_venda</th>\n      <th>acessos</th>\n      <th>site</th>\n      <th>vendas</th>\n      <th>lista</th>\n    </tr>\n  </thead>\n  <tbody>\n    <tr>\n      <th>0</th>\n      <td>0</td>\n      <td>0</td>\n      <td>facebook</td>\n      <td>100.0</td>\n      <td>site1</td>\n      <td>1000.52</td>\n      <td>200</td>\n    </tr>\n    <tr>\n      <th>1</th>\n      <td>1</td>\n      <td>1</td>\n      <td>twitter</td>\n      <td>200.0</td>\n      <td>site1</td>\n      <td>1052.34</td>\n      <td>200</td>\n    </tr>\n    <tr>\n      <th>2</th>\n      <td>2</td>\n      <td>2</td>\n      <td>instagram</td>\n      <td>300.0</td>\n      <td>site2</td>\n      <td>2002.00</td>\n      <td>300</td>\n    </tr>\n    <tr>\n      <th>3</th>\n      <td>3</td>\n      <td>3</td>\n      <td>linkedin</td>\n      <td>400.0</td>\n      <td>site2</td>\n      <td>5000.00</td>\n      <td>800</td>\n    </tr>\n    <tr>\n      <th>4</th>\n      <td>4</td>\n      <td>4</td>\n      <td>facebook</td>\n      <td>500.0</td>\n      <td>site3</td>\n      <td>300.00</td>\n      <td>200</td>\n    </tr>\n  </tbody>\n</table>\n</div>"
     },
     "metadata": {},
     "execution_count": 410
    }
   ],
   "source": [
    "aux.reset_index()"
   ]
  },
  {
   "cell_type": "code",
   "execution_count": 454,
   "metadata": {},
   "outputs": [
    {
     "output_type": "execute_result",
     "data": {
      "text/plain": "   canal_venda   site  value\n0     facebook  site1  100.0\n1    instagram  site1    0.0\n2     linkedin  site1    0.0\n3      twitter  site1  200.0\n4     facebook  site2    0.0\n5    instagram  site2  300.0\n6     linkedin  site2  400.0\n7      twitter  site2    0.0\n8     facebook  site3  500.0\n9    instagram  site3    0.0\n10    linkedin  site3    0.0\n11     twitter  site3    0.0",
      "text/html": "<div>\n<style scoped>\n    .dataframe tbody tr th:only-of-type {\n        vertical-align: middle;\n    }\n\n    .dataframe tbody tr th {\n        vertical-align: top;\n    }\n\n    .dataframe thead th {\n        text-align: right;\n    }\n</style>\n<table border=\"1\" class=\"dataframe\">\n  <thead>\n    <tr style=\"text-align: right;\">\n      <th></th>\n      <th>canal_venda</th>\n      <th>site</th>\n      <th>value</th>\n    </tr>\n  </thead>\n  <tbody>\n    <tr>\n      <th>0</th>\n      <td>facebook</td>\n      <td>site1</td>\n      <td>100.0</td>\n    </tr>\n    <tr>\n      <th>1</th>\n      <td>instagram</td>\n      <td>site1</td>\n      <td>0.0</td>\n    </tr>\n    <tr>\n      <th>2</th>\n      <td>linkedin</td>\n      <td>site1</td>\n      <td>0.0</td>\n    </tr>\n    <tr>\n      <th>3</th>\n      <td>twitter</td>\n      <td>site1</td>\n      <td>200.0</td>\n    </tr>\n    <tr>\n      <th>4</th>\n      <td>facebook</td>\n      <td>site2</td>\n      <td>0.0</td>\n    </tr>\n    <tr>\n      <th>5</th>\n      <td>instagram</td>\n      <td>site2</td>\n      <td>300.0</td>\n    </tr>\n    <tr>\n      <th>6</th>\n      <td>linkedin</td>\n      <td>site2</td>\n      <td>400.0</td>\n    </tr>\n    <tr>\n      <th>7</th>\n      <td>twitter</td>\n      <td>site2</td>\n      <td>0.0</td>\n    </tr>\n    <tr>\n      <th>8</th>\n      <td>facebook</td>\n      <td>site3</td>\n      <td>500.0</td>\n    </tr>\n    <tr>\n      <th>9</th>\n      <td>instagram</td>\n      <td>site3</td>\n      <td>0.0</td>\n    </tr>\n    <tr>\n      <th>10</th>\n      <td>linkedin</td>\n      <td>site3</td>\n      <td>0.0</td>\n    </tr>\n    <tr>\n      <th>11</th>\n      <td>twitter</td>\n      <td>site3</td>\n      <td>0.0</td>\n    </tr>\n  </tbody>\n</table>\n</div>"
     },
     "metadata": {},
     "execution_count": 454
    }
   ],
   "source": [
    "#Exemplo do comando melt\n",
    "#aux.index\n",
    "aux.melt(id_vars='canal_venda', value_vars=['site1', 'site2', 'site3'])"
   ]
  },
  {
   "cell_type": "code",
   "execution_count": 455,
   "metadata": {},
   "outputs": [
    {
     "output_type": "execute_result",
     "data": {
      "text/plain": "  canal_venda  acessos   site   vendas  lista\n0    facebook    100.0  site1  1000.52    200\n1     twitter    200.0  site1  1052.34    200\n2   instagram    300.0  site2  2002.00    300\n3    linkedin    400.0  site2  5000.00    800\n4    facebook    500.0  site3   300.00    200",
      "text/html": "<div>\n<style scoped>\n    .dataframe tbody tr th:only-of-type {\n        vertical-align: middle;\n    }\n\n    .dataframe tbody tr th {\n        vertical-align: top;\n    }\n\n    .dataframe thead th {\n        text-align: right;\n    }\n</style>\n<table border=\"1\" class=\"dataframe\">\n  <thead>\n    <tr style=\"text-align: right;\">\n      <th></th>\n      <th>canal_venda</th>\n      <th>acessos</th>\n      <th>site</th>\n      <th>vendas</th>\n      <th>lista</th>\n    </tr>\n  </thead>\n  <tbody>\n    <tr>\n      <th>0</th>\n      <td>facebook</td>\n      <td>100.0</td>\n      <td>site1</td>\n      <td>1000.52</td>\n      <td>200</td>\n    </tr>\n    <tr>\n      <th>1</th>\n      <td>twitter</td>\n      <td>200.0</td>\n      <td>site1</td>\n      <td>1052.34</td>\n      <td>200</td>\n    </tr>\n    <tr>\n      <th>2</th>\n      <td>instagram</td>\n      <td>300.0</td>\n      <td>site2</td>\n      <td>2002.00</td>\n      <td>300</td>\n    </tr>\n    <tr>\n      <th>3</th>\n      <td>linkedin</td>\n      <td>400.0</td>\n      <td>site2</td>\n      <td>5000.00</td>\n      <td>800</td>\n    </tr>\n    <tr>\n      <th>4</th>\n      <td>facebook</td>\n      <td>500.0</td>\n      <td>site3</td>\n      <td>300.00</td>\n      <td>200</td>\n    </tr>\n  </tbody>\n</table>\n</div>"
     },
     "metadata": {},
     "execution_count": 455
    }
   ],
   "source": [
    "dtfm"
   ]
  },
  {
   "cell_type": "code",
   "execution_count": 465,
   "metadata": {},
   "outputs": [
    {
     "output_type": "execute_result",
     "data": {
      "text/plain": "vendas     9354.86\nacessos    1500.00\nlista      1700.00\ndtype: float64"
     },
     "metadata": {},
     "execution_count": 465
    }
   ],
   "source": [
    "#Somando (Concatenando para strings) as colunas do dataframe\n",
    "dtfm[['vendas', 'acessos', 'lista']].sum()"
   ]
  },
  {
   "cell_type": "code",
   "execution_count": 466,
   "metadata": {},
   "outputs": [
    {
     "output_type": "execute_result",
     "data": {
      "text/plain": "  canal_venda  acessos   site   vendas  lista\n0    facebook    100.0  site1  1000.52    200\n1     twitter    200.0  site1  1052.34    200\n2   instagram    300.0  site2  2002.00    300\n3    linkedin    400.0  site2  5000.00    800\n4    facebook    500.0  site3   300.00    200",
      "text/html": "<div>\n<style scoped>\n    .dataframe tbody tr th:only-of-type {\n        vertical-align: middle;\n    }\n\n    .dataframe tbody tr th {\n        vertical-align: top;\n    }\n\n    .dataframe thead th {\n        text-align: right;\n    }\n</style>\n<table border=\"1\" class=\"dataframe\">\n  <thead>\n    <tr style=\"text-align: right;\">\n      <th></th>\n      <th>canal_venda</th>\n      <th>acessos</th>\n      <th>site</th>\n      <th>vendas</th>\n      <th>lista</th>\n    </tr>\n  </thead>\n  <tbody>\n    <tr>\n      <th>0</th>\n      <td>facebook</td>\n      <td>100.0</td>\n      <td>site1</td>\n      <td>1000.52</td>\n      <td>200</td>\n    </tr>\n    <tr>\n      <th>1</th>\n      <td>twitter</td>\n      <td>200.0</td>\n      <td>site1</td>\n      <td>1052.34</td>\n      <td>200</td>\n    </tr>\n    <tr>\n      <th>2</th>\n      <td>instagram</td>\n      <td>300.0</td>\n      <td>site2</td>\n      <td>2002.00</td>\n      <td>300</td>\n    </tr>\n    <tr>\n      <th>3</th>\n      <td>linkedin</td>\n      <td>400.0</td>\n      <td>site2</td>\n      <td>5000.00</td>\n      <td>800</td>\n    </tr>\n    <tr>\n      <th>4</th>\n      <td>facebook</td>\n      <td>500.0</td>\n      <td>site3</td>\n      <td>300.00</td>\n      <td>200</td>\n    </tr>\n  </tbody>\n</table>\n</div>"
     },
     "metadata": {},
     "execution_count": 466
    }
   ],
   "source": [
    "dtfm"
   ]
  },
  {
   "cell_type": "code",
   "execution_count": 467,
   "metadata": {},
   "outputs": [
    {
     "output_type": "execute_result",
     "data": {
      "text/plain": "0    1300.52\n1    1452.34\n2    2602.00\n3    6200.00\n4    1000.00\ndtype: float64"
     },
     "metadata": {},
     "execution_count": 467
    }
   ],
   "source": [
    "#Somando as linhas do dataframe\n",
    "dtfm.sum(axis = 1)"
   ]
  },
  {
   "cell_type": "code",
   "execution_count": 469,
   "metadata": {},
   "outputs": [
    {
     "output_type": "stream",
     "name": "stdout",
     "text": "Por linha:  0    200.0\n1    200.0\n2    300.0\n3    800.0\n4    300.0\ndtype: float64\nPor coluna:  acessos     300.00\nvendas     1052.34\nlista       200.00\ndtype: float64\n"
    }
   ],
   "source": [
    "#Calculando a mediana das colunas numericas\n",
    "print('Por linha: ',dtfm.median(axis= 1) )\n",
    "print('Por coluna: ', dtfm.median())"
   ]
  },
  {
   "cell_type": "code",
   "execution_count": 470,
   "metadata": {},
   "outputs": [
    {
     "output_type": "execute_result",
     "data": {
      "text/plain": "acessos     300.000\nvendas     1870.972\nlista       340.000\ndtype: float64"
     },
     "metadata": {},
     "execution_count": 470
    }
   ],
   "source": [
    "#Calculando a media das colunas númericas\n",
    "dtfm.mean()"
   ]
  },
  {
   "cell_type": "code",
   "execution_count": 471,
   "metadata": {},
   "outputs": [
    {
     "output_type": "execute_result",
     "data": {
      "text/plain": "acessos     158.113883\nvendas     1850.931024\nlista       260.768096\ndtype: float64"
     },
     "metadata": {},
     "execution_count": 471
    }
   ],
   "source": [
    "#Calculando o desvio padrão das colunas numericas\n",
    "dtfm.std()"
   ]
  },
  {
   "cell_type": "code",
   "execution_count": 473,
   "metadata": {},
   "outputs": [
    {
     "output_type": "execute_result",
     "data": {
      "text/plain": "          acessos       vendas       lista\ncount    5.000000     5.000000    5.000000\nmean   300.000000  1870.972000  340.000000\nstd    158.113883  1850.931024  260.768096\nmin    100.000000   300.000000  200.000000\n25%    200.000000  1000.520000  200.000000\n50%    300.000000  1052.340000  200.000000\n75%    400.000000  2002.000000  300.000000\nmax    500.000000  5000.000000  800.000000",
      "text/html": "<div>\n<style scoped>\n    .dataframe tbody tr th:only-of-type {\n        vertical-align: middle;\n    }\n\n    .dataframe tbody tr th {\n        vertical-align: top;\n    }\n\n    .dataframe thead th {\n        text-align: right;\n    }\n</style>\n<table border=\"1\" class=\"dataframe\">\n  <thead>\n    <tr style=\"text-align: right;\">\n      <th></th>\n      <th>acessos</th>\n      <th>vendas</th>\n      <th>lista</th>\n    </tr>\n  </thead>\n  <tbody>\n    <tr>\n      <th>count</th>\n      <td>5.000000</td>\n      <td>5.000000</td>\n      <td>5.000000</td>\n    </tr>\n    <tr>\n      <th>mean</th>\n      <td>300.000000</td>\n      <td>1870.972000</td>\n      <td>340.000000</td>\n    </tr>\n    <tr>\n      <th>std</th>\n      <td>158.113883</td>\n      <td>1850.931024</td>\n      <td>260.768096</td>\n    </tr>\n    <tr>\n      <th>min</th>\n      <td>100.000000</td>\n      <td>300.000000</td>\n      <td>200.000000</td>\n    </tr>\n    <tr>\n      <th>25%</th>\n      <td>200.000000</td>\n      <td>1000.520000</td>\n      <td>200.000000</td>\n    </tr>\n    <tr>\n      <th>50%</th>\n      <td>300.000000</td>\n      <td>1052.340000</td>\n      <td>200.000000</td>\n    </tr>\n    <tr>\n      <th>75%</th>\n      <td>400.000000</td>\n      <td>2002.000000</td>\n      <td>300.000000</td>\n    </tr>\n    <tr>\n      <th>max</th>\n      <td>500.000000</td>\n      <td>5000.000000</td>\n      <td>800.000000</td>\n    </tr>\n  </tbody>\n</table>\n</div>"
     },
     "metadata": {},
     "execution_count": 473
    }
   ],
   "source": [
    "#Usando o comando describe que calcula estatisticas descritivas para colunas numericas\n",
    "dtfm.describe()"
   ]
  },
  {
   "cell_type": "code",
   "execution_count": 474,
   "metadata": {},
   "outputs": [
    {
     "output_type": "execute_result",
     "data": {
      "text/plain": "  canal_venda  acessos   site   vendas  lista\n0    facebook    100.0  site1   300.00  200.0\n1         NaN    200.0  site2  1000.52    NaN\n2         NaN    300.0    NaN  1052.34    NaN\n3         NaN    400.0    NaN  2002.00    NaN\n4         NaN    500.0    NaN  5000.00    NaN",
      "text/html": "<div>\n<style scoped>\n    .dataframe tbody tr th:only-of-type {\n        vertical-align: middle;\n    }\n\n    .dataframe tbody tr th {\n        vertical-align: top;\n    }\n\n    .dataframe thead th {\n        text-align: right;\n    }\n</style>\n<table border=\"1\" class=\"dataframe\">\n  <thead>\n    <tr style=\"text-align: right;\">\n      <th></th>\n      <th>canal_venda</th>\n      <th>acessos</th>\n      <th>site</th>\n      <th>vendas</th>\n      <th>lista</th>\n    </tr>\n  </thead>\n  <tbody>\n    <tr>\n      <th>0</th>\n      <td>facebook</td>\n      <td>100.0</td>\n      <td>site1</td>\n      <td>300.00</td>\n      <td>200.0</td>\n    </tr>\n    <tr>\n      <th>1</th>\n      <td>NaN</td>\n      <td>200.0</td>\n      <td>site2</td>\n      <td>1000.52</td>\n      <td>NaN</td>\n    </tr>\n    <tr>\n      <th>2</th>\n      <td>NaN</td>\n      <td>300.0</td>\n      <td>NaN</td>\n      <td>1052.34</td>\n      <td>NaN</td>\n    </tr>\n    <tr>\n      <th>3</th>\n      <td>NaN</td>\n      <td>400.0</td>\n      <td>NaN</td>\n      <td>2002.00</td>\n      <td>NaN</td>\n    </tr>\n    <tr>\n      <th>4</th>\n      <td>NaN</td>\n      <td>500.0</td>\n      <td>NaN</td>\n      <td>5000.00</td>\n      <td>NaN</td>\n    </tr>\n  </tbody>\n</table>\n</div>"
     },
     "metadata": {},
     "execution_count": 474
    }
   ],
   "source": [
    "#Calculando a moda\n",
    "dtfm.mode()"
   ]
  },
  {
   "cell_type": "code",
   "execution_count": 475,
   "metadata": {},
   "outputs": [
    {
     "output_type": "execute_result",
     "data": {
      "text/plain": "canal_venda    twitter\nacessos            500\nsite             site3\nvendas            5000\nlista              800\ndtype: object"
     },
     "metadata": {},
     "execution_count": 475
    }
   ],
   "source": [
    "# Valor maximo por coluna\n",
    "dtfm.max()"
   ]
  },
  {
   "cell_type": "code",
   "execution_count": 476,
   "metadata": {},
   "outputs": [
    {
     "output_type": "execute_result",
     "data": {
      "text/plain": "canal_venda    facebook\nacessos             100\nsite              site1\nvendas              300\nlista               200\ndtype: object"
     },
     "metadata": {},
     "execution_count": 476
    }
   ],
   "source": [
    "#Valor minimo por coluna\n",
    "dtfm.min()"
   ]
  },
  {
   "cell_type": "code",
   "execution_count": 477,
   "metadata": {},
   "outputs": [
    {
     "output_type": "execute_result",
     "data": {
      "text/plain": "canal_venda    4\nacessos        5\nsite           3\nvendas         5\nlista          3\ndtype: int64"
     },
     "metadata": {},
     "execution_count": 477
    }
   ],
   "source": [
    "#Printando a quantidade de unicos (variabilidade)\n",
    "dtfm.nunique()"
   ]
  },
  {
   "cell_type": "code",
   "execution_count": 478,
   "metadata": {},
   "outputs": [
    {
     "output_type": "execute_result",
     "data": {
      "text/plain": "  canal_venda  acessos   site   vendas  lista\n0    facebook    100.0  site1  1000.52    200\n1     twitter    200.0  site1  1052.34    200\n2   instagram    300.0  site2  2002.00    300\n3    linkedin    400.0  site2  5000.00    800\n4    facebook    500.0  site3   300.00    200",
      "text/html": "<div>\n<style scoped>\n    .dataframe tbody tr th:only-of-type {\n        vertical-align: middle;\n    }\n\n    .dataframe tbody tr th {\n        vertical-align: top;\n    }\n\n    .dataframe thead th {\n        text-align: right;\n    }\n</style>\n<table border=\"1\" class=\"dataframe\">\n  <thead>\n    <tr style=\"text-align: right;\">\n      <th></th>\n      <th>canal_venda</th>\n      <th>acessos</th>\n      <th>site</th>\n      <th>vendas</th>\n      <th>lista</th>\n    </tr>\n  </thead>\n  <tbody>\n    <tr>\n      <th>0</th>\n      <td>facebook</td>\n      <td>100.0</td>\n      <td>site1</td>\n      <td>1000.52</td>\n      <td>200</td>\n    </tr>\n    <tr>\n      <th>1</th>\n      <td>twitter</td>\n      <td>200.0</td>\n      <td>site1</td>\n      <td>1052.34</td>\n      <td>200</td>\n    </tr>\n    <tr>\n      <th>2</th>\n      <td>instagram</td>\n      <td>300.0</td>\n      <td>site2</td>\n      <td>2002.00</td>\n      <td>300</td>\n    </tr>\n    <tr>\n      <th>3</th>\n      <td>linkedin</td>\n      <td>400.0</td>\n      <td>site2</td>\n      <td>5000.00</td>\n      <td>800</td>\n    </tr>\n    <tr>\n      <th>4</th>\n      <td>facebook</td>\n      <td>500.0</td>\n      <td>site3</td>\n      <td>300.00</td>\n      <td>200</td>\n    </tr>\n  </tbody>\n</table>\n</div>"
     },
     "metadata": {},
     "execution_count": 478
    }
   ],
   "source": [
    "dtfm"
   ]
  },
  {
   "cell_type": "code",
   "execution_count": 479,
   "metadata": {},
   "outputs": [
    {
     "output_type": "execute_result",
     "data": {
      "text/plain": "facebook     2\ntwitter      1\ninstagram    1\nlinkedin     1\nName: canal_venda, dtype: int64"
     },
     "metadata": {},
     "execution_count": 479
    }
   ],
   "source": [
    "#Contando numeros de repatições de um valor unico de uma coluna\n",
    "dtfm['canal_venda'].value_counts()"
   ]
  },
  {
   "cell_type": "code",
   "execution_count": 481,
   "metadata": {},
   "outputs": [
    {
     "output_type": "execute_result",
     "data": {
      "text/plain": "array(['facebook', 'twitter', 'instagram', 'linkedin'], dtype=object)"
     },
     "metadata": {},
     "execution_count": 481
    }
   ],
   "source": [
    "#Valores unicos de uma coluna\n",
    "dtfm['canal_venda'].unique()"
   ]
  },
  {
   "cell_type": "code",
   "execution_count": 482,
   "metadata": {},
   "outputs": [
    {
     "output_type": "execute_result",
     "data": {
      "text/plain": "site\nsite1    300.0\nsite2    700.0\nsite3    500.0\nName: acessos, dtype: float64"
     },
     "metadata": {},
     "execution_count": 482
    }
   ],
   "source": [
    "# Usando o groupby com valores numericos\n",
    "dtfm.groupby('site')['acessos'].sum()"
   ]
  },
  {
   "cell_type": "code",
   "execution_count": 487,
   "metadata": {},
   "outputs": [
    {
     "output_type": "execute_result",
     "data": {
      "text/plain": "canal_venda\nfacebook     300.0\ninstagram    300.0\nlinkedin     400.0\ntwitter      200.0\nName: acessos, dtype: float64"
     },
     "metadata": {},
     "execution_count": 487
    }
   ],
   "source": [
    "# Usando o groupby com valores numericos\n",
    "dtfm.groupby('canal_venda')['acessos'].median()"
   ]
  },
  {
   "cell_type": "code",
   "execution_count": 488,
   "metadata": {},
   "outputs": [
    {
     "output_type": "execute_result",
     "data": {
      "text/plain": "site\nsite1      [facebook, twitter]\nsite2    [instagram, linkedin]\nsite3               [facebook]\nName: canal_venda, dtype: object"
     },
     "metadata": {},
     "execution_count": 488
    }
   ],
   "source": [
    "# Usando o groupby com categoricos\n",
    "dtfm.groupby('site')['canal_venda'].unique()"
   ]
  },
  {
   "cell_type": "code",
   "execution_count": 489,
   "metadata": {},
   "outputs": [
    {
     "output_type": "execute_result",
     "data": {
      "text/plain": "site\nsite1     facebook\nsite2    instagram\nsite3     facebook\nName: canal_venda, dtype: object"
     },
     "metadata": {},
     "execution_count": 489
    }
   ],
   "source": [
    "# Usando o groupby com categoricos\n",
    "dtfm.groupby('site')['canal_venda'].first()"
   ]
  },
  {
   "cell_type": "code",
   "execution_count": 490,
   "metadata": {},
   "outputs": [
    {
     "output_type": "execute_result",
     "data": {
      "text/plain": "  canal_venda  acessos   site   vendas  lista\n0    facebook    100.0  site1  1000.52    200\n1     twitter    200.0  site1  1052.34    200\n2   instagram    300.0  site2  2002.00    300\n3    linkedin    400.0  site2  5000.00    800\n4    facebook    500.0  site3   300.00    200",
      "text/html": "<div>\n<style scoped>\n    .dataframe tbody tr th:only-of-type {\n        vertical-align: middle;\n    }\n\n    .dataframe tbody tr th {\n        vertical-align: top;\n    }\n\n    .dataframe thead th {\n        text-align: right;\n    }\n</style>\n<table border=\"1\" class=\"dataframe\">\n  <thead>\n    <tr style=\"text-align: right;\">\n      <th></th>\n      <th>canal_venda</th>\n      <th>acessos</th>\n      <th>site</th>\n      <th>vendas</th>\n      <th>lista</th>\n    </tr>\n  </thead>\n  <tbody>\n    <tr>\n      <th>0</th>\n      <td>facebook</td>\n      <td>100.0</td>\n      <td>site1</td>\n      <td>1000.52</td>\n      <td>200</td>\n    </tr>\n    <tr>\n      <th>1</th>\n      <td>twitter</td>\n      <td>200.0</td>\n      <td>site1</td>\n      <td>1052.34</td>\n      <td>200</td>\n    </tr>\n    <tr>\n      <th>2</th>\n      <td>instagram</td>\n      <td>300.0</td>\n      <td>site2</td>\n      <td>2002.00</td>\n      <td>300</td>\n    </tr>\n    <tr>\n      <th>3</th>\n      <td>linkedin</td>\n      <td>400.0</td>\n      <td>site2</td>\n      <td>5000.00</td>\n      <td>800</td>\n    </tr>\n    <tr>\n      <th>4</th>\n      <td>facebook</td>\n      <td>500.0</td>\n      <td>site3</td>\n      <td>300.00</td>\n      <td>200</td>\n    </tr>\n  </tbody>\n</table>\n</div>"
     },
     "metadata": {},
     "execution_count": 490
    }
   ],
   "source": [
    "dtfm"
   ]
  },
  {
   "cell_type": "code",
   "execution_count": 491,
   "metadata": {},
   "outputs": [
    {
     "output_type": "execute_result",
     "data": {
      "text/plain": "                       site  acessos\ncanal_venda                         \nfacebook     [site1, site3]    600.0\ninstagram           [site2]    300.0\nlinkedin            [site2]    400.0\ntwitter             [site1]    200.0",
      "text/html": "<div>\n<style scoped>\n    .dataframe tbody tr th:only-of-type {\n        vertical-align: middle;\n    }\n\n    .dataframe tbody tr th {\n        vertical-align: top;\n    }\n\n    .dataframe thead th {\n        text-align: right;\n    }\n</style>\n<table border=\"1\" class=\"dataframe\">\n  <thead>\n    <tr style=\"text-align: right;\">\n      <th></th>\n      <th>site</th>\n      <th>acessos</th>\n    </tr>\n    <tr>\n      <th>canal_venda</th>\n      <th></th>\n      <th></th>\n    </tr>\n  </thead>\n  <tbody>\n    <tr>\n      <th>facebook</th>\n      <td>[site1, site3]</td>\n      <td>600.0</td>\n    </tr>\n    <tr>\n      <th>instagram</th>\n      <td>[site2]</td>\n      <td>300.0</td>\n    </tr>\n    <tr>\n      <th>linkedin</th>\n      <td>[site2]</td>\n      <td>400.0</td>\n    </tr>\n    <tr>\n      <th>twitter</th>\n      <td>[site1]</td>\n      <td>200.0</td>\n    </tr>\n  </tbody>\n</table>\n</div>"
     },
     "metadata": {},
     "execution_count": 491
    }
   ],
   "source": [
    "#Usando o groupby com a função agg\n",
    "dtfm.groupby('canal_venda').agg({'site': 'unique',\n",
    "                                     'acessos': 'sum'})\n"
   ]
  },
  {
   "cell_type": "code",
   "execution_count": 530,
   "metadata": {},
   "outputs": [
    {
     "output_type": "execute_result",
     "data": {
      "text/plain": "          acessos    vendas     lista\nacessos  1.000000  0.217542  0.363803\nvendas   0.217542  1.000000  0.979211\nlista    0.363803  0.979211  1.000000",
      "text/html": "<div>\n<style scoped>\n    .dataframe tbody tr th:only-of-type {\n        vertical-align: middle;\n    }\n\n    .dataframe tbody tr th {\n        vertical-align: top;\n    }\n\n    .dataframe thead th {\n        text-align: right;\n    }\n</style>\n<table border=\"1\" class=\"dataframe\">\n  <thead>\n    <tr style=\"text-align: right;\">\n      <th></th>\n      <th>acessos</th>\n      <th>vendas</th>\n      <th>lista</th>\n    </tr>\n  </thead>\n  <tbody>\n    <tr>\n      <th>acessos</th>\n      <td>1.000000</td>\n      <td>0.217542</td>\n      <td>0.363803</td>\n    </tr>\n    <tr>\n      <th>vendas</th>\n      <td>0.217542</td>\n      <td>1.000000</td>\n      <td>0.979211</td>\n    </tr>\n    <tr>\n      <th>lista</th>\n      <td>0.363803</td>\n      <td>0.979211</td>\n      <td>1.000000</td>\n    </tr>\n  </tbody>\n</table>\n</div>"
     },
     "metadata": {},
     "execution_count": 530
    }
   ],
   "source": [
    "#Correlações entre variaveis\n",
    "dtfm.corr(method = 'pearson')"
   ]
  },
  {
   "cell_type": "code",
   "execution_count": 498,
   "metadata": {},
   "outputs": [
    {
     "output_type": "execute_result",
     "data": {
      "text/plain": "                 canal_venda  acessos\nsite                                 \nsite1    [facebook, twitter]    300.0\nsite2  [instagram, linkedin]    700.0\nsite3             [facebook]    500.0",
      "text/html": "<div>\n<style scoped>\n    .dataframe tbody tr th:only-of-type {\n        vertical-align: middle;\n    }\n\n    .dataframe tbody tr th {\n        vertical-align: top;\n    }\n\n    .dataframe thead th {\n        text-align: right;\n    }\n</style>\n<table border=\"1\" class=\"dataframe\">\n  <thead>\n    <tr style=\"text-align: right;\">\n      <th></th>\n      <th>canal_venda</th>\n      <th>acessos</th>\n    </tr>\n    <tr>\n      <th>site</th>\n      <th></th>\n      <th></th>\n    </tr>\n  </thead>\n  <tbody>\n    <tr>\n      <th>site1</th>\n      <td>[facebook, twitter]</td>\n      <td>300.0</td>\n    </tr>\n    <tr>\n      <th>site2</th>\n      <td>[instagram, linkedin]</td>\n      <td>700.0</td>\n    </tr>\n    <tr>\n      <th>site3</th>\n      <td>[facebook]</td>\n      <td>500.0</td>\n    </tr>\n  </tbody>\n</table>\n</div>"
     },
     "metadata": {},
     "execution_count": 498
    }
   ],
   "source": [
    "dtfm.groupby(by='site').agg({'canal_venda':'unique','acessos':'sum'})"
   ]
  },
  {
   "cell_type": "code",
   "execution_count": 501,
   "metadata": {},
   "outputs": [
    {
     "output_type": "execute_result",
     "data": {
      "text/plain": "  canal_venda  acessos   site   vendas  lista\n0    facebook    100.0  site1  1000.52    200\n1     twitter    200.0  site1  1052.34    200\n2   instagram    300.0  site2  2002.00    300\n3    linkedin    400.0  site2  5000.00    800\n4    facebook    500.0  site3   300.00    200",
      "text/html": "<div>\n<style scoped>\n    .dataframe tbody tr th:only-of-type {\n        vertical-align: middle;\n    }\n\n    .dataframe tbody tr th {\n        vertical-align: top;\n    }\n\n    .dataframe thead th {\n        text-align: right;\n    }\n</style>\n<table border=\"1\" class=\"dataframe\">\n  <thead>\n    <tr style=\"text-align: right;\">\n      <th></th>\n      <th>canal_venda</th>\n      <th>acessos</th>\n      <th>site</th>\n      <th>vendas</th>\n      <th>lista</th>\n    </tr>\n  </thead>\n  <tbody>\n    <tr>\n      <th>0</th>\n      <td>facebook</td>\n      <td>100.0</td>\n      <td>site1</td>\n      <td>1000.52</td>\n      <td>200</td>\n    </tr>\n    <tr>\n      <th>1</th>\n      <td>twitter</td>\n      <td>200.0</td>\n      <td>site1</td>\n      <td>1052.34</td>\n      <td>200</td>\n    </tr>\n    <tr>\n      <th>2</th>\n      <td>instagram</td>\n      <td>300.0</td>\n      <td>site2</td>\n      <td>2002.00</td>\n      <td>300</td>\n    </tr>\n    <tr>\n      <th>3</th>\n      <td>linkedin</td>\n      <td>400.0</td>\n      <td>site2</td>\n      <td>5000.00</td>\n      <td>800</td>\n    </tr>\n    <tr>\n      <th>4</th>\n      <td>facebook</td>\n      <td>500.0</td>\n      <td>site3</td>\n      <td>300.00</td>\n      <td>200</td>\n    </tr>\n  </tbody>\n</table>\n</div>"
     },
     "metadata": {},
     "execution_count": 501
    }
   ],
   "source": [
    "dtfm"
   ]
  },
  {
   "cell_type": "code",
   "execution_count": 518,
   "metadata": {},
   "outputs": [],
   "source": [
    "#Criando variaveis categoricas por fatia de variavel numerica\n",
    "dtfm['categoria_vendas'] = pd.cut(dataframe['vendas'],\n",
    "                                       bins= (0, 1500, 3000, 5000), \n",
    "                                       labels = ('fraco', 'bom', 'excelente'))"
   ]
  },
  {
   "cell_type": "code",
   "execution_count": 519,
   "metadata": {},
   "outputs": [
    {
     "output_type": "execute_result",
     "data": {
      "text/plain": "  canal_venda  acessos   site   vendas  lista categoria_vendas\n0    facebook    100.0  site1  1000.52    200            fraco\n1     twitter    200.0  site1  1052.34    200            fraco\n2   instagram    300.0  site2  2002.00    300              bom\n3    linkedin    400.0  site2  5000.00    800        excelente\n4    facebook    500.0  site3   300.00    200            fraco",
      "text/html": "<div>\n<style scoped>\n    .dataframe tbody tr th:only-of-type {\n        vertical-align: middle;\n    }\n\n    .dataframe tbody tr th {\n        vertical-align: top;\n    }\n\n    .dataframe thead th {\n        text-align: right;\n    }\n</style>\n<table border=\"1\" class=\"dataframe\">\n  <thead>\n    <tr style=\"text-align: right;\">\n      <th></th>\n      <th>canal_venda</th>\n      <th>acessos</th>\n      <th>site</th>\n      <th>vendas</th>\n      <th>lista</th>\n      <th>categoria_vendas</th>\n    </tr>\n  </thead>\n  <tbody>\n    <tr>\n      <th>0</th>\n      <td>facebook</td>\n      <td>100.0</td>\n      <td>site1</td>\n      <td>1000.52</td>\n      <td>200</td>\n      <td>fraco</td>\n    </tr>\n    <tr>\n      <th>1</th>\n      <td>twitter</td>\n      <td>200.0</td>\n      <td>site1</td>\n      <td>1052.34</td>\n      <td>200</td>\n      <td>fraco</td>\n    </tr>\n    <tr>\n      <th>2</th>\n      <td>instagram</td>\n      <td>300.0</td>\n      <td>site2</td>\n      <td>2002.00</td>\n      <td>300</td>\n      <td>bom</td>\n    </tr>\n    <tr>\n      <th>3</th>\n      <td>linkedin</td>\n      <td>400.0</td>\n      <td>site2</td>\n      <td>5000.00</td>\n      <td>800</td>\n      <td>excelente</td>\n    </tr>\n    <tr>\n      <th>4</th>\n      <td>facebook</td>\n      <td>500.0</td>\n      <td>site3</td>\n      <td>300.00</td>\n      <td>200</td>\n      <td>fraco</td>\n    </tr>\n  </tbody>\n</table>\n</div>"
     },
     "metadata": {},
     "execution_count": 519
    }
   ],
   "source": [
    "dtfm"
   ]
  },
  {
   "cell_type": "code",
   "execution_count": 524,
   "metadata": {},
   "outputs": [],
   "source": [
    "#Criando variavel categorica usando compressao de lista\n",
    "dtfm['cat_acessos'] = ['baixo' if x < 300 else 'alto' for x in dataframe['acessos']]"
   ]
  },
  {
   "cell_type": "code",
   "execution_count": 525,
   "metadata": {},
   "outputs": [
    {
     "output_type": "execute_result",
     "data": {
      "text/plain": "  canal_venda  acessos   site   vendas  lista categoria_vendas cat_acessos\n0    facebook    100.0  site1  1000.52    200            fraco       baixo\n1     twitter    200.0  site1  1052.34    200            fraco       baixo\n2   instagram    300.0  site2  2002.00    300              bom        alto\n3    linkedin    400.0  site2  5000.00    800        excelente        alto\n4    facebook    500.0  site3   300.00    200            fraco        alto",
      "text/html": "<div>\n<style scoped>\n    .dataframe tbody tr th:only-of-type {\n        vertical-align: middle;\n    }\n\n    .dataframe tbody tr th {\n        vertical-align: top;\n    }\n\n    .dataframe thead th {\n        text-align: right;\n    }\n</style>\n<table border=\"1\" class=\"dataframe\">\n  <thead>\n    <tr style=\"text-align: right;\">\n      <th></th>\n      <th>canal_venda</th>\n      <th>acessos</th>\n      <th>site</th>\n      <th>vendas</th>\n      <th>lista</th>\n      <th>categoria_vendas</th>\n      <th>cat_acessos</th>\n    </tr>\n  </thead>\n  <tbody>\n    <tr>\n      <th>0</th>\n      <td>facebook</td>\n      <td>100.0</td>\n      <td>site1</td>\n      <td>1000.52</td>\n      <td>200</td>\n      <td>fraco</td>\n      <td>baixo</td>\n    </tr>\n    <tr>\n      <th>1</th>\n      <td>twitter</td>\n      <td>200.0</td>\n      <td>site1</td>\n      <td>1052.34</td>\n      <td>200</td>\n      <td>fraco</td>\n      <td>baixo</td>\n    </tr>\n    <tr>\n      <th>2</th>\n      <td>instagram</td>\n      <td>300.0</td>\n      <td>site2</td>\n      <td>2002.00</td>\n      <td>300</td>\n      <td>bom</td>\n      <td>alto</td>\n    </tr>\n    <tr>\n      <th>3</th>\n      <td>linkedin</td>\n      <td>400.0</td>\n      <td>site2</td>\n      <td>5000.00</td>\n      <td>800</td>\n      <td>excelente</td>\n      <td>alto</td>\n    </tr>\n    <tr>\n      <th>4</th>\n      <td>facebook</td>\n      <td>500.0</td>\n      <td>site3</td>\n      <td>300.00</td>\n      <td>200</td>\n      <td>fraco</td>\n      <td>alto</td>\n    </tr>\n  </tbody>\n</table>\n</div>"
     },
     "metadata": {},
     "execution_count": 525
    }
   ],
   "source": [
    "dtfm"
   ]
  },
  {
   "cell_type": "code",
   "execution_count": 531,
   "metadata": {},
   "outputs": [],
   "source": [
    "#Juntando dois dataframes | Criando o dataframe_2\n",
    "dtfm_2 = pd.DataFrame({'site': ['site1', 'site1', 'site2', 'site2', 'site3'],\n",
    "               'suporte': ['Carlos', 'Carlos', 'Maria', 'Maria', 'Ezequiel']})\n"
   ]
  },
  {
   "cell_type": "code",
   "execution_count": 540,
   "metadata": {},
   "outputs": [
    {
     "output_type": "execute_result",
     "data": {
      "text/plain": "  canal_venda  acessos   site   vendas  lista categoria_vendas cat_acessos  \\\n0    facebook    100.0  site1  1000.52    200            fraco       baixo   \n1    facebook    100.0  site1  1000.52    200            fraco       baixo   \n2     twitter    200.0  site1  1052.34    200            fraco       baixo   \n3     twitter    200.0  site1  1052.34    200            fraco       baixo   \n4   instagram    300.0  site2  2002.00    300              bom        alto   \n5   instagram    300.0  site2  2002.00    300              bom        alto   \n6    linkedin    400.0  site2  5000.00    800        excelente        alto   \n7    linkedin    400.0  site2  5000.00    800        excelente        alto   \n8    facebook    500.0  site3   300.00    200            fraco        alto   \n\n    suporte  \n0    Carlos  \n1    Carlos  \n2    Carlos  \n3    Carlos  \n4     Maria  \n5     Maria  \n6     Maria  \n7     Maria  \n8  Ezequiel  ",
      "text/html": "<div>\n<style scoped>\n    .dataframe tbody tr th:only-of-type {\n        vertical-align: middle;\n    }\n\n    .dataframe tbody tr th {\n        vertical-align: top;\n    }\n\n    .dataframe thead th {\n        text-align: right;\n    }\n</style>\n<table border=\"1\" class=\"dataframe\">\n  <thead>\n    <tr style=\"text-align: right;\">\n      <th></th>\n      <th>canal_venda</th>\n      <th>acessos</th>\n      <th>site</th>\n      <th>vendas</th>\n      <th>lista</th>\n      <th>categoria_vendas</th>\n      <th>cat_acessos</th>\n      <th>suporte</th>\n    </tr>\n  </thead>\n  <tbody>\n    <tr>\n      <th>0</th>\n      <td>facebook</td>\n      <td>100.0</td>\n      <td>site1</td>\n      <td>1000.52</td>\n      <td>200</td>\n      <td>fraco</td>\n      <td>baixo</td>\n      <td>Carlos</td>\n    </tr>\n    <tr>\n      <th>1</th>\n      <td>facebook</td>\n      <td>100.0</td>\n      <td>site1</td>\n      <td>1000.52</td>\n      <td>200</td>\n      <td>fraco</td>\n      <td>baixo</td>\n      <td>Carlos</td>\n    </tr>\n    <tr>\n      <th>2</th>\n      <td>twitter</td>\n      <td>200.0</td>\n      <td>site1</td>\n      <td>1052.34</td>\n      <td>200</td>\n      <td>fraco</td>\n      <td>baixo</td>\n      <td>Carlos</td>\n    </tr>\n    <tr>\n      <th>3</th>\n      <td>twitter</td>\n      <td>200.0</td>\n      <td>site1</td>\n      <td>1052.34</td>\n      <td>200</td>\n      <td>fraco</td>\n      <td>baixo</td>\n      <td>Carlos</td>\n    </tr>\n    <tr>\n      <th>4</th>\n      <td>instagram</td>\n      <td>300.0</td>\n      <td>site2</td>\n      <td>2002.00</td>\n      <td>300</td>\n      <td>bom</td>\n      <td>alto</td>\n      <td>Maria</td>\n    </tr>\n    <tr>\n      <th>5</th>\n      <td>instagram</td>\n      <td>300.0</td>\n      <td>site2</td>\n      <td>2002.00</td>\n      <td>300</td>\n      <td>bom</td>\n      <td>alto</td>\n      <td>Maria</td>\n    </tr>\n    <tr>\n      <th>6</th>\n      <td>linkedin</td>\n      <td>400.0</td>\n      <td>site2</td>\n      <td>5000.00</td>\n      <td>800</td>\n      <td>excelente</td>\n      <td>alto</td>\n      <td>Maria</td>\n    </tr>\n    <tr>\n      <th>7</th>\n      <td>linkedin</td>\n      <td>400.0</td>\n      <td>site2</td>\n      <td>5000.00</td>\n      <td>800</td>\n      <td>excelente</td>\n      <td>alto</td>\n      <td>Maria</td>\n    </tr>\n    <tr>\n      <th>8</th>\n      <td>facebook</td>\n      <td>500.0</td>\n      <td>site3</td>\n      <td>300.00</td>\n      <td>200</td>\n      <td>fraco</td>\n      <td>alto</td>\n      <td>Ezequiel</td>\n    </tr>\n  </tbody>\n</table>\n</div>"
     },
     "metadata": {},
     "execution_count": 540
    }
   ],
   "source": [
    "#Realizando o merge\n",
    "dtfm.merge(dtfm_2, on = 'site', how='left' )"
   ]
  },
  {
   "cell_type": "code",
   "execution_count": 558,
   "metadata": {},
   "outputs": [
    {
     "output_type": "execute_result",
     "data": {
      "text/plain": "  canal_venda  acessos   site   vendas  lista categoria_vendas cat_acessos\n0    facebook    100.0  site1  1000.52    200            fraco       baixo\n1     twitter    200.0  site1  1052.34    200            fraco       baixo\n2   instagram    300.0  site2  2002.00    300              bom        alto\n3    linkedin    400.0  site2  5000.00    800        excelente        alto\n4    facebook    500.0  site3   300.00    200            fraco        alto",
      "text/html": "<div>\n<style scoped>\n    .dataframe tbody tr th:only-of-type {\n        vertical-align: middle;\n    }\n\n    .dataframe tbody tr th {\n        vertical-align: top;\n    }\n\n    .dataframe thead th {\n        text-align: right;\n    }\n</style>\n<table border=\"1\" class=\"dataframe\">\n  <thead>\n    <tr style=\"text-align: right;\">\n      <th></th>\n      <th>canal_venda</th>\n      <th>acessos</th>\n      <th>site</th>\n      <th>vendas</th>\n      <th>lista</th>\n      <th>categoria_vendas</th>\n      <th>cat_acessos</th>\n    </tr>\n  </thead>\n  <tbody>\n    <tr>\n      <th>0</th>\n      <td>facebook</td>\n      <td>100.0</td>\n      <td>site1</td>\n      <td>1000.52</td>\n      <td>200</td>\n      <td>fraco</td>\n      <td>baixo</td>\n    </tr>\n    <tr>\n      <th>1</th>\n      <td>twitter</td>\n      <td>200.0</td>\n      <td>site1</td>\n      <td>1052.34</td>\n      <td>200</td>\n      <td>fraco</td>\n      <td>baixo</td>\n    </tr>\n    <tr>\n      <th>2</th>\n      <td>instagram</td>\n      <td>300.0</td>\n      <td>site2</td>\n      <td>2002.00</td>\n      <td>300</td>\n      <td>bom</td>\n      <td>alto</td>\n    </tr>\n    <tr>\n      <th>3</th>\n      <td>linkedin</td>\n      <td>400.0</td>\n      <td>site2</td>\n      <td>5000.00</td>\n      <td>800</td>\n      <td>excelente</td>\n      <td>alto</td>\n    </tr>\n    <tr>\n      <th>4</th>\n      <td>facebook</td>\n      <td>500.0</td>\n      <td>site3</td>\n      <td>300.00</td>\n      <td>200</td>\n      <td>fraco</td>\n      <td>alto</td>\n    </tr>\n  </tbody>\n</table>\n</div>"
     },
     "metadata": {},
     "execution_count": 558
    }
   ],
   "source": [
    "#Salvando o dataframe como csv\n",
    "dtfm.to_csv('dataframe.csv', sep = ';', decimal = ',', index = False)\n",
    "dtfm"
   ]
  },
  {
   "cell_type": "code",
   "execution_count": 561,
   "metadata": {},
   "outputs": [],
   "source": [
    "#Lendo dados no formato csv\n",
    "dtfm = pd.read_csv('dataframe.csv', sep = ';', decimal = ',')"
   ]
  },
  {
   "cell_type": "code",
   "execution_count": 562,
   "metadata": {},
   "outputs": [
    {
     "output_type": "execute_result",
     "data": {
      "text/plain": "  canal_venda  acessos   site   vendas  lista categoria_vendas cat_acessos\n0    facebook    100.0  site1  1000.52    200            fraco       baixo\n1     twitter    200.0  site1  1052.34    200            fraco       baixo\n2   instagram    300.0  site2  2002.00    300              bom        alto\n3    linkedin    400.0  site2  5000.00    800        excelente        alto\n4    facebook    500.0  site3   300.00    200            fraco        alto",
      "text/html": "<div>\n<style scoped>\n    .dataframe tbody tr th:only-of-type {\n        vertical-align: middle;\n    }\n\n    .dataframe tbody tr th {\n        vertical-align: top;\n    }\n\n    .dataframe thead th {\n        text-align: right;\n    }\n</style>\n<table border=\"1\" class=\"dataframe\">\n  <thead>\n    <tr style=\"text-align: right;\">\n      <th></th>\n      <th>canal_venda</th>\n      <th>acessos</th>\n      <th>site</th>\n      <th>vendas</th>\n      <th>lista</th>\n      <th>categoria_vendas</th>\n      <th>cat_acessos</th>\n    </tr>\n  </thead>\n  <tbody>\n    <tr>\n      <th>0</th>\n      <td>facebook</td>\n      <td>100.0</td>\n      <td>site1</td>\n      <td>1000.52</td>\n      <td>200</td>\n      <td>fraco</td>\n      <td>baixo</td>\n    </tr>\n    <tr>\n      <th>1</th>\n      <td>twitter</td>\n      <td>200.0</td>\n      <td>site1</td>\n      <td>1052.34</td>\n      <td>200</td>\n      <td>fraco</td>\n      <td>baixo</td>\n    </tr>\n    <tr>\n      <th>2</th>\n      <td>instagram</td>\n      <td>300.0</td>\n      <td>site2</td>\n      <td>2002.00</td>\n      <td>300</td>\n      <td>bom</td>\n      <td>alto</td>\n    </tr>\n    <tr>\n      <th>3</th>\n      <td>linkedin</td>\n      <td>400.0</td>\n      <td>site2</td>\n      <td>5000.00</td>\n      <td>800</td>\n      <td>excelente</td>\n      <td>alto</td>\n    </tr>\n    <tr>\n      <th>4</th>\n      <td>facebook</td>\n      <td>500.0</td>\n      <td>site3</td>\n      <td>300.00</td>\n      <td>200</td>\n      <td>fraco</td>\n      <td>alto</td>\n    </tr>\n  </tbody>\n</table>\n</div>"
     },
     "metadata": {},
     "execution_count": 562
    }
   ],
   "source": [
    "dtfm.head()"
   ]
  },
  {
   "cell_type": "code",
   "execution_count": 563,
   "metadata": {},
   "outputs": [],
   "source": [
    "json = pd.read_json('https://pricing.us-east-1.amazonaws.com/offers/v1.0/aws/index.json')"
   ]
  },
  {
   "cell_type": "code",
   "execution_count": 572,
   "metadata": {},
   "outputs": [
    {
     "output_type": "execute_result",
     "data": {
      "text/plain": "{'offerCode': 'AmazonLex',\n 'versionIndexUrl': '/offers/v1.0/aws/AmazonLex/index.json',\n 'currentVersionUrl': '/offers/v1.0/aws/AmazonLex/current/index.json',\n 'currentRegionIndexUrl': '/offers/v1.0/aws/AmazonLex/current/region_index.json'}"
     },
     "metadata": {},
     "execution_count": 572
    }
   ],
   "source": [
    "json['offers'][99]"
   ]
  },
  {
   "cell_type": "code",
   "execution_count": 566,
   "metadata": {},
   "outputs": [
    {
     "output_type": "execute_result",
     "data": {
      "text/plain": "(153, 4)"
     },
     "metadata": {},
     "execution_count": 566
    }
   ],
   "source": [
    "json.shape"
   ]
  },
  {
   "cell_type": "code",
   "execution_count": 568,
   "metadata": {},
   "outputs": [
    {
     "output_type": "stream",
     "name": "stdout",
     "text": "<class 'pandas.core.frame.DataFrame'>\nIndex: 153 entries, A4B to translate\nData columns (total 4 columns):\n #   Column           Non-Null Count  Dtype \n---  ------           --------------  ----- \n 0   formatVersion    153 non-null    object\n 1   disclaimer       153 non-null    object\n 2   publicationDate  153 non-null    object\n 3   offers           153 non-null    object\ndtypes: object(4)\nmemory usage: 11.0+ KB\n"
    }
   ],
   "source": [
    "json.info()"
   ]
  },
  {
   "cell_type": "code",
   "execution_count": 571,
   "metadata": {},
   "outputs": [
    {
     "output_type": "execute_result",
     "data": {
      "text/plain": "       formatVersion                                         disclaimer  \\\ncount            153                                                153   \nunique             1                                                  1   \ntop             v1.0  This pricing list is for informational purpose...   \nfreq             153                                                153   \n\n             publicationDate  \\\ncount                    153   \nunique                     1   \ntop     2020-06-17T16:47:42Z   \nfreq                     153   \n\n                                                   offers  \ncount                                                 153  \nunique                                                153  \ntop     {'offerCode': 'AWSTransfer', 'versionIndexUrl'...  \nfreq                                                    1  ",
      "text/html": "<div>\n<style scoped>\n    .dataframe tbody tr th:only-of-type {\n        vertical-align: middle;\n    }\n\n    .dataframe tbody tr th {\n        vertical-align: top;\n    }\n\n    .dataframe thead th {\n        text-align: right;\n    }\n</style>\n<table border=\"1\" class=\"dataframe\">\n  <thead>\n    <tr style=\"text-align: right;\">\n      <th></th>\n      <th>formatVersion</th>\n      <th>disclaimer</th>\n      <th>publicationDate</th>\n      <th>offers</th>\n    </tr>\n  </thead>\n  <tbody>\n    <tr>\n      <th>count</th>\n      <td>153</td>\n      <td>153</td>\n      <td>153</td>\n      <td>153</td>\n    </tr>\n    <tr>\n      <th>unique</th>\n      <td>1</td>\n      <td>1</td>\n      <td>1</td>\n      <td>153</td>\n    </tr>\n    <tr>\n      <th>top</th>\n      <td>v1.0</td>\n      <td>This pricing list is for informational purpose...</td>\n      <td>2020-06-17T16:47:42Z</td>\n      <td>{'offerCode': 'AWSTransfer', 'versionIndexUrl'...</td>\n    </tr>\n    <tr>\n      <th>freq</th>\n      <td>153</td>\n      <td>153</td>\n      <td>153</td>\n      <td>1</td>\n    </tr>\n  </tbody>\n</table>\n</div>"
     },
     "metadata": {},
     "execution_count": 571
    }
   ],
   "source": [
    "json.describe()"
   ]
  },
  {
   "cell_type": "code",
   "execution_count": 575,
   "metadata": {},
   "outputs": [
    {
     "output_type": "execute_result",
     "data": {
      "text/plain": "                 index formatVersion  \\\n0                  A4B          v1.0   \n1           AWSAmplify          v1.0   \n2           AWSAppSync          v1.0   \n3            AWSBackup          v1.0   \n4           AWSBudgets          v1.0   \n..                 ...           ...   \n148  comprehendmedical          v1.0   \n149       datapipeline          v1.0   \n150    mobileanalytics          v1.0   \n151         transcribe          v1.0   \n152          translate          v1.0   \n\n                                            disclaimer       publicationDate  \\\n0    This pricing list is for informational purpose...  2020-06-17T16:47:42Z   \n1    This pricing list is for informational purpose...  2020-06-17T16:47:42Z   \n2    This pricing list is for informational purpose...  2020-06-17T16:47:42Z   \n3    This pricing list is for informational purpose...  2020-06-17T16:47:42Z   \n4    This pricing list is for informational purpose...  2020-06-17T16:47:42Z   \n..                                                 ...                   ...   \n148  This pricing list is for informational purpose...  2020-06-17T16:47:42Z   \n149  This pricing list is for informational purpose...  2020-06-17T16:47:42Z   \n150  This pricing list is for informational purpose...  2020-06-17T16:47:42Z   \n151  This pricing list is for informational purpose...  2020-06-17T16:47:42Z   \n152  This pricing list is for informational purpose...  2020-06-17T16:47:42Z   \n\n                                                offers  \n0    {'offerCode': 'A4B', 'versionIndexUrl': '/offe...  \n1    {'offerCode': 'AWSAmplify', 'versionIndexUrl':...  \n2    {'offerCode': 'AWSAppSync', 'versionIndexUrl':...  \n3    {'offerCode': 'AWSBackup', 'versionIndexUrl': ...  \n4    {'offerCode': 'AWSBudgets', 'versionIndexUrl':...  \n..                                                 ...  \n148  {'offerCode': 'comprehendmedical', 'versionInd...  \n149  {'offerCode': 'datapipeline', 'versionIndexUrl...  \n150  {'offerCode': 'mobileanalytics', 'versionIndex...  \n151  {'offerCode': 'transcribe', 'versionIndexUrl':...  \n152  {'offerCode': 'translate', 'versionIndexUrl': ...  \n\n[153 rows x 5 columns]",
      "text/html": "<div>\n<style scoped>\n    .dataframe tbody tr th:only-of-type {\n        vertical-align: middle;\n    }\n\n    .dataframe tbody tr th {\n        vertical-align: top;\n    }\n\n    .dataframe thead th {\n        text-align: right;\n    }\n</style>\n<table border=\"1\" class=\"dataframe\">\n  <thead>\n    <tr style=\"text-align: right;\">\n      <th></th>\n      <th>index</th>\n      <th>formatVersion</th>\n      <th>disclaimer</th>\n      <th>publicationDate</th>\n      <th>offers</th>\n    </tr>\n  </thead>\n  <tbody>\n    <tr>\n      <th>0</th>\n      <td>A4B</td>\n      <td>v1.0</td>\n      <td>This pricing list is for informational purpose...</td>\n      <td>2020-06-17T16:47:42Z</td>\n      <td>{'offerCode': 'A4B', 'versionIndexUrl': '/offe...</td>\n    </tr>\n    <tr>\n      <th>1</th>\n      <td>AWSAmplify</td>\n      <td>v1.0</td>\n      <td>This pricing list is for informational purpose...</td>\n      <td>2020-06-17T16:47:42Z</td>\n      <td>{'offerCode': 'AWSAmplify', 'versionIndexUrl':...</td>\n    </tr>\n    <tr>\n      <th>2</th>\n      <td>AWSAppSync</td>\n      <td>v1.0</td>\n      <td>This pricing list is for informational purpose...</td>\n      <td>2020-06-17T16:47:42Z</td>\n      <td>{'offerCode': 'AWSAppSync', 'versionIndexUrl':...</td>\n    </tr>\n    <tr>\n      <th>3</th>\n      <td>AWSBackup</td>\n      <td>v1.0</td>\n      <td>This pricing list is for informational purpose...</td>\n      <td>2020-06-17T16:47:42Z</td>\n      <td>{'offerCode': 'AWSBackup', 'versionIndexUrl': ...</td>\n    </tr>\n    <tr>\n      <th>4</th>\n      <td>AWSBudgets</td>\n      <td>v1.0</td>\n      <td>This pricing list is for informational purpose...</td>\n      <td>2020-06-17T16:47:42Z</td>\n      <td>{'offerCode': 'AWSBudgets', 'versionIndexUrl':...</td>\n    </tr>\n    <tr>\n      <th>...</th>\n      <td>...</td>\n      <td>...</td>\n      <td>...</td>\n      <td>...</td>\n      <td>...</td>\n    </tr>\n    <tr>\n      <th>148</th>\n      <td>comprehendmedical</td>\n      <td>v1.0</td>\n      <td>This pricing list is for informational purpose...</td>\n      <td>2020-06-17T16:47:42Z</td>\n      <td>{'offerCode': 'comprehendmedical', 'versionInd...</td>\n    </tr>\n    <tr>\n      <th>149</th>\n      <td>datapipeline</td>\n      <td>v1.0</td>\n      <td>This pricing list is for informational purpose...</td>\n      <td>2020-06-17T16:47:42Z</td>\n      <td>{'offerCode': 'datapipeline', 'versionIndexUrl...</td>\n    </tr>\n    <tr>\n      <th>150</th>\n      <td>mobileanalytics</td>\n      <td>v1.0</td>\n      <td>This pricing list is for informational purpose...</td>\n      <td>2020-06-17T16:47:42Z</td>\n      <td>{'offerCode': 'mobileanalytics', 'versionIndex...</td>\n    </tr>\n    <tr>\n      <th>151</th>\n      <td>transcribe</td>\n      <td>v1.0</td>\n      <td>This pricing list is for informational purpose...</td>\n      <td>2020-06-17T16:47:42Z</td>\n      <td>{'offerCode': 'transcribe', 'versionIndexUrl':...</td>\n    </tr>\n    <tr>\n      <th>152</th>\n      <td>translate</td>\n      <td>v1.0</td>\n      <td>This pricing list is for informational purpose...</td>\n      <td>2020-06-17T16:47:42Z</td>\n      <td>{'offerCode': 'translate', 'versionIndexUrl': ...</td>\n    </tr>\n  </tbody>\n</table>\n<p>153 rows × 5 columns</p>\n</div>"
     },
     "metadata": {},
     "execution_count": 575
    }
   ],
   "source": [
    "json"
   ]
  },
  {
   "cell_type": "code",
   "execution_count": 574,
   "metadata": {},
   "outputs": [],
   "source": [
    "json.reset_index(inplace = True)"
   ]
  },
  {
   "cell_type": "code",
   "execution_count": 576,
   "metadata": {},
   "outputs": [
    {
     "output_type": "execute_result",
     "data": {
      "text/plain": "0                    A4B\n1             AWSAmplify\n2             AWSAppSync\n3              AWSBackup\n4             AWSBudgets\n             ...        \n148    comprehendmedical\n149         datapipeline\n150      mobileanalytics\n151           transcribe\n152            translate\nName: index, Length: 153, dtype: object"
     },
     "metadata": {},
     "execution_count": 576
    }
   ],
   "source": [
    "json['index']"
   ]
  },
  {
   "cell_type": "markdown",
   "metadata": {},
   "source": [
    "## Imputação de dados"
   ]
  },
  {
   "cell_type": "code",
   "execution_count": null,
   "metadata": {},
   "outputs": [],
   "source": [
    "df = pd.read_csv('train.csv')"
   ]
  },
  {
   "cell_type": "code",
   "execution_count": null,
   "metadata": {},
   "outputs": [],
   "source": [
    "aux = pd.DataFrame({'colunas': df.columns,\n",
    "                    'tipos': df.dtypes,\n",
    "                    'percentual_faltante': df.isna().sum() / df.shape[0]})"
   ]
  },
  {
   "cell_type": "code",
   "execution_count": null,
   "metadata": {},
   "outputs": [],
   "source": [
    "aux"
   ]
  },
  {
   "cell_type": "code",
   "execution_count": null,
   "metadata": {},
   "outputs": [],
   "source": [
    "#Dados númericos : média ou mediana\n",
    "df['Age'] = df['Age'].fillna(df['Age'].mode())"
   ]
  },
  {
   "cell_type": "code",
   "execution_count": null,
   "metadata": {},
   "outputs": [],
   "source": [
    "#Dados categoricos: Unknown ou moda\n",
    "df['Cabin'] = df['Cabin'].fillna('Unknown')"
   ]
  },
  {
   "cell_type": "code",
   "execution_count": null,
   "metadata": {},
   "outputs": [],
   "source": [
    "df['Cabin'].value_counts()"
   ]
  },
  {
   "cell_type": "code",
   "execution_count": null,
   "metadata": {},
   "outputs": [],
   "source": [
    "df.shape[0]"
   ]
  },
  {
   "cell_type": "markdown",
   "metadata": {},
   "source": [
    "#novos testes "
   ]
  },
  {
   "cell_type": "code",
   "execution_count": 3,
   "metadata": {},
   "outputs": [],
   "source": [
    "import pandas as pd"
   ]
  },
  {
   "cell_type": "code",
   "execution_count": 4,
   "metadata": {},
   "outputs": [],
   "source": [
    "# gylow: teste novo\n",
    "test = pd.read_csv('IRIS.csv')  "
   ]
  },
  {
   "cell_type": "code",
   "execution_count": 6,
   "metadata": {
    "tags": []
   },
   "outputs": [
    {
     "output_type": "execute_result",
     "data": {
      "text/plain": "   sepal_length  sepal_width  petal_length  petal_width      species\n0           5.1          3.5           1.4          0.2  Iris-setosa\n1           4.9          3.0           1.4          0.2  Iris-setosa\n2           4.7          3.2           1.3          0.2  Iris-setosa\n3           4.6          3.1           1.5          0.2  Iris-setosa\n4           5.0          3.6           1.4          0.2  Iris-setosa",
      "text/html": "<div>\n<style scoped>\n    .dataframe tbody tr th:only-of-type {\n        vertical-align: middle;\n    }\n\n    .dataframe tbody tr th {\n        vertical-align: top;\n    }\n\n    .dataframe thead th {\n        text-align: right;\n    }\n</style>\n<table border=\"1\" class=\"dataframe\">\n  <thead>\n    <tr style=\"text-align: right;\">\n      <th></th>\n      <th>sepal_length</th>\n      <th>sepal_width</th>\n      <th>petal_length</th>\n      <th>petal_width</th>\n      <th>species</th>\n    </tr>\n  </thead>\n  <tbody>\n    <tr>\n      <th>0</th>\n      <td>5.1</td>\n      <td>3.5</td>\n      <td>1.4</td>\n      <td>0.2</td>\n      <td>Iris-setosa</td>\n    </tr>\n    <tr>\n      <th>1</th>\n      <td>4.9</td>\n      <td>3.0</td>\n      <td>1.4</td>\n      <td>0.2</td>\n      <td>Iris-setosa</td>\n    </tr>\n    <tr>\n      <th>2</th>\n      <td>4.7</td>\n      <td>3.2</td>\n      <td>1.3</td>\n      <td>0.2</td>\n      <td>Iris-setosa</td>\n    </tr>\n    <tr>\n      <th>3</th>\n      <td>4.6</td>\n      <td>3.1</td>\n      <td>1.5</td>\n      <td>0.2</td>\n      <td>Iris-setosa</td>\n    </tr>\n    <tr>\n      <th>4</th>\n      <td>5.0</td>\n      <td>3.6</td>\n      <td>1.4</td>\n      <td>0.2</td>\n      <td>Iris-setosa</td>\n    </tr>\n  </tbody>\n</table>\n</div>"
     },
     "metadata": {},
     "execution_count": 6
    }
   ],
   "source": [
    "test.head()"
   ]
  },
  {
   "cell_type": "code",
   "execution_count": 14,
   "metadata": {},
   "outputs": [],
   "source": [
    "aux = pd.DataFrame({'colunas': test.columns,'tipos': test.dtypes, 'NA #': test.isna().sum(), 'NA %': (test.isna().sum()/test.shape[0]*100)})"
   ]
  },
  {
   "cell_type": "code",
   "execution_count": 16,
   "metadata": {},
   "outputs": [
    {
     "output_type": "execute_result",
     "data": {
      "text/plain": "                   colunas    tipos  NA #  NA %\nsepal_length  sepal_length  float64     0   0.0\nsepal_width    sepal_width  float64     0   0.0\npetal_length  petal_length  float64     0   0.0\npetal_width    petal_width  float64     0   0.0\nspecies            species   object     0   0.0",
      "text/html": "<div>\n<style scoped>\n    .dataframe tbody tr th:only-of-type {\n        vertical-align: middle;\n    }\n\n    .dataframe tbody tr th {\n        vertical-align: top;\n    }\n\n    .dataframe thead th {\n        text-align: right;\n    }\n</style>\n<table border=\"1\" class=\"dataframe\">\n  <thead>\n    <tr style=\"text-align: right;\">\n      <th></th>\n      <th>colunas</th>\n      <th>tipos</th>\n      <th>NA #</th>\n      <th>NA %</th>\n    </tr>\n  </thead>\n  <tbody>\n    <tr>\n      <th>sepal_length</th>\n      <td>sepal_length</td>\n      <td>float64</td>\n      <td>0</td>\n      <td>0.0</td>\n    </tr>\n    <tr>\n      <th>sepal_width</th>\n      <td>sepal_width</td>\n      <td>float64</td>\n      <td>0</td>\n      <td>0.0</td>\n    </tr>\n    <tr>\n      <th>petal_length</th>\n      <td>petal_length</td>\n      <td>float64</td>\n      <td>0</td>\n      <td>0.0</td>\n    </tr>\n    <tr>\n      <th>petal_width</th>\n      <td>petal_width</td>\n      <td>float64</td>\n      <td>0</td>\n      <td>0.0</td>\n    </tr>\n    <tr>\n      <th>species</th>\n      <td>species</td>\n      <td>object</td>\n      <td>0</td>\n      <td>0.0</td>\n    </tr>\n  </tbody>\n</table>\n</div>"
     },
     "metadata": {},
     "execution_count": 16
    }
   ],
   "source": [
    "aux"
   ]
  },
  {
   "cell_type": "code",
   "execution_count": 27,
   "metadata": {},
   "outputs": [
    {
     "output_type": "execute_result",
     "data": {
      "text/plain": "sepal_length    sepal_length\nsepal_width      sepal_width\npetal_length    petal_length\npetal_width      petal_width\nName: colunas, dtype: object"
     },
     "metadata": {},
     "execution_count": 27
    }
   ],
   "source": [
    "aux[aux['tipos'] == \"float64\"]['colunas']"
   ]
  },
  {
   "cell_type": "code",
   "execution_count": 29,
   "metadata": {},
   "outputs": [
    {
     "output_type": "execute_result",
     "data": {
      "text/plain": "['sepal_length', 'sepal_width', 'petal_length', 'petal_width']"
     },
     "metadata": {},
     "execution_count": 29
    }
   ],
   "source": [
    "list(aux[aux['tipos'] == \"float64\"]['colunas'])"
   ]
  },
  {
   "cell_type": "code",
   "execution_count": 35,
   "metadata": {},
   "outputs": [
    {
     "output_type": "execute_result",
     "data": {
      "text/plain": "['sepal_length', 'sepal_width', 'petal_length', 'petal_width', 'species']"
     },
     "metadata": {},
     "execution_count": 35
    }
   ],
   "source": [
    "list(aux[aux['NA %'] == 0]['colunas'])"
   ]
  }
 ],
 "metadata": {
  "kernelspec": {
   "display_name": "Python 3",
   "language": "python",
   "name": "python3"
  },
  "language_info": {
   "codemirror_mode": {
    "name": "ipython",
    "version": 3
   },
   "file_extension": ".py",
   "mimetype": "text/x-python",
   "name": "python",
   "nbconvert_exporter": "python",
   "pygments_lexer": "ipython3",
   "version": "3.8.3-final"
  }
 },
 "nbformat": 4,
 "nbformat_minor": 2
}